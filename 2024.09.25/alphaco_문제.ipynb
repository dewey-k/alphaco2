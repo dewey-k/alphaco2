{
 "cells": [
  {
   "cell_type": "markdown",
   "id": "57145fb4-02e5-4662-ac38-3b90d6dae0e5",
   "metadata": {},
   "source": [
    "# 문제 1. \n",
    "- 변수 a에 정수 10을, 변수 b에 실수 5.5를 할당하고, 두 변수를 더한 결과의 데이터 타입을 출력하세요."
   ]
  },
  {
   "cell_type": "code",
   "execution_count": 1,
   "id": "bd1eb70d-e564-4f82-8619-5eca21cc13f0",
   "metadata": {},
   "outputs": [
    {
     "name": "stdout",
     "output_type": "stream",
     "text": [
      "<class 'float'>\n"
     ]
    }
   ],
   "source": [
    "a = int(10)\n",
    "b = float(5.5)\n",
    "print(type(a + b))"
   ]
  },
  {
   "cell_type": "markdown",
   "id": "e0f50968-ef17-4c64-ac01-9faf13bf9dc0",
   "metadata": {},
   "source": [
    "# 문제 2\n",
    "- 문자열 \"100\"과 정수 50을 더하려고 할 때 발생하는 오류를 설명하고, 이를 해결하는 방법을 보여주세요."
   ]
  },
  {
   "cell_type": "code",
   "execution_count": 4,
   "id": "63e524cb-192e-437d-a745-02d104faed33",
   "metadata": {},
   "outputs": [
    {
     "data": {
      "text/plain": [
       "150"
      ]
     },
     "execution_count": 4,
     "metadata": {},
     "output_type": "execute_result"
    }
   ],
   "source": [
    "# \"100\" + 50 는 타입 에러로 형변환 필요\n",
    "int(\"100\") + 50"
   ]
  },
  {
   "cell_type": "markdown",
   "id": "35147345-b3fb-4f2c-a54a-4c33390683f2",
   "metadata": {},
   "source": [
    "# 문제 3. \n",
    "- 리스트 [1, 2, 3]와 튜플 (4, 5, 6)을 더할 수 있는지 확인하고, 가능하다면 결과를 출력하세요."
   ]
  },
  {
   "cell_type": "code",
   "execution_count": 2,
   "id": "3b8e141e-359f-4061-914e-414f41d56a27",
   "metadata": {},
   "outputs": [
    {
     "name": "stdout",
     "output_type": "stream",
     "text": [
      "[1, 2, 3, 4, 5, 6]\n"
     ]
    }
   ],
   "source": [
    "a = [1, 2, 3]\n",
    "b = (4, 5, 6)\n",
    "# 더하기 불가능, 튜플을 리스트로 바꾸어 주어야 함 \n",
    "result = a + list(b)\n",
    "print(result)"
   ]
  },
  {
   "cell_type": "markdown",
   "id": "b32e71e7-cc86-4f53-a05b-6cc34e0e73ba",
   "metadata": {},
   "source": [
    "# 문제 4. \n",
    "- 변수 x에 None을 할당하고, 이를 다른 데이터 타입으로 변환할 수 있는지 확인하세요."
   ]
  },
  {
   "cell_type": "code",
   "execution_count": 17,
   "id": "b3c3671d-155a-460c-8c18-95e479b143b1",
   "metadata": {},
   "outputs": [
    {
     "data": {
      "text/plain": [
       "'None'"
      ]
     },
     "execution_count": 17,
     "metadata": {},
     "output_type": "execute_result"
    }
   ],
   "source": [
    "x = None\n",
    "# None type 으로 변환 불가능, str만 됨\n",
    "str(x)"
   ]
  },
  {
   "cell_type": "markdown",
   "id": "8ded1f62-75d6-4e24-a9f3-a90e092957ba",
   "metadata": {},
   "source": [
    "# 문제 5. \n",
    "- 변수 a에 정수 3을 할당하고, 이를 부동 소수점 숫자 3.0으로 자동 변환하도록 하세요."
   ]
  },
  {
   "cell_type": "code",
   "execution_count": 3,
   "id": "e4064dd3-2821-4325-9752-c1ed380e5f5d",
   "metadata": {},
   "outputs": [
    {
     "name": "stdout",
     "output_type": "stream",
     "text": [
      "3.0\n"
     ]
    }
   ],
   "source": [
    "a = 3\n",
    "print(float(a))"
   ]
  },
  {
   "cell_type": "markdown",
   "id": "6d40d1f0-063c-4bc3-bcf8-7d2bd55cf7eb",
   "metadata": {},
   "source": [
    "# 문제 6. \n",
    "- 변수 s에 문자열 \"Hello\"를 할당하고, 이를 3번 반복한 결과의 데이터 타입을 확인하세요."
   ]
  },
  {
   "cell_type": "code",
   "execution_count": 6,
   "id": "e01830dd-3b61-4929-b82c-853a088e751d",
   "metadata": {},
   "outputs": [
    {
     "name": "stdout",
     "output_type": "stream",
     "text": [
      "Hello\n",
      "Hello\n",
      "Hello\n",
      "HelloHelloHello\n",
      "<class 'str'>\n"
     ]
    }
   ],
   "source": [
    "s = \"Hello\"\n",
    "for i in range(3):\n",
    "    print(s)\n",
    "#정답\n",
    "result = s * 3 \n",
    "print(result)\n",
    "print(type(result))"
   ]
  },
  {
   "cell_type": "markdown",
   "id": "19023327-8560-4aa4-bf63-0de4391f4c17",
   "metadata": {},
   "source": [
    "# 문제 7. \n",
    "- 변수 x에 정수 7을 할당하고, 이를 문자열로 변환한 후 문자열 \"3\"과 더해보세요."
   ]
  },
  {
   "cell_type": "code",
   "execution_count": 8,
   "id": "a1d1f1bf-c9c1-47f5-8643-9ed3cda9894b",
   "metadata": {},
   "outputs": [
    {
     "name": "stdout",
     "output_type": "stream",
     "text": [
      "73\n"
     ]
    }
   ],
   "source": [
    "x = 7 \n",
    "a = str(x) + \"3\"\n",
    "print(a)"
   ]
  },
  {
   "cell_type": "markdown",
   "id": "ac1815d1-8d21-4144-8696-41a5029ab6d6",
   "metadata": {},
   "source": [
    "# 문제 8. \n",
    "- 변수 a에 True, 변수 b에 False를 할당하고, 두 값을 더한 결과와 그 데이터 타입을 확인하세요."
   ]
  },
  {
   "cell_type": "code",
   "execution_count": 26,
   "id": "ef7b815d-84e7-48d8-aa5b-96c4f6a70d88",
   "metadata": {},
   "outputs": [
    {
     "name": "stdout",
     "output_type": "stream",
     "text": [
      "1\n"
     ]
    },
    {
     "data": {
      "text/plain": [
       "int"
      ]
     },
     "execution_count": 26,
     "metadata": {},
     "output_type": "execute_result"
    }
   ],
   "source": [
    "a = True\n",
    "b = False\n",
    "print(a + b)\n",
    "type(a + b) "
   ]
  },
  {
   "cell_type": "markdown",
   "id": "5a1a36ab-b6c6-4db8-a866-f0616650fc07",
   "metadata": {},
   "source": [
    "# 문제 9. \n",
    "- 변수 a에 25를 할당하고, 이 값을 0.5로 나눈 결과와 그 데이터 타입을 확인하세요."
   ]
  },
  {
   "cell_type": "code",
   "execution_count": 9,
   "id": "106f5152-0388-42a2-9152-2c7e9d8990ef",
   "metadata": {},
   "outputs": [
    {
     "name": "stdout",
     "output_type": "stream",
     "text": [
      "50.0\n",
      "<class 'float'>\n"
     ]
    }
   ],
   "source": [
    "a = 25\n",
    "print(a / 0.5)\n",
    "print(type(a / 0.5))"
   ]
  },
  {
   "cell_type": "markdown",
   "id": "0d1febb9-486e-4e2b-837e-df8a6483aa29",
   "metadata": {},
   "source": [
    "# 문제 10. \n",
    "- 변수 text에 문자열 \"12345\"를 할당하고, 이를 정수형으로 변환한 후, 10을 더한 결과를 출력하세요."
   ]
  },
  {
   "cell_type": "code",
   "execution_count": 10,
   "id": "282c05f0-15b9-4345-832b-86ad77d2ba45",
   "metadata": {},
   "outputs": [
    {
     "name": "stdout",
     "output_type": "stream",
     "text": [
      "12355\n"
     ]
    }
   ],
   "source": [
    "text = '12345'\n",
    "print(int(text) + 10)"
   ]
  },
  {
   "cell_type": "markdown",
   "id": "ceaecb19-8b71-419e-810e-0585b7e82065",
   "metadata": {},
   "source": [
    "# 문제 11. \n",
    "- 리스트 [10, 20, 30, 40, 50]에서 가장 큰 값을 찾아서 출력하세요."
   ]
  },
  {
   "cell_type": "code",
   "execution_count": 11,
   "id": "bd8bf57c-41cd-4902-a359-6baf60c58bee",
   "metadata": {},
   "outputs": [
    {
     "name": "stdout",
     "output_type": "stream",
     "text": [
      "50\n"
     ]
    }
   ],
   "source": [
    "list = [10, 20, 30, 40, 50]\n",
    "print(max(list))\n",
    "\n",
    "#max_value = max(list)\n",
    "#print(max_value)"
   ]
  },
  {
   "cell_type": "markdown",
   "id": "fb5ce4e5-3851-4a94-9e79-8ac74d4b3ace",
   "metadata": {},
   "source": [
    "# 문제 12. \n",
    "- 리스트 [1, 2, 3, 4, 5]에서 모든 요소를 더한 결과를 출력하세요."
   ]
  },
  {
   "cell_type": "code",
   "execution_count": 12,
   "id": "bf3b13f5-28dc-4c57-8591-5e0ca1bd0664",
   "metadata": {},
   "outputs": [
    {
     "data": {
      "text/plain": [
       "15"
      ]
     },
     "execution_count": 12,
     "metadata": {},
     "output_type": "execute_result"
    }
   ],
   "source": [
    "list = [1, 2, 3, 4, 5]\n",
    "sum(list)\n",
    "\n",
    "#sum_value = sum(list)\n",
    "#print(sum_value)"
   ]
  },
  {
   "cell_type": "markdown",
   "id": "63e0e25c-abee-46f6-9e3a-2fcbb787f955",
   "metadata": {},
   "source": [
    "# 문제 13. \n",
    "- 튜플 (5, 10, 15, 20)에서 두 번째 요소를 출력하세요."
   ]
  },
  {
   "cell_type": "code",
   "execution_count": 16,
   "id": "4cdd6f91-ae55-4203-b185-a4a41f4c45ca",
   "metadata": {},
   "outputs": [
    {
     "name": "stdout",
     "output_type": "stream",
     "text": [
      "10\n"
     ]
    }
   ],
   "source": [
    "tuple = (5, 10, 15, 20)\n",
    "print(tuple[1])\n",
    "\n",
    "#second_element = tuple[1]\n",
    "#print(second_element)"
   ]
  },
  {
   "cell_type": "markdown",
   "id": "c3ff833f-3b33-4020-8f9f-6d24fe5c3107",
   "metadata": {},
   "source": [
    "# 문제 14. \n",
    "- 튜플 (1, 2, 3)와 (4, 5, 6)을 합쳐서 새로운 튜플을 만들고 출력하세요."
   ]
  },
  {
   "cell_type": "code",
   "execution_count": 19,
   "id": "edc79a41-0f49-4c58-a24d-d30ec46b8de3",
   "metadata": {},
   "outputs": [
    {
     "name": "stdout",
     "output_type": "stream",
     "text": [
      "(1, 2, 3, 4, 5, 6)\n",
      "<class 'tuple'>\n"
     ]
    }
   ],
   "source": [
    "tu1 = (1, 2, 3)\n",
    "tu2 = (4, 5, 6)\n",
    "a = tu1 + tu2\n",
    "print(a)\n",
    "print(type(a))"
   ]
  },
  {
   "cell_type": "markdown",
   "id": "b3ec17a7-724e-4d39-af1e-44a243dbdaa9",
   "metadata": {},
   "source": [
    "# 문제 15. \n",
    "- 딕셔너리 {'a': 1, 'b': 2, 'c': 3}에서 키 'b'의 값을 10으로 변경하고 출력하세요."
   ]
  },
  {
   "cell_type": "code",
   "execution_count": 44,
   "id": "7a2b82f3-ba5b-47c7-942d-064923ff7b39",
   "metadata": {},
   "outputs": [
    {
     "data": {
      "text/plain": [
       "{'a': 1, 'b': 10, 'c': 3}"
      ]
     },
     "execution_count": 44,
     "metadata": {},
     "output_type": "execute_result"
    }
   ],
   "source": [
    "my_dic = {\n",
    "    'a' : 1,\n",
    "    'b' : 2,\n",
    "    'c' : 3\n",
    "}\n",
    "my_dic['b'] = 10\n",
    "my_dic"
   ]
  },
  {
   "cell_type": "markdown",
   "id": "17490123-2062-4463-a1e2-9700dd2ac32f",
   "metadata": {},
   "source": [
    "# 문제 16.\n",
    "- 딕셔너리 {'name': 'Alice', 'age': 25, 'city': 'New York'}에서 모든 키를 출력하세요."
   ]
  },
  {
   "cell_type": "code",
   "execution_count": 48,
   "id": "67bf011a-6e4d-47b2-b76c-752033afa0b6",
   "metadata": {},
   "outputs": [
    {
     "data": {
      "text/plain": [
       "dict_keys(['name', 'age', 'city'])"
      ]
     },
     "execution_count": 48,
     "metadata": {},
     "output_type": "execute_result"
    }
   ],
   "source": [
    "dic = {\n",
    "    'name' : 'Alice',\n",
    "    'age' : 25,\n",
    "    'city' : 'New York'\n",
    "}\n",
    "\n",
    "dic.keys()"
   ]
  },
  {
   "cell_type": "markdown",
   "id": "4709442c-50a2-46dd-bf93-f894514f1c4c",
   "metadata": {},
   "source": [
    "# 문제 17. \n",
    "- while 루프를 사용하여 1부터 5까지의 숫자를 출력하세요."
   ]
  },
  {
   "cell_type": "code",
   "execution_count": 27,
   "id": "e87349a6-95e0-4efc-b36e-7a58ec94c77e",
   "metadata": {},
   "outputs": [
    {
     "name": "stdout",
     "output_type": "stream",
     "text": [
      "1\n",
      "2\n",
      "3\n",
      "4\n",
      "5\n",
      " \n",
      "1\n",
      "2\n",
      "3\n",
      "4\n",
      "5\n"
     ]
    }
   ],
   "source": [
    "i = 0\n",
    "\n",
    "while (i < 5):\n",
    "    i = i + 1 \n",
    "    print(i)\n",
    "\n",
    "print(\" \")\n",
    "\n",
    "i = 1 \n",
    "while i <= 5:\n",
    "    print(i)\n",
    "    i += 1"
   ]
  },
  {
   "cell_type": "markdown",
   "id": "56dddd10-7ac5-475e-9508-b21e4e12c0f9",
   "metadata": {},
   "source": [
    "# 문제 18. \n",
    "- while 루프를 사용하여 10부터 1까지 거꾸로 숫자를 출력하세요."
   ]
  },
  {
   "cell_type": "code",
   "execution_count": 25,
   "id": "de9a8140-3d3d-4dde-a4be-7accc05ae106",
   "metadata": {},
   "outputs": [
    {
     "name": "stdout",
     "output_type": "stream",
     "text": [
      "10\n",
      "9\n",
      "8\n",
      "7\n",
      "6\n",
      "5\n",
      "4\n",
      "3\n",
      "2\n",
      "1\n",
      " \n",
      "10\n",
      "9\n",
      "8\n",
      "7\n",
      "6\n",
      "5\n",
      "4\n",
      "3\n",
      "2\n",
      "1\n"
     ]
    }
   ],
   "source": [
    "i = 11\n",
    "while (i > 1):\n",
    "    i = i - 1\n",
    "    print(i)\n",
    "\n",
    "print(\" \")\n",
    "\n",
    "i=10\n",
    "while i >=1:\n",
    "    print(i)\n",
    "    i -= 1"
   ]
  },
  {
   "cell_type": "markdown",
   "id": "3e9cbe53-91b2-45b5-a51d-0c44cc097aa5",
   "metadata": {},
   "source": [
    "# 문제 19. \n",
    "- for 루프를 사용하여 리스트 [2, 4, 6, 8, 10]의 각 요소에 2를 곱한 값을 출력하세요."
   ]
  },
  {
   "cell_type": "code",
   "execution_count": 28,
   "id": "c0632916-4e2a-4dc1-bdb2-61ec871664a4",
   "metadata": {
    "scrolled": true
   },
   "outputs": [
    {
     "name": "stdout",
     "output_type": "stream",
     "text": [
      "[4, 8, 12, 16, 20]\n",
      " \n",
      "4\n",
      "8\n",
      "12\n",
      "16\n",
      "20\n"
     ]
    }
   ],
   "source": [
    "num = [2, 4, 6, 8, 10]\n",
    "result = [x * 2 for x in num]\n",
    "print(result)\n",
    "\n",
    "print(\" \")\n",
    "\n",
    "for n in num:\n",
    "    print(n * 2)"
   ]
  },
  {
   "cell_type": "markdown",
   "id": "0a2c30f3-d80c-4137-ac8d-488feb20668d",
   "metadata": {},
   "source": [
    "# 문제 20. \n",
    "- for 루프를 사용하여 문자열 \"Python\"의 각 문자를 출력하세요."
   ]
  },
  {
   "cell_type": "code",
   "execution_count": 29,
   "id": "e391faca-c722-4ba1-a9d6-e306a8532e3d",
   "metadata": {},
   "outputs": [
    {
     "name": "stdout",
     "output_type": "stream",
     "text": [
      "['P', 'y', 't', 'h', 'o', 'n']\n",
      " \n",
      "P\n",
      "y\n",
      "t\n",
      "h\n",
      "o\n",
      "n\n"
     ]
    }
   ],
   "source": [
    "a = \"Python\"\n",
    "result = [x for x in a]\n",
    "print(result)\n",
    "\n",
    "print(\" \")\n",
    "\n",
    "for char in a:\n",
    "    print(char)"
   ]
  },
  {
   "cell_type": "code",
   "execution_count": null,
   "id": "70d6e0eb-0aaf-45c4-9061-7cfc7e6622c2",
   "metadata": {},
   "outputs": [],
   "source": []
  }
 ],
 "metadata": {
  "kernelspec": {
   "display_name": "Python 3 (ipykernel)",
   "language": "python",
   "name": "python3"
  },
  "language_info": {
   "codemirror_mode": {
    "name": "ipython",
    "version": 3
   },
   "file_extension": ".py",
   "mimetype": "text/x-python",
   "name": "python",
   "nbconvert_exporter": "python",
   "pygments_lexer": "ipython3",
   "version": "3.12.6"
  }
 },
 "nbformat": 4,
 "nbformat_minor": 5
}
