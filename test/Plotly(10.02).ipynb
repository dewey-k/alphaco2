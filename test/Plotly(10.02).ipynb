{
 "cells": [
  {
   "cell_type": "markdown",
   "id": "aa37ecf4-4df4-4307-93fb-2b6aed85c866",
   "metadata": {},
   "source": [
    "24.10.02"
   ]
  },
  {
   "cell_type": "code",
   "execution_count": 2,
   "id": "be45b03b-3a87-418f-8fa6-df8d30719d7e",
   "metadata": {},
   "outputs": [
    {
     "name": "stderr",
     "output_type": "stream",
     "text": [
      "/Users/dewey/Desktop/alphaco2/venv/lib/python3.12/site-packages/openpyxl/styles/stylesheet.py:237: UserWarning: Workbook contains no default style, apply openpyxl's default\n",
      "  warn(\"Workbook contains no default style, apply openpyxl's default\")\n"
     ]
    },
    {
     "data": {
      "text/html": [
       "<div>\n",
       "<style scoped>\n",
       "    .dataframe tbody tr th:only-of-type {\n",
       "        vertical-align: middle;\n",
       "    }\n",
       "\n",
       "    .dataframe tbody tr th {\n",
       "        vertical-align: top;\n",
       "    }\n",
       "\n",
       "    .dataframe thead th {\n",
       "        text-align: right;\n",
       "    }\n",
       "</style>\n",
       "<table border=\"1\" class=\"dataframe\">\n",
       "  <thead>\n",
       "    <tr style=\"text-align: right;\">\n",
       "      <th></th>\n",
       "      <th>종가</th>\n",
       "      <th>대비</th>\n",
       "      <th>등락률</th>\n",
       "      <th>시가</th>\n",
       "      <th>고가</th>\n",
       "      <th>저가</th>\n",
       "      <th>거래량</th>\n",
       "      <th>거래대금</th>\n",
       "      <th>시가총액</th>\n",
       "      <th>상장주식수</th>\n",
       "    </tr>\n",
       "    <tr>\n",
       "      <th>일자</th>\n",
       "      <th></th>\n",
       "      <th></th>\n",
       "      <th></th>\n",
       "      <th></th>\n",
       "      <th></th>\n",
       "      <th></th>\n",
       "      <th></th>\n",
       "      <th></th>\n",
       "      <th></th>\n",
       "      <th></th>\n",
       "    </tr>\n",
       "  </thead>\n",
       "  <tbody>\n",
       "    <tr>\n",
       "      <th>2021/08/13</th>\n",
       "      <td>74400</td>\n",
       "      <td>-2600</td>\n",
       "      <td>-3.38</td>\n",
       "      <td>75800</td>\n",
       "      <td>76000</td>\n",
       "      <td>74100</td>\n",
       "      <td>61270643</td>\n",
       "      <td>4575267536355</td>\n",
       "      <td>444151821720000</td>\n",
       "      <td>5969782550</td>\n",
       "    </tr>\n",
       "    <tr>\n",
       "      <th>2021/08/12</th>\n",
       "      <td>77000</td>\n",
       "      <td>-1500</td>\n",
       "      <td>-1.91</td>\n",
       "      <td>77100</td>\n",
       "      <td>78200</td>\n",
       "      <td>76900</td>\n",
       "      <td>42365223</td>\n",
       "      <td>3276635421700</td>\n",
       "      <td>459673256350000</td>\n",
       "      <td>5969782550</td>\n",
       "    </tr>\n",
       "    <tr>\n",
       "      <th>2021/08/11</th>\n",
       "      <td>78500</td>\n",
       "      <td>-1700</td>\n",
       "      <td>-2.12</td>\n",
       "      <td>79600</td>\n",
       "      <td>79800</td>\n",
       "      <td>78500</td>\n",
       "      <td>30241137</td>\n",
       "      <td>2389977254924</td>\n",
       "      <td>468627930175000</td>\n",
       "      <td>5969782550</td>\n",
       "    </tr>\n",
       "  </tbody>\n",
       "</table>\n",
       "</div>"
      ],
      "text/plain": [
       "               종가    대비   등락률     시가     고가     저가       거래량           거래대금  \\\n",
       "일자                                                                            \n",
       "2021/08/13  74400 -2600 -3.38  75800  76000  74100  61270643  4575267536355   \n",
       "2021/08/12  77000 -1500 -1.91  77100  78200  76900  42365223  3276635421700   \n",
       "2021/08/11  78500 -1700 -2.12  79600  79800  78500  30241137  2389977254924   \n",
       "\n",
       "                       시가총액       상장주식수  \n",
       "일자                                       \n",
       "2021/08/13  444151821720000  5969782550  \n",
       "2021/08/12  459673256350000  5969782550  \n",
       "2021/08/11  468627930175000  5969782550  "
      ]
     },
     "execution_count": 2,
     "metadata": {},
     "output_type": "execute_result"
    }
   ],
   "source": [
    "import pandas as pd\n",
    "\n",
    "df = pd.read_excel(\"ss_ex_1.xlsx\" , index_col=0)\n",
    "df.head(3)"
   ]
  },
  {
   "cell_type": "code",
   "execution_count": 6,
   "id": "c66a3d6a-5f26-4fd3-970c-30c09dff53af",
   "metadata": {},
   "outputs": [
    {
     "name": "stdout",
     "output_type": "stream",
     "text": [
      "<class 'pandas.core.frame.DataFrame'>\n",
      "Index: 127 entries, 126 to 0\n",
      "Data columns (total 11 columns):\n",
      " #   Column  Non-Null Count  Dtype         \n",
      "---  ------  --------------  -----         \n",
      " 0   일자      127 non-null    datetime64[ns]\n",
      " 1   종가      127 non-null    int64         \n",
      " 2   대비      127 non-null    int64         \n",
      " 3   등락률     127 non-null    float64       \n",
      " 4   시가      127 non-null    int64         \n",
      " 5   고가      127 non-null    int64         \n",
      " 6   저가      127 non-null    int64         \n",
      " 7   거래량     127 non-null    int64         \n",
      " 8   거래대금    127 non-null    int64         \n",
      " 9   시가총액    127 non-null    int64         \n",
      " 10  상장주식수   127 non-null    int64         \n",
      "dtypes: datetime64[ns](1), float64(1), int64(9)\n",
      "memory usage: 11.9 KB\n"
     ]
    },
    {
     "name": "stderr",
     "output_type": "stream",
     "text": [
      "/Users/dewey/Desktop/alphaco2/venv/lib/python3.12/site-packages/openpyxl/styles/stylesheet.py:237: UserWarning: Workbook contains no default style, apply openpyxl's default\n",
      "  warn(\"Workbook contains no default style, apply openpyxl's default\")\n"
     ]
    }
   ],
   "source": [
    "df = pd.read_excel(\"ss_ex_1.xlsx\" , parse_dates=['일자'])\n",
    "df = df.sort_values('일자')\n",
    "df.info()"
   ]
  },
  {
   "cell_type": "code",
   "execution_count": 4,
   "id": "dd3792c8-4494-48f9-9f43-03313f549d42",
   "metadata": {},
   "outputs": [
    {
     "ename": "NameError",
     "evalue": "name 'df1' is not defined",
     "output_type": "error",
     "traceback": [
      "\u001b[0;31m---------------------------------------------------------------------------\u001b[0m",
      "\u001b[0;31mNameError\u001b[0m                                 Traceback (most recent call last)",
      "Cell \u001b[0;32mIn[4], line 1\u001b[0m\n\u001b[0;32m----> 1\u001b[0m \u001b[43mdf1\u001b[49m\u001b[38;5;241m.\u001b[39mhead(\u001b[38;5;241m1\u001b[39m)\n",
      "\u001b[0;31mNameError\u001b[0m: name 'df1' is not defined"
     ]
    }
   ],
   "source": [
    "df1.head(1)"
   ]
  },
  {
   "cell_type": "code",
   "execution_count": 5,
   "id": "9f775d49-e45e-4773-8ea8-70497eb71e45",
   "metadata": {},
   "outputs": [
    {
     "ename": "NameError",
     "evalue": "name 'df2' is not defined",
     "output_type": "error",
     "traceback": [
      "\u001b[0;31m---------------------------------------------------------------------------\u001b[0m",
      "\u001b[0;31mNameError\u001b[0m                                 Traceback (most recent call last)",
      "Cell \u001b[0;32mIn[5], line 1\u001b[0m\n\u001b[0;32m----> 1\u001b[0m df2\u001b[38;5;241m.\u001b[39mindex \u001b[38;5;241m=\u001b[39m pd\u001b[38;5;241m.\u001b[39mto_datetime(\u001b[43mdf2\u001b[49m\u001b[38;5;241m.\u001b[39mindex)\n\u001b[1;32m      2\u001b[0m df2\u001b[38;5;241m.\u001b[39mhead(\u001b[38;5;241m1\u001b[39m), \u001b[38;5;28mtype\u001b[39m(df2\u001b[38;5;241m.\u001b[39mindex)\n",
      "\u001b[0;31mNameError\u001b[0m: name 'df2' is not defined"
     ]
    }
   ],
   "source": [
    "df2.index = pd.to_datetime(df2.index)\n",
    "df2.head(1), type(df2.index)"
   ]
  },
  {
   "cell_type": "code",
   "execution_count": null,
   "id": "9b35103e-2564-488a-93a9-0c9c146bb568",
   "metadata": {},
   "outputs": [],
   "source": []
  }
 ],
 "metadata": {
  "kernelspec": {
   "display_name": "Python 3 (ipykernel)",
   "language": "python",
   "name": "python3"
  },
  "language_info": {
   "codemirror_mode": {
    "name": "ipython",
    "version": 3
   },
   "file_extension": ".py",
   "mimetype": "text/x-python",
   "name": "python",
   "nbconvert_exporter": "python",
   "pygments_lexer": "ipython3",
   "version": "3.12.6"
  }
 },
 "nbformat": 4,
 "nbformat_minor": 5
}
