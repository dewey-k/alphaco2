{
 "cells": [
  {
   "cell_type": "code",
   "execution_count": 49,
   "id": "d4aa4fec-a99a-4a34-9f41-cf40d351a8f9",
   "metadata": {},
   "outputs": [
    {
     "name": "stdout",
     "output_type": "stream",
     "text": [
      "<class 'pandas.core.frame.DataFrame'>\n",
      "RangeIndex: 3 entries, 0 to 2\n",
      "Data columns (total 3 columns):\n",
      " #   Column  Non-Null Count  Dtype \n",
      "---  ------  --------------  ----- \n",
      " 0   03/02   3 non-null      object\n",
      " 1   03/03   3 non-null      object\n",
      " 2   03/04   3 non-null      object\n",
      "dtypes: object(3)\n",
      "memory usage: 204.0+ bytes\n"
     ]
    }
   ],
   "source": [
    "import pandas as pd\n",
    "\n",
    "# 데이터프레임 생성\n",
    "data = [\n",
    "    [\"1,000\", \"1,100\", '1,510'],\n",
    "    [\"1,410\", \"1,420\", '1,790'],\n",
    "    [\"850\", \"900\", '1,185'],\n",
    "]\n",
    "columns = [\"03/02\", \"03/03\", \"03/04\"]\n",
    "df = pd.DataFrame(data=data, columns=columns)\n",
    "df.info()"
   ]
  },
  {
   "cell_type": "code",
   "execution_count": 34,
   "id": "1a1cfc48-2514-4518-88e3-5c979b5cafbd",
   "metadata": {},
   "outputs": [
    {
     "data": {
      "text/plain": [
       "1000"
      ]
     },
     "execution_count": 34,
     "metadata": {},
     "output_type": "execute_result"
    }
   ],
   "source": [
    "x = \"1,000\"\n",
    "int(x. replace(',', ''))"
   ]
  },
  {
   "cell_type": "code",
   "execution_count": null,
   "id": "ae69a55c-a82c-4fd7-909a-16c5524a2f21",
   "metadata": {},
   "outputs": [],
   "source": []
  },
  {
   "cell_type": "code",
   "execution_count": 25,
   "id": "a654cfd4-9328-450b-a0e8-0ee4df2a0119",
   "metadata": {},
   "outputs": [
    {
     "data": {
      "text/html": [
       "<div>\n",
       "<style scoped>\n",
       "    .dataframe tbody tr th:only-of-type {\n",
       "        vertical-align: middle;\n",
       "    }\n",
       "\n",
       "    .dataframe tbody tr th {\n",
       "        vertical-align: top;\n",
       "    }\n",
       "\n",
       "    .dataframe thead th {\n",
       "        text-align: right;\n",
       "    }\n",
       "</style>\n",
       "<table border=\"1\" class=\"dataframe\">\n",
       "  <thead>\n",
       "    <tr style=\"text-align: right;\">\n",
       "      <th></th>\n",
       "      <th>03/02</th>\n",
       "      <th>03/03</th>\n",
       "      <th>03/04</th>\n",
       "    </tr>\n",
       "  </thead>\n",
       "  <tbody>\n",
       "    <tr>\n",
       "      <th>0</th>\n",
       "      <td>1000</td>\n",
       "      <td>1100</td>\n",
       "      <td>1510</td>\n",
       "    </tr>\n",
       "    <tr>\n",
       "      <th>1</th>\n",
       "      <td>1410</td>\n",
       "      <td>1420</td>\n",
       "      <td>1790</td>\n",
       "    </tr>\n",
       "    <tr>\n",
       "      <th>2</th>\n",
       "      <td>850</td>\n",
       "      <td>900</td>\n",
       "      <td>1185</td>\n",
       "    </tr>\n",
       "  </tbody>\n",
       "</table>\n",
       "</div>"
      ],
      "text/plain": [
       "   03/02  03/03  03/04\n",
       "0   1000   1100   1510\n",
       "1   1410   1420   1790\n",
       "2    850    900   1185"
      ]
     },
     "execution_count": 25,
     "metadata": {},
     "output_type": "execute_result"
    }
   ],
   "source": [
    "# 쉼표 제거 후 int로 전환하는 람다함수\n",
    "\n",
    "df = df.map(lambda x: int(x.replace(',','')) if isinstance(x, str) else x)\n",
    "df"
   ]
  },
  {
   "cell_type": "code",
   "execution_count": 38,
   "id": "a300fd05-1793-48af-a770-ea17ad8698dd",
   "metadata": {},
   "outputs": [
    {
     "data": {
      "text/html": [
       "<div>\n",
       "<style scoped>\n",
       "    .dataframe tbody tr th:only-of-type {\n",
       "        vertical-align: middle;\n",
       "    }\n",
       "\n",
       "    .dataframe tbody tr th {\n",
       "        vertical-align: top;\n",
       "    }\n",
       "\n",
       "    .dataframe thead th {\n",
       "        text-align: right;\n",
       "    }\n",
       "</style>\n",
       "<table border=\"1\" class=\"dataframe\">\n",
       "  <thead>\n",
       "    <tr style=\"text-align: right;\">\n",
       "      <th></th>\n",
       "      <th>03/02</th>\n",
       "      <th>03/03</th>\n",
       "      <th>03/04</th>\n",
       "    </tr>\n",
       "  </thead>\n",
       "  <tbody>\n",
       "    <tr>\n",
       "      <th>0</th>\n",
       "      <td>1000</td>\n",
       "      <td>1100</td>\n",
       "      <td>1510</td>\n",
       "    </tr>\n",
       "    <tr>\n",
       "      <th>1</th>\n",
       "      <td>1410</td>\n",
       "      <td>1420</td>\n",
       "      <td>1790</td>\n",
       "    </tr>\n",
       "    <tr>\n",
       "      <th>2</th>\n",
       "      <td>850</td>\n",
       "      <td>900</td>\n",
       "      <td>1185</td>\n",
       "    </tr>\n",
       "  </tbody>\n",
       "</table>\n",
       "</div>"
      ],
      "text/plain": [
       "   03/02  03/03  03/04\n",
       "0   1000   1100   1510\n",
       "1   1410   1420   1790\n",
       "2    850    900   1185"
      ]
     },
     "execution_count": 38,
     "metadata": {},
     "output_type": "execute_result"
    }
   ],
   "source": [
    "# 쉼표 제거 후 int로 전환하는 함수 정의\n",
    "def rm_comma_and_convert_to_int(value):\n",
    "  if isinstance(value, str):\n",
    "    return int(value.replace(',', ''))\n",
    "  return value\n",
    "\n",
    "df = df.map(rm_comma_and_convert_to_int)\n",
    "df"
   ]
  },
  {
   "cell_type": "code",
   "execution_count": 30,
   "id": "bbed672c-907c-407f-b8ec-7c99be0807c5",
   "metadata": {},
   "outputs": [
    {
     "name": "stdout",
     "output_type": "stream",
     "text": [
      "<class 'pandas.core.frame.DataFrame'>\n",
      "RangeIndex: 3 entries, 0 to 2\n",
      "Data columns (total 3 columns):\n",
      " #   Column  Non-Null Count  Dtype\n",
      "---  ------  --------------  -----\n",
      " 0   03/02   3 non-null      int64\n",
      " 1   03/03   3 non-null      int64\n",
      " 2   03/04   3 non-null      int64\n",
      "dtypes: int64(3)\n",
      "memory usage: 204.0 bytes\n"
     ]
    }
   ],
   "source": [
    "df.info()"
   ]
  },
  {
   "cell_type": "code",
   "execution_count": 37,
   "id": "15cdaa76-34f7-41d6-b7ef-7235a16c20ac",
   "metadata": {},
   "outputs": [
    {
     "data": {
      "text/html": [
       "<div>\n",
       "<style scoped>\n",
       "    .dataframe tbody tr th:only-of-type {\n",
       "        vertical-align: middle;\n",
       "    }\n",
       "\n",
       "    .dataframe tbody tr th {\n",
       "        vertical-align: top;\n",
       "    }\n",
       "\n",
       "    .dataframe thead th {\n",
       "        text-align: right;\n",
       "    }\n",
       "</style>\n",
       "<table border=\"1\" class=\"dataframe\">\n",
       "  <thead>\n",
       "    <tr style=\"text-align: right;\">\n",
       "      <th></th>\n",
       "      <th>ACC_YEAR</th>\n",
       "      <th>SGG_CD</th>\n",
       "      <th>SGG_NM</th>\n",
       "      <th>BJDONG_CD</th>\n",
       "      <th>BJDONG_NM</th>\n",
       "      <th>LAND_GBN</th>\n",
       "      <th>LAND_GBN_NM</th>\n",
       "      <th>BONBEON</th>\n",
       "      <th>BUBEON</th>\n",
       "      <th>BLDG_NM</th>\n",
       "      <th>...</th>\n",
       "      <th>OBJ_AMT</th>\n",
       "      <th>BLDG_AREA</th>\n",
       "      <th>TOT_AREA</th>\n",
       "      <th>FLOOR</th>\n",
       "      <th>RIGHT_GBN</th>\n",
       "      <th>CNTL_YMD</th>\n",
       "      <th>BUILD_YEAR</th>\n",
       "      <th>HOUSE_TYPE</th>\n",
       "      <th>REQ_GBN</th>\n",
       "      <th>RDEALER_LAWDNM</th>\n",
       "    </tr>\n",
       "  </thead>\n",
       "  <tbody>\n",
       "    <tr>\n",
       "      <th>0</th>\n",
       "      <td>2023</td>\n",
       "      <td>11650</td>\n",
       "      <td>서초구</td>\n",
       "      <td>10800</td>\n",
       "      <td>서초동</td>\n",
       "      <td>1.0</td>\n",
       "      <td>대지</td>\n",
       "      <td>1328.0</td>\n",
       "      <td>11.0</td>\n",
       "      <td>대우도씨에빛2</td>\n",
       "      <td>...</td>\n",
       "      <td>38500</td>\n",
       "      <td>38.81</td>\n",
       "      <td>50.85</td>\n",
       "      <td>14.0</td>\n",
       "      <td>NaN</td>\n",
       "      <td>NaN</td>\n",
       "      <td>2005.0</td>\n",
       "      <td>오피스텔</td>\n",
       "      <td>중개거래</td>\n",
       "      <td>서울 서초구</td>\n",
       "    </tr>\n",
       "    <tr>\n",
       "      <th>1</th>\n",
       "      <td>2023</td>\n",
       "      <td>11620</td>\n",
       "      <td>관악구</td>\n",
       "      <td>10200</td>\n",
       "      <td>신림동</td>\n",
       "      <td>1.0</td>\n",
       "      <td>대지</td>\n",
       "      <td>1567.0</td>\n",
       "      <td>25.0</td>\n",
       "      <td>태성휴빌3차</td>\n",
       "      <td>...</td>\n",
       "      <td>17200</td>\n",
       "      <td>24.76</td>\n",
       "      <td>15.99</td>\n",
       "      <td>6.0</td>\n",
       "      <td>NaN</td>\n",
       "      <td>NaN</td>\n",
       "      <td>2015.0</td>\n",
       "      <td>연립다세대</td>\n",
       "      <td>직거래</td>\n",
       "      <td>NaN</td>\n",
       "    </tr>\n",
       "    <tr>\n",
       "      <th>2</th>\n",
       "      <td>2023</td>\n",
       "      <td>11530</td>\n",
       "      <td>구로구</td>\n",
       "      <td>10200</td>\n",
       "      <td>구로동</td>\n",
       "      <td>1.0</td>\n",
       "      <td>대지</td>\n",
       "      <td>44.0</td>\n",
       "      <td>8.0</td>\n",
       "      <td>비즈트위트 오렌지</td>\n",
       "      <td>...</td>\n",
       "      <td>12000</td>\n",
       "      <td>17.81</td>\n",
       "      <td>26.91</td>\n",
       "      <td>18.0</td>\n",
       "      <td>NaN</td>\n",
       "      <td>NaN</td>\n",
       "      <td>2013.0</td>\n",
       "      <td>오피스텔</td>\n",
       "      <td>직거래</td>\n",
       "      <td>NaN</td>\n",
       "    </tr>\n",
       "    <tr>\n",
       "      <th>3</th>\n",
       "      <td>2023</td>\n",
       "      <td>11410</td>\n",
       "      <td>서대문구</td>\n",
       "      <td>11800</td>\n",
       "      <td>홍은동</td>\n",
       "      <td>NaN</td>\n",
       "      <td>NaN</td>\n",
       "      <td>NaN</td>\n",
       "      <td>NaN</td>\n",
       "      <td>NaN</td>\n",
       "      <td>...</td>\n",
       "      <td>45000</td>\n",
       "      <td>39.67</td>\n",
       "      <td>142.00</td>\n",
       "      <td>0.0</td>\n",
       "      <td>NaN</td>\n",
       "      <td>NaN</td>\n",
       "      <td>1988.0</td>\n",
       "      <td>단독다가구</td>\n",
       "      <td>중개거래</td>\n",
       "      <td>서울 서대문구</td>\n",
       "    </tr>\n",
       "    <tr>\n",
       "      <th>4</th>\n",
       "      <td>2023</td>\n",
       "      <td>11380</td>\n",
       "      <td>은평구</td>\n",
       "      <td>11400</td>\n",
       "      <td>진관동</td>\n",
       "      <td>1.0</td>\n",
       "      <td>대지</td>\n",
       "      <td>100.0</td>\n",
       "      <td>3.0</td>\n",
       "      <td>아이파크 포레스트 게이트</td>\n",
       "      <td>...</td>\n",
       "      <td>14400</td>\n",
       "      <td>24.91</td>\n",
       "      <td>35.78</td>\n",
       "      <td>24.0</td>\n",
       "      <td>NaN</td>\n",
       "      <td>NaN</td>\n",
       "      <td>2013.0</td>\n",
       "      <td>오피스텔</td>\n",
       "      <td>중개거래</td>\n",
       "      <td>서울 은평구</td>\n",
       "    </tr>\n",
       "  </tbody>\n",
       "</table>\n",
       "<p>5 rows × 21 columns</p>\n",
       "</div>"
      ],
      "text/plain": [
       "   ACC_YEAR  SGG_CD SGG_NM  BJDONG_CD BJDONG_NM  LAND_GBN LAND_GBN_NM  \\\n",
       "0      2023   11650    서초구      10800       서초동       1.0          대지   \n",
       "1      2023   11620    관악구      10200       신림동       1.0          대지   \n",
       "2      2023   11530    구로구      10200       구로동       1.0          대지   \n",
       "3      2023   11410   서대문구      11800       홍은동       NaN         NaN   \n",
       "4      2023   11380    은평구      11400       진관동       1.0          대지   \n",
       "\n",
       "   BONBEON  BUBEON        BLDG_NM  ...  OBJ_AMT  BLDG_AREA  TOT_AREA  FLOOR  \\\n",
       "0   1328.0    11.0        대우도씨에빛2  ...    38500      38.81     50.85   14.0   \n",
       "1   1567.0    25.0         태성휴빌3차  ...    17200      24.76     15.99    6.0   \n",
       "2     44.0     8.0      비즈트위트 오렌지  ...    12000      17.81     26.91   18.0   \n",
       "3      NaN     NaN            NaN  ...    45000      39.67    142.00    0.0   \n",
       "4    100.0     3.0  아이파크 포레스트 게이트  ...    14400      24.91     35.78   24.0   \n",
       "\n",
       "   RIGHT_GBN CNTL_YMD  BUILD_YEAR  HOUSE_TYPE REQ_GBN RDEALER_LAWDNM  \n",
       "0        NaN      NaN      2005.0        오피스텔    중개거래         서울 서초구  \n",
       "1        NaN      NaN      2015.0       연립다세대     직거래            NaN  \n",
       "2        NaN      NaN      2013.0        오피스텔     직거래            NaN  \n",
       "3        NaN      NaN      1988.0       단독다가구    중개거래        서울 서대문구  \n",
       "4        NaN      NaN      2013.0        오피스텔    중개거래         서울 은평구  \n",
       "\n",
       "[5 rows x 21 columns]"
      ]
     },
     "execution_count": 37,
     "metadata": {},
     "output_type": "execute_result"
    }
   ],
   "source": [
    "import pandas as pd\n",
    "\n",
    "csv_df = pd.read_csv('seoul_real_estate.csv')\n",
    "csv_df.head()"
   ]
  },
  {
   "cell_type": "code",
   "execution_count": 44,
   "id": "6002a94e-7102-4256-b347-f6b77fded701",
   "metadata": {},
   "outputs": [
    {
     "name": "stdout",
     "output_type": "stream",
     "text": [
      "1000\n"
     ]
    }
   ],
   "source": [
    "# 쉼표를 제거하고 int로 변환하는 함수 정의 \n",
    "\n",
    "# x = \"1,000\"\n",
    "# int(x.replace(\",\", \"\"))\n",
    "\n",
    "def rm_comma(x):\n",
    "    return int(x.replace(\",\", \"\"))\n",
    "\n",
    "y = \"1,000\"\n",
    "print(rm_comma(y))"
   ]
  },
  {
   "cell_type": "code",
   "execution_count": 50,
   "id": "5d0b0757-167f-4401-9a32-6d888b0274e3",
   "metadata": {},
   "outputs": [
    {
     "name": "stdout",
     "output_type": "stream",
     "text": [
      "<class 'pandas.core.frame.DataFrame'>\n",
      "RangeIndex: 3 entries, 0 to 2\n",
      "Data columns (total 3 columns):\n",
      " #   Column  Non-Null Count  Dtype \n",
      "---  ------  --------------  ----- \n",
      " 0   03/02   3 non-null      int64 \n",
      " 1   03/03   3 non-null      int64 \n",
      " 2   03/04   3 non-null      object\n",
      "dtypes: int64(2), object(1)\n",
      "memory usage: 204.0+ bytes\n"
     ]
    }
   ],
   "source": [
    "# 이미 int 일 때는 오류 뜸\n",
    "df[\"03/02\"] = df[\"03/02\"].apply(rm_comma)\n",
    "df[\"03/03\"] = df[\"03/03\"].apply(rm_comma)\n",
    "df.info()"
   ]
  },
  {
   "cell_type": "code",
   "execution_count": null,
   "id": "e2bf2bee-59de-435e-b4ae-3425aeb2a734",
   "metadata": {},
   "outputs": [],
   "source": []
  }
 ],
 "metadata": {
  "kernelspec": {
   "display_name": "Python 3 (ipykernel)",
   "language": "python",
   "name": "python3"
  },
  "language_info": {
   "codemirror_mode": {
    "name": "ipython",
    "version": 3
   },
   "file_extension": ".py",
   "mimetype": "text/x-python",
   "name": "python",
   "nbconvert_exporter": "python",
   "pygments_lexer": "ipython3",
   "version": "3.12.6"
  }
 },
 "nbformat": 4,
 "nbformat_minor": 5
}
