{
 "cells": [
  {
   "cell_type": "markdown",
   "id": "04d51887-a08e-422a-8f98-523ee1cbe298",
   "metadata": {},
   "source": [
    "# 2024.09.25 Python 활용"
   ]
  },
  {
   "cell_type": "code",
   "execution_count": 1,
   "id": "30a00407-14a2-446d-8be9-2b888f05b8d8",
   "metadata": {},
   "outputs": [
    {
     "name": "stdout",
     "output_type": "stream",
     "text": [
      "2.1.1\n",
      "2.2.3\n",
      "3.9.2\n",
      "0.13.2\n",
      "1.14.1\n",
      "1.5.2\n"
     ]
    }
   ],
   "source": [
    "import numpy as np\n",
    "import pandas as pd\n",
    "import matplotlib as mpl\n",
    "import seaborn as sb\n",
    "import scipy as scp\n",
    "import sklearn\n",
    "\n",
    "print(np.__version__)\n",
    "print(pd.__version__)\n",
    "print(mpl.__version__)\n",
    "print(sb.__version__)\n",
    "print(scp.__version__)\n",
    "print(sklearn.__version__)"
   ]
  },
  {
   "cell_type": "markdown",
   "id": "6ff7381e-d180-4e3a-88c7-a50b087e50bc",
   "metadata": {},
   "source": [
    "# 제어문 & 반복문"
   ]
  },
  {
   "cell_type": "code",
   "execution_count": 8,
   "id": "839cdc8b-d8d3-484f-a30a-ae7a679906e6",
   "metadata": {},
   "outputs": [
    {
     "name": "stdin",
     "output_type": "stream",
     "text": [
      "성적을 입력하세요. 93\n"
     ]
    },
    {
     "name": "stdout",
     "output_type": "stream",
     "text": [
      "Pass\n"
     ]
    }
   ],
   "source": [
    "x = int(input('성적을 입력하세요.'))\n",
    "if x >= 90: # 조건문 끝에 :를 붙여줘야함\n",
    "    print(\"Pass\") # 조건문 작성할 때 탭 누르기"
   ]
  },
  {
   "cell_type": "markdown",
   "id": "0e651233-f87a-44ff-9c4b-e6598708573e",
   "metadata": {},
   "source": [
    "## 단일 조건 및 그 외 조건에 따른 분기"
   ]
  },
  {
   "cell_type": "code",
   "execution_count": 10,
   "id": "0fd235b7-a2da-46b6-9fbd-043ea00e6938",
   "metadata": {},
   "outputs": [
    {
     "name": "stdin",
     "output_type": "stream",
     "text": [
      "성적을 입력하세요. 85\n"
     ]
    },
    {
     "name": "stdout",
     "output_type": "stream",
     "text": [
      "Fail\n"
     ]
    }
   ],
   "source": [
    "x = int(input('성적을 입력하세요.'))\n",
    "if x >= 90: # 조건문 끝에 :를 붙여줘야함\n",
    "    print(\"Pass\") # 조건문 작성할 때 탭 누르기\n",
    "else: # 그 외 조건\n",
    "    print(\"Fail\")"
   ]
  },
  {
   "cell_type": "markdown",
   "id": "e31ade40-99a3-4ec5-b917-b53c660ef464",
   "metadata": {},
   "source": [
    "### 합격/불합격 시나리오\n",
    "시나리오 1.\n",
    "> 문제 정의\n",
    "\n",
    "> 점수가 90점 이상이면 합격, 그 외는 불합격\n",
    "\n",
    "시나리오 2.\n",
    "> 문제정의\n",
    "\n",
    "> 점수가 90점 이상이면 합격,\n",
    "\n",
    "> 점수가 80점 이상이면 조건부 합격,\n",
    "\n",
    "> 그 외는 불합격\n",
    "\n",
    "시나리오 잘 짜려면 다이어그램 그리는 습관 들여야함"
   ]
  },
  {
   "cell_type": "markdown",
   "id": "71b7ec67-9cc5-413f-8e41-26171987ed1f",
   "metadata": {},
   "source": [
    "## 여러 조건에 따른 분기"
   ]
  },
  {
   "cell_type": "code",
   "execution_count": 11,
   "id": "cdc8ae15-5329-4d5c-8bda-73ee7844844b",
   "metadata": {},
   "outputs": [
    {
     "name": "stdin",
     "output_type": "stream",
     "text": [
      "성적을 입력하세요. 80\n"
     ]
    },
    {
     "name": "stdout",
     "output_type": "stream",
     "text": [
      "조건부 합격\n"
     ]
    }
   ],
   "source": [
    "x = int(input('성적을 입력하세요.'))\n",
    "if x >= 90: # 조건문 끝에 :를 붙여줘야함\n",
    "    print(\"Pass\") # 조건문 작성할 때 탭 누르기\n",
    "elif (x>=80) and (x<90):\n",
    "    print(\"조건부 합격\")\n",
    "else: # 그 외 조건\n",
    "    print(\"Fail\")"
   ]
  },
  {
   "cell_type": "markdown",
   "id": "5a06e97a-3a02-40cb-881a-43ac1c740b33",
   "metadata": {},
   "source": [
    "### elif 조건문만 떼서 원하는 값 넣어 테스트하기"
   ]
  },
  {
   "cell_type": "code",
   "execution_count": 14,
   "id": "14c9f2e1-68a5-4d69-b2af-123b56a3c90b",
   "metadata": {},
   "outputs": [
    {
     "name": "stdout",
     "output_type": "stream",
     "text": [
      "True\n",
      "조건부 합격\n"
     ]
    }
   ],
   "source": [
    "x=88\n",
    "print (x>=80) and (x<90)\n",
    "if (x>=80) and (x<90):\n",
    "    print(\"조건부 합격\")"
   ]
  },
  {
   "cell_type": "markdown",
   "id": "ba88f79b-86dc-41fb-a6b5-acd286ba4cb1",
   "metadata": {},
   "source": [
    "## 중첩 조건에 따른 분기\n",
    "- 시나리오\n",
    "- 90점 넘으면 합격, 그 중 100점은 장학금 지급\n",
    "- 80점 이상은 조건부 합격\n",
    "- 그 외는 불합격"
   ]
  },
  {
   "cell_type": "code",
   "execution_count": 15,
   "id": "59cfe0a2-dbb6-4696-91a2-a2539c27d432",
   "metadata": {},
   "outputs": [
    {
     "name": "stdin",
     "output_type": "stream",
     "text": [
      "성적을 입력하세요. 100\n"
     ]
    },
    {
     "name": "stdout",
     "output_type": "stream",
     "text": [
      "장학금 지급\n"
     ]
    }
   ],
   "source": [
    "x = int(input('성적을 입력하세요.'))\n",
    "if x >= 90: # 조건문 끝에 :를 붙여줘야함\n",
    "    if x == 100:\n",
    "        print(\"장학금 지급\")\n",
    "    else:\n",
    "        print(\"Pass\") # 조건문 작성할 때 탭 누르기\n",
    "        \n",
    "elif (x>=80) and (x<90):\n",
    "    print(\"조건부 합격\")\n",
    "\n",
    "else: # 그 외 조건\n",
    "    print(\"Fail\")"
   ]
  },
  {
   "cell_type": "markdown",
   "id": "64451d15-11c7-4a92-b92b-24f7a0457d51",
   "metadata": {},
   "source": [
    "# 반복문\n",
    "- 똑같은 일을 계속해서 반복해야할 때"
   ]
  },
  {
   "cell_type": "markdown",
   "id": "a9c258ea-3a96-4650-b139-e01ab1a57b60",
   "metadata": {},
   "source": [
    "## for문"
   ]
  },
  {
   "cell_type": "code",
   "execution_count": 22,
   "id": "7e8130ef-6007-406c-92aa-ae9e856c9094",
   "metadata": {},
   "outputs": [
    {
     "name": "stdout",
     "output_type": "stream",
     "text": [
      "안녕\n",
      "안녕\n",
      "안녕\n",
      "안녕\n",
      "안녕\n"
     ]
    }
   ],
   "source": [
    "for i in range(5): # i는 임의 변수, 콜론 사용해야함\n",
    "    print(\"안녕\")"
   ]
  },
  {
   "cell_type": "code",
   "execution_count": 28,
   "id": "6c49fdfb-0627-4b2c-9bd9-da54047eb3ad",
   "metadata": {},
   "outputs": [
    {
     "name": "stdout",
     "output_type": "stream",
     "text": [
      "False\n",
      "True\n",
      "True\n"
     ]
    }
   ],
   "source": [
    "# 시퀀스 자료형이 range 대신에 들어갈 수 있음\n",
    "from collections.abc import Sequence\n",
    "\n",
    "my_num = 100\n",
    "my_list = [1, 2, 3]\n",
    "my_string = \"hello\"\n",
    "\n",
    "is_num = isinstance(my_num, Sequence)\n",
    "is_list = isinstance(my_list, Sequence)\n",
    "is_string = isinstance(my_string, Sequence)\n",
    "\n",
    "print(is_num)\n",
    "print(is_list)\n",
    "print(is_string)"
   ]
  },
  {
   "cell_type": "code",
   "execution_count": 27,
   "id": "6a0c997e-bde1-474f-aead-3d8b29e590fb",
   "metadata": {},
   "outputs": [
    {
     "name": "stdout",
     "output_type": "stream",
     "text": [
      "1\n",
      "2\n",
      "3\n",
      " \n",
      "h\n",
      "e\n",
      "l\n",
      "l\n",
      "o\n"
     ]
    }
   ],
   "source": [
    "for i in my_list:\n",
    "    print(i)\n",
    "    \n",
    "print(\" \")\n",
    "\n",
    "for j in my_string:\n",
    "    print(j)"
   ]
  },
  {
   "cell_type": "code",
   "execution_count": 29,
   "id": "997d6ada-2dae-4cad-9ec2-a4dce414a9ec",
   "metadata": {},
   "outputs": [
    {
     "data": {
      "text/plain": [
       "[0, 1, 2]"
      ]
     },
     "execution_count": 29,
     "metadata": {},
     "output_type": "execute_result"
    }
   ],
   "source": [
    "list(range(3))"
   ]
  },
  {
   "cell_type": "markdown",
   "id": "369a6e13-64dd-43f2-a41d-f12e6946f05d",
   "metadata": {},
   "source": [
    "## 중첩 for문\n",
    "- 구구단 중첩 for문 만들기 GPT에게 질문\n"
   ]
  },
  {
   "cell_type": "code",
   "execution_count": 36,
   "id": "689d6884-8abf-4ed8-995d-050a28d38f7a",
   "metadata": {},
   "outputs": [
    {
     "name": "stdout",
     "output_type": "stream",
     "text": [
      "x y\n",
      "x1\n",
      "x1 y1\n",
      "x1 y2\n",
      "y 반복문 종료\n",
      "x2\n",
      "x2 y1\n",
      "x2 y2\n",
      "y 반복문 종료\n"
     ]
    }
   ],
   "source": [
    "x_list = [\"x1\", \"x2\"]\n",
    "y_list = [\"y1\", \"y2\"]\n",
    "\n",
    "\n",
    "# 원하는 결과물 \n",
    "# x1, y1\n",
    "# x1, y2\n",
    "# x2, y1\n",
    "# x2, y2\n",
    "\n",
    "print(\"x y\")\n",
    "for x in x_list:\n",
    "    print(x)\n",
    "    for y in y_list:\n",
    "        print(x,y)\n",
    "    print(\"y 반복문 종료\")"
   ]
  },
  {
   "cell_type": "markdown",
   "id": "13f42926-396b-4b8c-aa79-6e779879c21c",
   "metadata": {},
   "source": [
    "## 여러 개의 리스트 다루기"
   ]
  },
  {
   "cell_type": "code",
   "execution_count": 39,
   "id": "40dda802-1163-4485-b255-50b6aba5bea5",
   "metadata": {},
   "outputs": [
    {
     "name": "stdout",
     "output_type": "stream",
     "text": [
      "0\n",
      "1\n",
      "2\n",
      "3\n"
     ]
    }
   ],
   "source": [
    "names = ['James', 'Robert', 'Lisa', 'Mary']\n",
    "scores = [95, 96, 97, 94]\n",
    "\n",
    "#idx : index number\n",
    "for idx in range(len(names)):\n",
    "    print(idx)"
   ]
  },
  {
   "cell_type": "code",
   "execution_count": 42,
   "id": "711ff7ce-3ad3-4b99-b2a8-f2c0bba35635",
   "metadata": {},
   "outputs": [
    {
     "name": "stdout",
     "output_type": "stream",
     "text": [
      "James 95\n",
      "James 96\n",
      "James 97\n",
      "James 94\n"
     ]
    }
   ],
   "source": [
    "names = ['James', 'Robert', 'Lisa', 'Mary']\n",
    "scores = [95, 96, 97, 94]\n",
    "\n",
    "print(names[0], scores[0])\n",
    "print(names[0], scores[1])\n",
    "print(names[0], scores[2])\n",
    "print(names[0], scores[3])"
   ]
  },
  {
   "cell_type": "code",
   "execution_count": 41,
   "id": "235d1d82-d4d7-46af-ad5e-6b324d9dad60",
   "metadata": {},
   "outputs": [
    {
     "name": "stdout",
     "output_type": "stream",
     "text": [
      "James 95\n",
      "Robert 96\n",
      "Lisa 97\n",
      "Mary 94\n"
     ]
    }
   ],
   "source": [
    "for idx in range(len(names)):\n",
    "    # print(idx)\n",
    "    print(names[idx], scores[idx])"
   ]
  },
  {
   "cell_type": "code",
   "execution_count": 47,
   "id": "27bbea4c-e8fc-428a-9c04-a7211a74f300",
   "metadata": {},
   "outputs": [
    {
     "name": "stdout",
     "output_type": "stream",
     "text": [
      "James 95\n",
      "Robert 96\n",
      "Lisa 97\n",
      "Mary 94\n",
      " \n",
      "James 95\n",
      "Robert 96\n",
      "Lisa 97\n",
      "Mary 94\n",
      " \n",
      "James 95\n",
      "Robert 96\n",
      "Lisa 97\n",
      "Mary 94\n"
     ]
    }
   ],
   "source": [
    "#여러가지 반복문 작성 방법\n",
    "names = ['James', 'Robert', 'Lisa', 'Mary']\n",
    "scores = [95, 96, 97, 94]\n",
    "\n",
    "for name, score in zip(names, scores):\n",
    "    print(name, score) \n",
    "    \n",
    "print(\" \")\n",
    "\n",
    "for idx, name in enumerate(names):\n",
    "    print(name, scores[idx])\n",
    "\n",
    "print(\" \")\n",
    "\n",
    "for name, score in map(lambda x, y: (x, y), names, scores):\n",
    "    print(name, score)"
   ]
  },
  {
   "cell_type": "markdown",
   "id": "d4e6268b-e324-4bcb-8013-509ac7df4f15",
   "metadata": {},
   "source": [
    "## 리스트 컴프리헨션"
   ]
  },
  {
   "cell_type": "code",
   "execution_count": 65,
   "id": "7832d564-8274-4079-ab2f-1e7ed8ce52c0",
   "metadata": {},
   "outputs": [
    {
     "name": "stdout",
     "output_type": "stream",
     "text": [
      "[2, 4, 6, 8, 10]\n"
     ]
    }
   ],
   "source": [
    "numbers = [1, 2, 3, 4, 5]\n",
    "result = []\n",
    "for x in numbers:\n",
    "    #각 요소마다 2씩 곱하기\n",
    "    # print(x * 2)\n",
    "    result.append(x * 2)\n",
    "\n",
    "print(result)\n",
    "# [2, 4, 6, 8, 10]"
   ]
  },
  {
   "cell_type": "code",
   "execution_count": 55,
   "id": "e37739c8-d60c-4433-a6b8-04e0e219d9df",
   "metadata": {},
   "outputs": [
    {
     "name": "stdout",
     "output_type": "stream",
     "text": [
      "[2, 4, 6, 8, 10]\n"
     ]
    }
   ],
   "source": [
    "# 리스트 컴프리헨션은 위 반복문을 한 줄로 처리하는 방법\n",
    "numbers = [1, 2, 3, 4, 5]\n",
    "result2 = [x * 2 for x in numbers]\n",
    "print(result2)"
   ]
  },
  {
   "cell_type": "code",
   "execution_count": 57,
   "id": "2dfc1668-722e-4c42-acf0-9249f70c52ba",
   "metadata": {},
   "outputs": [
    {
     "data": {
      "text/plain": [
       "[2, 4, 6]"
      ]
     },
     "execution_count": 57,
     "metadata": {},
     "output_type": "execute_result"
    }
   ],
   "source": [
    "numbers = [1, 2, 3, 4, 5, 6]\n",
    "result = []\n",
    "for x in numbers:\n",
    "    if x % 2 == 0:\n",
    "        result.append(x)\n",
    "result"
   ]
  },
  {
   "cell_type": "code",
   "execution_count": 64,
   "id": "bbd3c8d6-45b7-4ced-9ac9-c3372efca2e2",
   "metadata": {},
   "outputs": [
    {
     "name": "stdout",
     "output_type": "stream",
     "text": [
      "[2, 4, 6]\n"
     ]
    }
   ],
   "source": [
    "# 조건문 추가할 땐 for 뒤에\n",
    "numbers = [1, 2, 3, 4, 5, 6]\n",
    "result2 = [x for x in numbers if x % 2 == 0]\n",
    "print(result2)"
   ]
  },
  {
   "cell_type": "markdown",
   "id": "75e3ebd8-d5d4-4852-b876-19808486d411",
   "metadata": {},
   "source": [
    "## while 반복문\n",
    "- 조건문이 참일 때만 반복해서 실행\n",
    "- 데이터 분석 : 데이터 셋이 정해져있다\n",
    "  + 행과 열이 고정이 돼있다.\n",
    "  + 범위가 주어진 상태\n",
    "- 데이터 분석할 때는 쓸 일이 거의 없다"
   ]
  },
  {
   "cell_type": "code",
   "execution_count": 66,
   "id": "039bf2a7-fb0b-4ef9-9d51-952eb33ceb96",
   "metadata": {},
   "outputs": [
    {
     "name": "stdout",
     "output_type": "stream",
     "text": [
      "1 1\n",
      "2 3\n",
      "3 6\n",
      "4 10\n",
      "5 15\n",
      "6 21\n"
     ]
    }
   ],
   "source": [
    "# while 반복문을 짤 때는 False 되는 시점을 고려해야함\n",
    "\n",
    "i = 0\n",
    "total = 0\n",
    "\n",
    "while (total < 20):\n",
    "    i = i + 1\n",
    "    total = total + i\n",
    "    print(i, total)\n"
   ]
  },
  {
   "cell_type": "code",
   "execution_count": 69,
   "id": "62ed4007-2903-4f84-9ab4-b18920f2f9d6",
   "metadata": {},
   "outputs": [
    {
     "name": "stdout",
     "output_type": "stream",
     "text": [
      "hi\n",
      "hi\n",
      "hi\n",
      "hi\n",
      "강제종료\n"
     ]
    }
   ],
   "source": [
    "k = 0 \n",
    "while True:\n",
    "    k = k + 1\n",
    "    print(\"hi\")\n",
    "    if(k > 3):\n",
    "        print(\"강제종료\")\n",
    "        break # break로 루프 빠져나오기"
   ]
  },
  {
   "cell_type": "markdown",
   "id": "8ddd4b9b-a73d-44c5-9292-1f6ac7710d03",
   "metadata": {},
   "source": [
    "## 사용자 정의 함수"
   ]
  },
  {
   "cell_type": "code",
   "execution_count": 70,
   "id": "234ed98e-5308-4c77-a4af-1e7003e07e2f",
   "metadata": {
    "jupyter": {
     "source_hidden": true
    }
   },
   "outputs": [
    {
     "name": "stdout",
     "output_type": "stream",
     "text": [
      "hi\n",
      "hello\n"
     ]
    }
   ],
   "source": [
    "def my_1st_func():\n",
    "    print(\"hi\")\n",
    "    print(\"hello\")\n",
    "\n",
    "my_1st_func()"
   ]
  },
  {
   "cell_type": "code",
   "execution_count": 72,
   "id": "dd01385d-9201-4fd2-97a4-2be8ee36b8b6",
   "metadata": {},
   "outputs": [
    {
     "name": "stdout",
     "output_type": "stream",
     "text": [
      "hi\n",
      "hello\n",
      "hi\n",
      "hello\n",
      "강제종료\n"
     ]
    }
   ],
   "source": [
    "k = 0 \n",
    "while True:\n",
    "    k = k + 1\n",
    "    my_1st_func()\n",
    "    if(k > 1):\n",
    "        print(\"강제종료\")\n",
    "        break # break로 루프 빠져나오기"
   ]
  },
  {
   "cell_type": "markdown",
   "id": "80dcb908-af40-4722-b16b-5817a57e48ae",
   "metadata": {},
   "source": [
    "### 인자(인수)는 있으나 반환 값이 함수"
   ]
  },
  {
   "cell_type": "code",
   "execution_count": 11,
   "id": "a354f95d-d2d9-46b3-a2d5-a9d7252f1dd9",
   "metadata": {},
   "outputs": [
    {
     "name": "stdout",
     "output_type": "stream",
     "text": [
      "철수는 나의 친구입니다.\n",
      "철수는 나의 친구입니다.\n",
      "짱구는 나의 친구입니다.\n",
      "짱구는 나의 친구입니다.\n",
      "이슬는 나의 친구입니다.\n",
      "이슬는 나의 친구입니다.\n"
     ]
    }
   ],
   "source": [
    "def my_friend(name):\n",
    "    print(f'{name}는 나의 친구입니다.')\n",
    "    print(f\"{name}는 나의 친구입니다.\".format(name))\n",
    "\n",
    "my_friend(\"철수\")\n",
    "my_friend(\"짱구\")\n",
    "my_friend(\"이슬\")"
   ]
  },
  {
   "cell_type": "code",
   "execution_count": 15,
   "id": "ca10079d-acbc-42a7-9424-153993090cde",
   "metadata": {},
   "outputs": [],
   "source": [
    "# import pandas as pd\n",
    "\n",
    "# pd.read_csv() -> 에러남"
   ]
  },
  {
   "cell_type": "code",
   "execution_count": 9,
   "id": "1e6c132c-14da-477b-b92b-7b3c5dd956f1",
   "metadata": {},
   "outputs": [],
   "source": [
    "def my_calc(x, y):\n",
    "    z = x * y\n",
    "    return z"
   ]
  },
  {
   "cell_type": "code",
   "execution_count": 10,
   "id": "93ad4896-604c-421b-ab22-953ae0038943",
   "metadata": {},
   "outputs": [
    {
     "data": {
      "text/plain": [
       "12"
      ]
     },
     "execution_count": 10,
     "metadata": {},
     "output_type": "execute_result"
    }
   ],
   "source": [
    "my_calc(3, 4)"
   ]
  },
  {
   "cell_type": "code",
   "execution_count": 40,
   "id": "3421f93b-3947-4243-ac2e-655762e70498",
   "metadata": {},
   "outputs": [
    {
     "name": "stdout",
     "output_type": "stream",
     "text": [
      "12\n"
     ]
    }
   ],
   "source": [
    "print(my_calc(3, 4)) #파이썬 파일에선 print를 써야 출력됨"
   ]
  },
  {
   "cell_type": "markdown",
   "id": "c3a7c0ba-2b2c-4249-b9a6-95047364df12",
   "metadata": {},
   "source": [
    "## 변수의 유효 범위\n",
    "- 전역 변수 / 지역 변수"
   ]
  },
  {
   "cell_type": "code",
   "execution_count": 41,
   "id": "463a9b47-3137-40e6-b619-d1711901ea52",
   "metadata": {},
   "outputs": [],
   "source": [
    "a = 5 # 전역 변수\n",
    "\n",
    "def func1():\n",
    "    a = 1 # 지역 변수\n",
    "    print(\"[func1] 지역 변수 a=\", a)\n",
    "\n",
    "def func2():\n",
    "    a = 1 # 지역 변수\n",
    "    print(\"[func2] 지역 변수 a=\", a)\n",
    "\n",
    "def func3():\n",
    "    print(\"[func3] 지역 변수 a=\", a)\n",
    "\n",
    "def func4():\n",
    "    global a # 함수 내에서 전역 변수 변경 위해 선언\n",
    "    a = 4\n",
    "    print(\"[func4] 전역 변수 a=\", a)"
   ]
  },
  {
   "cell_type": "code",
   "execution_count": 30,
   "id": "254b29ba-2faf-4ac9-aa27-84de059ddf97",
   "metadata": {},
   "outputs": [
    {
     "name": "stdout",
     "output_type": "stream",
     "text": [
      "[func1] 지역 변수 a = 1\n",
      "[func2] 지역 변수 a = 2\n",
      "[func3] 지역 변수 a = 4\n",
      "[func4] 전역 변수 a =  4\n",
      "전역 변수 a= 4\n"
     ]
    }
   ],
   "source": [
    "func1()\n",
    "func2()\n",
    "func3()\n",
    "func4()\n",
    "print(\"전역 변수 a=\", a) # 전역 변수 출력\n"
   ]
  },
  {
   "cell_type": "code",
   "execution_count": 28,
   "id": "e08ed658-ef20-448d-a723-57b4d92ee5ee",
   "metadata": {},
   "outputs": [],
   "source": [
    "a = 5           # 전역 변수\n",
    "\n",
    "def func1():\n",
    "    a = 1       # 지역 변수\n",
    "    print(\"[func1] 지역 변수 a =\", a)\n",
    "\n",
    "def func2():\n",
    "    a = 2       # 지역 변수\n",
    "    print(\"[func2] 지역 변수 a =\", a)\n",
    "\n",
    "def func3():\n",
    "    print(\"[func3] 지역 변수 a =\", a)\n",
    "\n",
    "def func4():\n",
    "    global a # 함수 내에서 전역 변수 변경 위해 선언\n",
    "    a = 4\n",
    "    print(\"[func4] 전역 변수 a = \", a)"
   ]
  },
  {
   "cell_type": "code",
   "execution_count": 31,
   "id": "fa5b53e2-d37b-4e3b-995c-82fdf2b17f50",
   "metadata": {},
   "outputs": [
    {
     "name": "stdout",
     "output_type": "stream",
     "text": [
      "[func3] 지역 변수 a = 4\n",
      "[func4] 전역 변수 a =  4\n",
      "[func3] 지역 변수 a = 4\n"
     ]
    }
   ],
   "source": [
    "func3()\n",
    "func4()\n",
    "func3()"
   ]
  },
  {
   "cell_type": "code",
   "execution_count": 38,
   "id": "671ecb87-8b19-4d7f-a480-faab84c95103",
   "metadata": {},
   "outputs": [],
   "source": [
    "c = 1\n",
    "\n",
    "def add():\n",
    "    global c # 전역 변수 없으면 출력 안됨\n",
    "    c = c + 2\n",
    "    print(c)"
   ]
  },
  {
   "cell_type": "markdown",
   "id": "a8eb5d7b-63f3-4d75-a329-c4deeb59f866",
   "metadata": {},
   "source": [
    "## 가변인수 예제\n",
    "- 학생의 점수를 입력받아 평균 점수를 계산하는 함수\n",
    "  + 문제점 : 각 학생마다 시험 본 과목 수가 다름\n",
    "    - A : 3과목\n",
    "    - B : 2과목\n",
    "    - C : 5과목"
   ]
  },
  {
   "cell_type": "code",
   "execution_count": 56,
   "id": "80c81a81-abdb-4882-8691-900892981bd0",
   "metadata": {},
   "outputs": [],
   "source": [
    "def calculate_average(name, *scores):\n",
    "    if scores:  # 가변 인수가 비어있지 않은지 확인\n",
    "        average_score = sum(scores) / len(scores)\n",
    "        print(f\"{name}의 평균 점수는 {average_score:.2f}점입니다.\")\n",
    "    else:\n",
    "        print(f\"{name}의 점수를 입력하지 않았습니다.\")"
   ]
  },
  {
   "cell_type": "code",
   "execution_count": 57,
   "id": "51f300e5-c355-4d42-a002-ceee837fd24f",
   "metadata": {},
   "outputs": [
    {
     "name": "stdout",
     "output_type": "stream",
     "text": [
      "Evan의 평균 점수는 76.67점입니다.\n"
     ]
    }
   ],
   "source": [
    "calculate_average(\"Evan\", 85, 70, 75)"
   ]
  },
  {
   "cell_type": "code",
   "execution_count": 58,
   "id": "33ea4021-dfe6-453d-ac08-4e875877a7f5",
   "metadata": {},
   "outputs": [
    {
     "name": "stdout",
     "output_type": "stream",
     "text": [
      "A의 평균 점수는 80.00점입니다.\n"
     ]
    }
   ],
   "source": [
    "calculate_average(\"A\", 90, 70)"
   ]
  },
  {
   "cell_type": "code",
   "execution_count": 59,
   "id": "f140e5bd-58eb-49d8-9732-07112b7cb2bb",
   "metadata": {},
   "outputs": [
    {
     "name": "stdout",
     "output_type": "stream",
     "text": [
      "C의 점수를 입력하지 않았습니다.\n"
     ]
    }
   ],
   "source": [
    "calculate_average(\"C\")"
   ]
  },
  {
   "cell_type": "code",
   "execution_count": 54,
   "id": "21324bbc-ddbb-4a42-a840-675c1f86eddb",
   "metadata": {},
   "outputs": [],
   "source": [
    "def calculate_average(name, *scores):\n",
    "    print(type(scores))\n",
    "    if scores:  # 가변 인수가 비어있지 않은지 확인\n",
    "        average_score = sum(scores) / len(scores)\n",
    "        print(f\"{name}의 평균 점수는 {average_score:.2f}점입니다.\")\n",
    "    else:\n",
    "        print(f\"{name}의 점수를 입력하지 않았습니다.\")"
   ]
  },
  {
   "cell_type": "code",
   "execution_count": 55,
   "id": "12b76192-5128-4ed6-864a-628151a136c7",
   "metadata": {},
   "outputs": [
    {
     "name": "stdout",
     "output_type": "stream",
     "text": [
      "<class 'tuple'>\n",
      "a의 평균 점수는 2.67점입니다.\n"
     ]
    }
   ],
   "source": [
    "calculate_average(\"a\", 5, 1, 2)"
   ]
  },
  {
   "cell_type": "markdown",
   "id": "1e305402-3618-4510-838f-1f58dbd528b4",
   "metadata": {},
   "source": [
    "## 키워드 인수 확인 예제\n",
    "- 학생의 이름, 과목별 점수, 그리고 학년을 받아 학생의 성적을 출력하는 함수\n",
    "  + 고정 인수 : 학생의 이름\n",
    "  + 가변 인수 : 여러 개의 과목 점수\n",
    "  + 키워드 인수 : 학년 정보"
   ]
  },
  {
   "cell_type": "code",
   "execution_count": 53,
   "id": "5d89851f-c765-4605-acac-5d65f0998905",
   "metadata": {},
   "outputs": [
    {
     "name": "stdout",
     "output_type": "stream",
     "text": [
      "학생 이름: Alice\n",
      "평균 점수: 88.33\n",
      "grade: 2학년\n",
      "school: Seoul High School\n",
      "\n",
      "\n",
      "학생 이름: Bob\n",
      "평균 점수: 80.75\n",
      "grade: 3학년\n",
      "school: Busan High School\n",
      "hobby: 축구\n",
      "\n",
      "\n",
      "학생 이름: Charlie\n",
      "점수를 입력하지 않았습니다.\n",
      "grade: 1학년\n"
     ]
    }
   ],
   "source": [
    "# def student_report(name, *args, **kwargs) \n",
    "def student_report(name, *scores, **details):\n",
    "    print(f\"학생 이름: {name}\")\n",
    "\n",
    "    # 점수가 입력된 경우에만 평균을 계산\n",
    "    if scores:\n",
    "        average_score = sum(scores) / len(scores)\n",
    "        print(f\"평균 점수: {average_score:.2f}\")\n",
    "    else:\n",
    "        print(\"점수를 입력하지 않았습니다.\")\n",
    "\n",
    "    # 키워드 인수로 전달된 추가 정보를 출력\n",
    "    for key, value in details.items():\n",
    "        print(f\"{key}: {value}\")\n",
    "\n",
    "# 함수 호출 예제\n",
    "student_report(\"Alice\", 88, 92, 85, grade=\"2학년\", school=\"Seoul High School\")\n",
    "print(\"\\n\")\n",
    "student_report(\"Bob\", 75, 80, 78, 90, grade=\"3학년\", school=\"Busan High School\", hobby=\"축구\")\n",
    "print(\"\\n\")\n",
    "student_report(\"Charlie\", grade=\"1학년\")\n"
   ]
  },
  {
   "cell_type": "markdown",
   "id": "a0efa71d-7fbd-42d7-8054-4bbae9160524",
   "metadata": {},
   "source": [
    "# 람다(lambda) 함수"
   ]
  },
  {
   "cell_type": "code",
   "execution_count": 64,
   "id": "db4f75b6-7991-4355-9d97-33067810ac2b",
   "metadata": {},
   "outputs": [
    {
     "data": {
      "text/plain": [
       "25"
      ]
     },
     "execution_count": 64,
     "metadata": {},
     "output_type": "execute_result"
    }
   ],
   "source": [
    "(lambda x : x ** 2)(5)"
   ]
  },
  {
   "cell_type": "code",
   "execution_count": 61,
   "id": "b59fd186-20ec-4e51-8d57-f0a1774d35c8",
   "metadata": {},
   "outputs": [
    {
     "data": {
      "text/plain": [
       "25"
      ]
     },
     "execution_count": 61,
     "metadata": {},
     "output_type": "execute_result"
    }
   ],
   "source": [
    "mySquare = lambda x : x ** 2 \n",
    "mySquare(5)"
   ]
  },
  {
   "cell_type": "code",
   "execution_count": 63,
   "id": "e44dffc0-0c39-4e7b-a23f-066c68b68b42",
   "metadata": {},
   "outputs": [
    {
     "data": {
      "text/plain": [
       "10"
      ]
     },
     "execution_count": 63,
     "metadata": {},
     "output_type": "execute_result"
    }
   ],
   "source": [
    "sampleFunc = lambda x, y, z : x ** 2 + 3 * y + z\n",
    "sampleFunc(1, 2, 3)"
   ]
  },
  {
   "cell_type": "markdown",
   "id": "07a705d3-7486-44ab-be0c-0bf6371f999d",
   "metadata": {},
   "source": [
    "# Context Manager, Decorator\n",
    "- 클로저 Closure\n",
    "  + 함수 안에 또 다른 함수 생성\n"
   ]
  },
  {
   "cell_type": "code",
   "execution_count": 67,
   "id": "70e9511d-61c1-487c-867a-1573152ceb0c",
   "metadata": {},
   "outputs": [
    {
     "name": "stdout",
     "output_type": "stream",
     "text": [
      "Function 'slow_function' executed in 2.0051 seconds\n"
     ]
    },
    {
     "data": {
      "text/plain": [
       "'Finished'"
      ]
     },
     "execution_count": 67,
     "metadata": {},
     "output_type": "execute_result"
    }
   ],
   "source": [
    "import time\n",
    "\n",
    "#코드가 돌아가는 시간 체크하는 함수\n",
    "def time_decorator(func):\n",
    "    def wrapper(*args, **kwargs):\n",
    "        start_time = time.time()\n",
    "        result = func(*args, **kwargs)\n",
    "        end_time = time.time()\n",
    "        print(f\"Function '{func.__name__}' executed in {end_time - start_time:.4f} seconds\")\n",
    "        return result\n",
    "    return wrapper\n",
    "\n",
    "# 전체 코드는 데코레이터, 내부에 있는 것은 클로저\n",
    "\n",
    "@time_decorator\n",
    "def slow_function():\n",
    "    time.sleep(2)\n",
    "    return \"Finished\"\n",
    "\n",
    "# 사용 예시\n",
    "slow_function()"
   ]
  },
  {
   "cell_type": "markdown",
   "id": "e267925e-8f43-46ed-905a-05fbedff43f9",
   "metadata": {},
   "source": [
    "# 클래스 왕 기초"
   ]
  },
  {
   "cell_type": "code",
   "execution_count": 88,
   "id": "bbb2a2b7-c15c-4ffa-aa64-1f1df09dc9a7",
   "metadata": {},
   "outputs": [],
   "source": [
    "class 책 : \n",
    "    title = None     #속성\n",
    "    author = None    #속성\n",
    "    pages = 0        #속성 \n",
    "    price = 0        #속성\n",
    "    discount = 0     #속성\n",
    "\n",
    "    def 읽는시간(self, reading_speed = 30): \n",
    "        return round(self.pages / reading_speed, 1)\n",
    "\n",
    "#클래스 내부에서 함수를 쓸 때는 self 필수"
   ]
  },
  {
   "cell_type": "code",
   "execution_count": 90,
   "id": "9d1efcdc-b19f-4d46-b828-3db471364a62",
   "metadata": {},
   "outputs": [
    {
     "name": "stdout",
     "output_type": "stream",
     "text": [
      "Streamlit Evan\n",
      "18.7\n"
     ]
    }
   ],
   "source": [
    "# 클래스 만들면 인스턴스 생성하기\n",
    "\n",
    "책01호 = 책()\n",
    "책01호.title = \"Streamlit\"\n",
    "책01호.author = \"Evan\"\n",
    "책01호.pages = 560\n",
    "책01호.price = 40000\n",
    "책01호.discount = 10\n",
    "     \n",
    "print(책01호.title, 책01호.author)\n",
    "출력값 = 책01호.읽는시간()\n",
    "print(출력값)"
   ]
  },
  {
   "cell_type": "code",
   "execution_count": 91,
   "id": "d21b7c09-9c17-49d4-b750-f0eb1f6d6d24",
   "metadata": {},
   "outputs": [
    {
     "name": "stdout",
     "output_type": "stream",
     "text": [
      "Streamlit Evan\n",
      "112.0\n"
     ]
    }
   ],
   "source": [
    "print(책01호.title, 책01호.author)\n",
    "출력값 = 책01호.읽는시간(reading_speed = 5)\n",
    "print(출력값)"
   ]
  },
  {
   "cell_type": "code",
   "execution_count": 81,
   "id": "75dd4fde-3dc8-44a6-b21a-39fffa3135c0",
   "metadata": {},
   "outputs": [
    {
     "name": "stdout",
     "output_type": "stream",
     "text": [
      "Python\n"
     ]
    }
   ],
   "source": [
    "책02호 = 책()\n",
    "책02호.TITLE = \"Python\" # 대소문자 구별 못함\n",
    "책02호.author = \"Evan\"\n",
    "책02호.pages = 560\n",
    "책02호.price = 40000\n",
    "책02호.discount = 10\n",
    "print(책02호.TITLE)\n",
    "\n",
    "# 이렇게 만들면 불편함, 삐익 X!"
   ]
  },
  {
   "cell_type": "markdown",
   "id": "1bc82415-a897-407b-87e5-a82f98b3bb85",
   "metadata": {},
   "source": [
    "## 코드 업데이트"
   ]
  },
  {
   "cell_type": "code",
   "execution_count": 108,
   "id": "fe830a21-b90b-44d0-a149-ef9cd39d787c",
   "metadata": {},
   "outputs": [],
   "source": [
    "class 책():\n",
    "    # initialize : 초기화\n",
    "    def __init__(self, title, author,pages, price, discount_rate = 0):\n",
    "        self.title = title #책의 제목\n",
    "        self.author = author\n",
    "        self.pages = pages\n",
    "        self.price = price\n",
    "        self.discount_rate = discount_rate\n",
    "\n",
    "    def reading_time(self, reading_speed = 30): \n",
    "        return round(self.pages / reading_speed, 1)\n",
    "\n",
    "    def apply_discount(self):\n",
    "        return self.price * (1 - self.discount_rate)"
   ]
  },
  {
   "cell_type": "code",
   "execution_count": 115,
   "id": "e8f7e833-f8eb-4a7a-afce-93df6a73bfc4",
   "metadata": {},
   "outputs": [
    {
     "data": {
      "text/plain": [
       "('샘플0', '샘플1')"
      ]
     },
     "execution_count": 115,
     "metadata": {},
     "output_type": "execute_result"
    }
   ],
   "source": [
    "책01호 = 책(\"샘플0\", \"Evan\", 300, 20000, 0.1)\n",
    "책02호 = 책(\"샘플1\", \"Evan1\", 400, 20000, 0.1)\n",
    "책03호 = 책(\"샘플2\", \"Evan2\", 500, 20000, 0.1)\n",
    "책04호 = 책(\"샘플3\", \"Evan3\", 600, 20000, 0.1)\n",
    "책01호.title, 책02호.title"
   ]
  },
  {
   "cell_type": "code",
   "execution_count": 113,
   "id": "c489badb-09eb-4692-97c3-a57855507295",
   "metadata": {},
   "outputs": [
    {
     "data": {
      "text/plain": [
       "10.0"
      ]
     },
     "execution_count": 113,
     "metadata": {},
     "output_type": "execute_result"
    }
   ],
   "source": [
    "책01호 = 책(\"샘플\", \"Evan\", 300, 20000, 0.1)\n",
    "책01호.reading_time()"
   ]
  },
  {
   "cell_type": "code",
   "execution_count": 114,
   "id": "8eb9efdc-17ef-4f0d-97d3-6f4be004e198",
   "metadata": {},
   "outputs": [
    {
     "data": {
      "text/plain": [
       "18000.0"
      ]
     },
     "execution_count": 114,
     "metadata": {},
     "output_type": "execute_result"
    }
   ],
   "source": [
    "책01호.apply_discount()"
   ]
  },
  {
   "cell_type": "code",
   "execution_count": 113,
   "id": "ca2f1c11-7aef-4cfd-9c95-7bab87286de7",
   "metadata": {},
   "outputs": [
    {
     "data": {
      "text/plain": [
       "10.0"
      ]
     },
     "execution_count": 113,
     "metadata": {},
     "output_type": "execute_result"
    }
   ],
   "source": [
    "책01호 = 책(\"샘플\", \"Evan\", 300, 20000, 0.1)"
   ]
  },
  {
   "cell_type": "code",
   "execution_count": 117,
   "id": "ec12a5b4-aa92-4401-ade5-6b5ba9282c27",
   "metadata": {},
   "outputs": [
    {
     "data": {
      "text/plain": [
       "<__main__.책2 at 0x12139aa80>"
      ]
     },
     "execution_count": 117,
     "metadata": {},
     "output_type": "execute_result"
    }
   ],
   "source": [
    "class 책2():\n",
    "    # initialize : 초기화\n",
    "    def __init__(self, title, author=None, pages=None, price=None, discount_rate = 0):\n",
    "        self.title = title #책의 제목\n",
    "        self.author = author\n",
    "        self.pages = pages\n",
    "        self.price = price\n",
    "        self.discount_rate = discount_rate\n",
    "\n",
    "    def reading_time(self, reading_speed = 30): \n",
    "        return round(self.pages / reading_speed, 1)\n",
    "\n",
    "    def apply_discount(self):\n",
    "        return self.price * (1 - self.discount_rate)\n",
    "\n",
    "temp = 책2(\"dda\")\n",
    "temp"
   ]
  },
  {
   "cell_type": "code",
   "execution_count": null,
   "id": "99ac60a8-c337-4d73-90ef-426d8966eeec",
   "metadata": {},
   "outputs": [],
   "source": []
  }
 ],
 "metadata": {
  "kernelspec": {
   "display_name": "Python 3 (ipykernel)",
   "language": "python",
   "name": "python3"
  },
  "language_info": {
   "codemirror_mode": {
    "name": "ipython",
    "version": 3
   },
   "file_extension": ".py",
   "mimetype": "text/x-python",
   "name": "python",
   "nbconvert_exporter": "python",
   "pygments_lexer": "ipython3",
   "version": "3.12.6"
  }
 },
 "nbformat": 4,
 "nbformat_minor": 5
}
