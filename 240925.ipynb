{
 "cells": [
  {
   "cell_type": "markdown",
   "id": "04d51887-a08e-422a-8f98-523ee1cbe298",
   "metadata": {},
   "source": [
    "# 2024.09.25 Python 활용"
   ]
  },
  {
   "cell_type": "code",
   "execution_count": 1,
   "id": "30a00407-14a2-446d-8be9-2b888f05b8d8",
   "metadata": {},
   "outputs": [
    {
     "name": "stdout",
     "output_type": "stream",
     "text": [
      "2.1.1\n",
      "2.2.3\n",
      "3.9.2\n",
      "0.13.2\n",
      "1.14.1\n",
      "1.5.2\n"
     ]
    }
   ],
   "source": [
    "import numpy as np\n",
    "import pandas as pd\n",
    "import matplotlib as mpl\n",
    "import seaborn as sb\n",
    "import scipy as scp\n",
    "import sklearn\n",
    "\n",
    "print(np.__version__)\n",
    "print(pd.__version__)\n",
    "print(mpl.__version__)\n",
    "print(sb.__version__)\n",
    "print(scp.__version__)\n",
    "print(sklearn.__version__)"
   ]
  },
  {
   "cell_type": "markdown",
   "id": "6ff7381e-d180-4e3a-88c7-a50b087e50bc",
   "metadata": {},
   "source": [
    "# 제어문 & 반복문"
   ]
  },
  {
   "cell_type": "code",
   "execution_count": 8,
   "id": "839cdc8b-d8d3-484f-a30a-ae7a679906e6",
   "metadata": {},
   "outputs": [
    {
     "name": "stdin",
     "output_type": "stream",
     "text": [
      "성적을 입력하세요. 93\n"
     ]
    },
    {
     "name": "stdout",
     "output_type": "stream",
     "text": [
      "Pass\n"
     ]
    }
   ],
   "source": [
    "x = int(input('성적을 입력하세요.'))\n",
    "if x >= 90: # 조건문 끝에 :를 붙여줘야함\n",
    "    print(\"Pass\") # 조건문 작성할 때 탭 누르기"
   ]
  },
  {
   "cell_type": "markdown",
   "id": "0e651233-f87a-44ff-9c4b-e6598708573e",
   "metadata": {},
   "source": [
    "## 단일 조건 및 그 외 조건에 따른 분기"
   ]
  },
  {
   "cell_type": "code",
   "execution_count": 10,
   "id": "0fd235b7-a2da-46b6-9fbd-043ea00e6938",
   "metadata": {},
   "outputs": [
    {
     "name": "stdin",
     "output_type": "stream",
     "text": [
      "성적을 입력하세요. 85\n"
     ]
    },
    {
     "name": "stdout",
     "output_type": "stream",
     "text": [
      "Fail\n"
     ]
    }
   ],
   "source": [
    "x = int(input('성적을 입력하세요.'))\n",
    "if x >= 90: # 조건문 끝에 :를 붙여줘야함\n",
    "    print(\"Pass\") # 조건문 작성할 때 탭 누르기\n",
    "else: # 그 외 조건\n",
    "    print(\"Fail\")"
   ]
  },
  {
   "cell_type": "markdown",
   "id": "e31ade40-99a3-4ec5-b917-b53c660ef464",
   "metadata": {},
   "source": [
    "### 합격/불합격 시나리오\n",
    "시나리오 1.\n",
    "> 문제 정의\n",
    "\n",
    "> 점수가 90점 이상이면 합격, 그 외는 불합격\n",
    "\n",
    "시나리오 2.\n",
    "> 문제정의\n",
    "\n",
    "> 점수가 90점 이상이면 합격,\n",
    "\n",
    "> 점수가 80점 이상이면 조건부 합격,\n",
    "\n",
    "> 그 외는 불합격\n",
    "\n",
    "시나리오 잘 짜려면 다이어그램 그리는 습관 들여야함"
   ]
  },
  {
   "cell_type": "markdown",
   "id": "71b7ec67-9cc5-413f-8e41-26171987ed1f",
   "metadata": {},
   "source": [
    "## 여러 조건에 따른 분기"
   ]
  },
  {
   "cell_type": "code",
   "execution_count": 11,
   "id": "cdc8ae15-5329-4d5c-8bda-73ee7844844b",
   "metadata": {},
   "outputs": [
    {
     "name": "stdin",
     "output_type": "stream",
     "text": [
      "성적을 입력하세요. 80\n"
     ]
    },
    {
     "name": "stdout",
     "output_type": "stream",
     "text": [
      "조건부 합격\n"
     ]
    }
   ],
   "source": [
    "x = int(input('성적을 입력하세요.'))\n",
    "if x >= 90: # 조건문 끝에 :를 붙여줘야함\n",
    "    print(\"Pass\") # 조건문 작성할 때 탭 누르기\n",
    "elif (x>=80) and (x<90):\n",
    "    print(\"조건부 합격\")\n",
    "else: # 그 외 조건\n",
    "    print(\"Fail\")"
   ]
  },
  {
   "cell_type": "markdown",
   "id": "5a06e97a-3a02-40cb-881a-43ac1c740b33",
   "metadata": {},
   "source": [
    "### elif 조건문만 떼서 원하는 값 넣어 테스트하기"
   ]
  },
  {
   "cell_type": "code",
   "execution_count": 14,
   "id": "14c9f2e1-68a5-4d69-b2af-123b56a3c90b",
   "metadata": {},
   "outputs": [
    {
     "name": "stdout",
     "output_type": "stream",
     "text": [
      "True\n",
      "조건부 합격\n"
     ]
    }
   ],
   "source": [
    "x=88\n",
    "print (x>=80) and (x<90)\n",
    "if (x>=80) and (x<90):\n",
    "    print(\"조건부 합격\")"
   ]
  },
  {
   "cell_type": "markdown",
   "id": "ba88f79b-86dc-41fb-a6b5-acd286ba4cb1",
   "metadata": {},
   "source": [
    "## 중첩 조건에 따른 분기\n",
    "- 시나리오\n",
    "- 90점 넘으면 합격, 그 중 100점은 장학금 지급\n",
    "- 80점 이상은 조건부 합격\n",
    "- 그 외는 불합격"
   ]
  },
  {
   "cell_type": "code",
   "execution_count": 15,
   "id": "59cfe0a2-dbb6-4696-91a2-a2539c27d432",
   "metadata": {},
   "outputs": [
    {
     "name": "stdin",
     "output_type": "stream",
     "text": [
      "성적을 입력하세요. 100\n"
     ]
    },
    {
     "name": "stdout",
     "output_type": "stream",
     "text": [
      "장학금 지급\n"
     ]
    }
   ],
   "source": [
    "x = int(input('성적을 입력하세요.'))\n",
    "if x >= 90: # 조건문 끝에 :를 붙여줘야함\n",
    "    if x == 100:\n",
    "        print(\"장학금 지급\")\n",
    "    else:\n",
    "        print(\"Pass\") # 조건문 작성할 때 탭 누르기\n",
    "        \n",
    "elif (x>=80) and (x<90):\n",
    "    print(\"조건부 합격\")\n",
    "\n",
    "else: # 그 외 조건\n",
    "    print(\"Fail\")"
   ]
  },
  {
   "cell_type": "markdown",
   "id": "64451d15-11c7-4a92-b92b-24f7a0457d51",
   "metadata": {},
   "source": [
    "# 반복문\n",
    "- 똑같은 일을 계속해서 반복해야할 때"
   ]
  },
  {
   "cell_type": "markdown",
   "id": "a9c258ea-3a96-4650-b139-e01ab1a57b60",
   "metadata": {},
   "source": [
    "## for문"
   ]
  },
  {
   "cell_type": "code",
   "execution_count": 22,
   "id": "7e8130ef-6007-406c-92aa-ae9e856c9094",
   "metadata": {},
   "outputs": [
    {
     "name": "stdout",
     "output_type": "stream",
     "text": [
      "안녕\n",
      "안녕\n",
      "안녕\n",
      "안녕\n",
      "안녕\n"
     ]
    }
   ],
   "source": [
    "for i in range(5): # i는 임의 변수, 콜론 사용해야함\n",
    "    print(\"안녕\")"
   ]
  },
  {
   "cell_type": "code",
   "execution_count": 28,
   "id": "6c49fdfb-0627-4b2c-9bd9-da54047eb3ad",
   "metadata": {},
   "outputs": [
    {
     "name": "stdout",
     "output_type": "stream",
     "text": [
      "False\n",
      "True\n",
      "True\n"
     ]
    }
   ],
   "source": [
    "# 시퀀스 자료형이 range 대신에 들어갈 수 있음\n",
    "from collections.abc import Sequence\n",
    "\n",
    "my_num = 100\n",
    "my_list = [1, 2, 3]\n",
    "my_string = \"hello\"\n",
    "\n",
    "is_num = isinstance(my_num, Sequence)\n",
    "is_list = isinstance(my_list, Sequence)\n",
    "is_string = isinstance(my_string, Sequence)\n",
    "\n",
    "print(is_num)\n",
    "print(is_list)\n",
    "print(is_string)"
   ]
  },
  {
   "cell_type": "code",
   "execution_count": 27,
   "id": "6a0c997e-bde1-474f-aead-3d8b29e590fb",
   "metadata": {},
   "outputs": [
    {
     "name": "stdout",
     "output_type": "stream",
     "text": [
      "1\n",
      "2\n",
      "3\n",
      " \n",
      "h\n",
      "e\n",
      "l\n",
      "l\n",
      "o\n"
     ]
    }
   ],
   "source": [
    "for i in my_list:\n",
    "    print(i)\n",
    "    \n",
    "print(\" \")\n",
    "\n",
    "for j in my_string:\n",
    "    print(j)"
   ]
  },
  {
   "cell_type": "code",
   "execution_count": 29,
   "id": "997d6ada-2dae-4cad-9ec2-a4dce414a9ec",
   "metadata": {},
   "outputs": [
    {
     "data": {
      "text/plain": [
       "[0, 1, 2]"
      ]
     },
     "execution_count": 29,
     "metadata": {},
     "output_type": "execute_result"
    }
   ],
   "source": [
    "list(range(3))"
   ]
  },
  {
   "cell_type": "markdown",
   "id": "369a6e13-64dd-43f2-a41d-f12e6946f05d",
   "metadata": {},
   "source": [
    "## 중첩 for문\n",
    "- 구구단 중첩 for문 만들기 GPT에게 질문\n"
   ]
  },
  {
   "cell_type": "code",
   "execution_count": 36,
   "id": "689d6884-8abf-4ed8-995d-050a28d38f7a",
   "metadata": {},
   "outputs": [
    {
     "name": "stdout",
     "output_type": "stream",
     "text": [
      "x y\n",
      "x1\n",
      "x1 y1\n",
      "x1 y2\n",
      "y 반복문 종료\n",
      "x2\n",
      "x2 y1\n",
      "x2 y2\n",
      "y 반복문 종료\n"
     ]
    }
   ],
   "source": [
    "x_list = [\"x1\", \"x2\"]\n",
    "y_list = [\"y1\", \"y2\"]\n",
    "\n",
    "\n",
    "# 원하는 결과물 \n",
    "# x1, y1\n",
    "# x1, y2\n",
    "# x2, y1\n",
    "# x2, y2\n",
    "\n",
    "print(\"x y\")\n",
    "for x in x_list:\n",
    "    print(x)\n",
    "    for y in y_list:\n",
    "        print(x,y)\n",
    "    print(\"y 반복문 종료\")"
   ]
  },
  {
   "cell_type": "markdown",
   "id": "13f42926-396b-4b8c-aa79-6e779879c21c",
   "metadata": {},
   "source": [
    "## 여러 개의 리스트 다루기"
   ]
  },
  {
   "cell_type": "code",
   "execution_count": 39,
   "id": "40dda802-1163-4485-b255-50b6aba5bea5",
   "metadata": {},
   "outputs": [
    {
     "name": "stdout",
     "output_type": "stream",
     "text": [
      "0\n",
      "1\n",
      "2\n",
      "3\n"
     ]
    }
   ],
   "source": [
    "names = ['James', 'Robert', 'Lisa', 'Mary']\n",
    "scores = [95, 96, 97, 94]\n",
    "\n",
    "#idx : index number\n",
    "for idx in range(len(names)):\n",
    "    print(idx)"
   ]
  },
  {
   "cell_type": "code",
   "execution_count": 42,
   "id": "711ff7ce-3ad3-4b99-b2a8-f2c0bba35635",
   "metadata": {},
   "outputs": [
    {
     "name": "stdout",
     "output_type": "stream",
     "text": [
      "James 95\n",
      "James 96\n",
      "James 97\n",
      "James 94\n"
     ]
    }
   ],
   "source": [
    "names = ['James', 'Robert', 'Lisa', 'Mary']\n",
    "scores = [95, 96, 97, 94]\n",
    "\n",
    "print(names[0], scores[0])\n",
    "print(names[0], scores[1])\n",
    "print(names[0], scores[2])\n",
    "print(names[0], scores[3])"
   ]
  },
  {
   "cell_type": "code",
   "execution_count": 41,
   "id": "235d1d82-d4d7-46af-ad5e-6b324d9dad60",
   "metadata": {},
   "outputs": [
    {
     "name": "stdout",
     "output_type": "stream",
     "text": [
      "James 95\n",
      "Robert 96\n",
      "Lisa 97\n",
      "Mary 94\n"
     ]
    }
   ],
   "source": [
    "for idx in range(len(names)):\n",
    "    # print(idx)\n",
    "    print(names[idx], scores[idx])"
   ]
  },
  {
   "cell_type": "code",
   "execution_count": 47,
   "id": "27bbea4c-e8fc-428a-9c04-a7211a74f300",
   "metadata": {},
   "outputs": [
    {
     "name": "stdout",
     "output_type": "stream",
     "text": [
      "James 95\n",
      "Robert 96\n",
      "Lisa 97\n",
      "Mary 94\n",
      " \n",
      "James 95\n",
      "Robert 96\n",
      "Lisa 97\n",
      "Mary 94\n",
      " \n",
      "James 95\n",
      "Robert 96\n",
      "Lisa 97\n",
      "Mary 94\n"
     ]
    }
   ],
   "source": [
    "#여러가지 반복문 작성 방법\n",
    "names = ['James', 'Robert', 'Lisa', 'Mary']\n",
    "scores = [95, 96, 97, 94]\n",
    "\n",
    "for name, score in zip(names, scores):\n",
    "    print(name, score) \n",
    "    \n",
    "print(\" \")\n",
    "\n",
    "for idx, name in enumerate(names):\n",
    "    print(name, scores[idx])\n",
    "\n",
    "print(\" \")\n",
    "\n",
    "for name, score in map(lambda x, y: (x, y), names, scores):\n",
    "    print(name, score)"
   ]
  },
  {
   "cell_type": "markdown",
   "id": "d4e6268b-e324-4bcb-8013-509ac7df4f15",
   "metadata": {},
   "source": [
    "# 리스트 컴프리헨션"
   ]
  },
  {
   "cell_type": "code",
   "execution_count": 53,
   "id": "7832d564-8274-4079-ab2f-1e7ed8ce52c0",
   "metadata": {},
   "outputs": [
    {
     "name": "stdout",
     "output_type": "stream",
     "text": [
      "[2, 4, 6, 8, 10]\n"
     ]
    }
   ],
   "source": [
    "numbers = [1, 2, 3, 4, 5]\n",
    "result = []\n",
    "for x in numbers:\n",
    "    #각 요소마다 2씩 곱하기\n",
    "    # print(x * 2)\n",
    "    result.append(x * 2)\n",
    "\n",
    "print(result)\n",
    "# [2, 4, 6, 8, 10]"
   ]
  },
  {
   "cell_type": "code",
   "execution_count": 55,
   "id": "e37739c8-d60c-4433-a6b8-04e0e219d9df",
   "metadata": {},
   "outputs": [
    {
     "name": "stdout",
     "output_type": "stream",
     "text": [
      "[2, 4, 6, 8, 10]\n"
     ]
    }
   ],
   "source": [
    "# 리스트 컴프리헨션은 위 반복문을 한 줄로 처리하는 방법\n",
    "numbers = [1, 2, 3, 4, 5]\n",
    "result2 = [x * 2 for x in numbers]\n",
    "print(result2)"
   ]
  },
  {
   "cell_type": "code",
   "execution_count": null,
   "id": "2dfc1668-722e-4c42-acf0-9249f70c52ba",
   "metadata": {},
   "outputs": [],
   "source": []
  }
 ],
 "metadata": {
  "kernelspec": {
   "display_name": "Python 3 (ipykernel)",
   "language": "python",
   "name": "python3"
  },
  "language_info": {
   "codemirror_mode": {
    "name": "ipython",
    "version": 3
   },
   "file_extension": ".py",
   "mimetype": "text/x-python",
   "name": "python",
   "nbconvert_exporter": "python",
   "pygments_lexer": "ipython3",
   "version": "3.12.6"
  }
 },
 "nbformat": 4,
 "nbformat_minor": 5
}
