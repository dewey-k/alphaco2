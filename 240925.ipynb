{
 "cells": [
  {
   "cell_type": "markdown",
   "id": "04d51887-a08e-422a-8f98-523ee1cbe298",
   "metadata": {},
   "source": [
    "# 2024.09.25 Python 활용"
   ]
  },
  {
   "cell_type": "code",
   "execution_count": 1,
   "id": "30a00407-14a2-446d-8be9-2b888f05b8d8",
   "metadata": {},
   "outputs": [
    {
     "name": "stdout",
     "output_type": "stream",
     "text": [
      "2.1.1\n",
      "2.2.3\n",
      "3.9.2\n",
      "0.13.2\n",
      "1.14.1\n",
      "1.5.2\n"
     ]
    }
   ],
   "source": [
    "import numpy as np\n",
    "import pandas as pd\n",
    "import matplotlib as mpl\n",
    "import seaborn as sb\n",
    "import scipy as scp\n",
    "import sklearn\n",
    "\n",
    "print(np.__version__)\n",
    "print(pd.__version__)\n",
    "print(mpl.__version__)\n",
    "print(sb.__version__)\n",
    "print(scp.__version__)\n",
    "print(sklearn.__version__)"
   ]
  },
  {
   "cell_type": "markdown",
   "id": "6ff7381e-d180-4e3a-88c7-a50b087e50bc",
   "metadata": {},
   "source": [
    "# 제어문 & 반복문"
   ]
  },
  {
   "cell_type": "code",
   "execution_count": 8,
   "id": "839cdc8b-d8d3-484f-a30a-ae7a679906e6",
   "metadata": {},
   "outputs": [
    {
     "name": "stdin",
     "output_type": "stream",
     "text": [
      "성적을 입력하세요. 93\n"
     ]
    },
    {
     "name": "stdout",
     "output_type": "stream",
     "text": [
      "Pass\n"
     ]
    }
   ],
   "source": [
    "x = int(input('성적을 입력하세요.'))\n",
    "if x >= 90: # 조건문 끝에 :를 붙여줘야함\n",
    "    print(\"Pass\") # 조건문 작성할 때 탭 누르기"
   ]
  },
  {
   "cell_type": "markdown",
   "id": "0e651233-f87a-44ff-9c4b-e6598708573e",
   "metadata": {},
   "source": [
    "## 단일 조건 및 그 외 조건에 따른 분기"
   ]
  },
  {
   "cell_type": "code",
   "execution_count": 10,
   "id": "0fd235b7-a2da-46b6-9fbd-043ea00e6938",
   "metadata": {},
   "outputs": [
    {
     "name": "stdin",
     "output_type": "stream",
     "text": [
      "성적을 입력하세요. 85\n"
     ]
    },
    {
     "name": "stdout",
     "output_type": "stream",
     "text": [
      "Fail\n"
     ]
    }
   ],
   "source": [
    "x = int(input('성적을 입력하세요.'))\n",
    "if x >= 90: # 조건문 끝에 :를 붙여줘야함\n",
    "    print(\"Pass\") # 조건문 작성할 때 탭 누르기\n",
    "else: # 그 외 조건\n",
    "    print(\"Fail\")"
   ]
  },
  {
   "cell_type": "markdown",
   "id": "e31ade40-99a3-4ec5-b917-b53c660ef464",
   "metadata": {},
   "source": [
    "### 합격/불합격 시나리오\n",
    "시나리오 1.\n",
    "> 문제 정의\n",
    "\n",
    "> 점수가 90점 이상이면 합격, 그 외는 불합격\n",
    "\n",
    "시나리오 2.\n",
    "> 문제정의\n",
    "\n",
    "> 점수가 90점 이상이면 합격,\n",
    "\n",
    "> 점수가 80점 이상이면 조건부 합격,\n",
    "\n",
    "> 그 외는 불합격\n",
    "\n",
    "시나리오 잘 짜려면 다이어그램 그리는 습관 들여야함"
   ]
  },
  {
   "cell_type": "markdown",
   "id": "71b7ec67-9cc5-413f-8e41-26171987ed1f",
   "metadata": {},
   "source": [
    "## 여러 조건에 따른 분기"
   ]
  },
  {
   "cell_type": "code",
   "execution_count": 11,
   "id": "cdc8ae15-5329-4d5c-8bda-73ee7844844b",
   "metadata": {},
   "outputs": [
    {
     "name": "stdin",
     "output_type": "stream",
     "text": [
      "성적을 입력하세요. 80\n"
     ]
    },
    {
     "name": "stdout",
     "output_type": "stream",
     "text": [
      "조건부 합격\n"
     ]
    }
   ],
   "source": [
    "x = int(input('성적을 입력하세요.'))\n",
    "if x >= 90: # 조건문 끝에 :를 붙여줘야함\n",
    "    print(\"Pass\") # 조건문 작성할 때 탭 누르기\n",
    "elif (x>=80) and (x<90):\n",
    "    print(\"조건부 합격\")\n",
    "else: # 그 외 조건\n",
    "    print(\"Fail\")"
   ]
  },
  {
   "cell_type": "markdown",
   "id": "5a06e97a-3a02-40cb-881a-43ac1c740b33",
   "metadata": {},
   "source": [
    "### elif 조건문만 떼서 원하는 값 넣어 테스트하기"
   ]
  },
  {
   "cell_type": "code",
   "execution_count": 14,
   "id": "14c9f2e1-68a5-4d69-b2af-123b56a3c90b",
   "metadata": {},
   "outputs": [
    {
     "name": "stdout",
     "output_type": "stream",
     "text": [
      "True\n",
      "조건부 합격\n"
     ]
    }
   ],
   "source": [
    "x=88\n",
    "print (x>=80) and (x<90)\n",
    "if (x>=80) and (x<90):\n",
    "    print(\"조건부 합격\")"
   ]
  },
  {
   "cell_type": "markdown",
   "id": "ba88f79b-86dc-41fb-a6b5-acd286ba4cb1",
   "metadata": {},
   "source": [
    "## 중첩 조건에 따른 분기\n",
    "- 시나리오\n",
    "- 90점 넘으면 합격, 그 중 100점은 장학금 지급\n",
    "- 80점 이상은 조건부 합격\n",
    "- 그 외는 불합격"
   ]
  },
  {
   "cell_type": "code",
   "execution_count": 15,
   "id": "59cfe0a2-dbb6-4696-91a2-a2539c27d432",
   "metadata": {},
   "outputs": [
    {
     "name": "stdin",
     "output_type": "stream",
     "text": [
      "성적을 입력하세요. 100\n"
     ]
    },
    {
     "name": "stdout",
     "output_type": "stream",
     "text": [
      "장학금 지급\n"
     ]
    }
   ],
   "source": [
    "x = int(input('성적을 입력하세요.'))\n",
    "if x >= 90: # 조건문 끝에 :를 붙여줘야함\n",
    "    if x == 100:\n",
    "        print(\"장학금 지급\")\n",
    "    else:\n",
    "        print(\"Pass\") # 조건문 작성할 때 탭 누르기\n",
    "        \n",
    "elif (x>=80) and (x<90):\n",
    "    print(\"조건부 합격\")\n",
    "\n",
    "else: # 그 외 조건\n",
    "    print(\"Fail\")"
   ]
  },
  {
   "cell_type": "code",
   "execution_count": null,
   "id": "78b3f81e-d486-4eca-9ba9-362820946a72",
   "metadata": {},
   "outputs": [],
   "source": []
  }
 ],
 "metadata": {
  "kernelspec": {
   "display_name": "Python 3 (ipykernel)",
   "language": "python",
   "name": "python3"
  },
  "language_info": {
   "codemirror_mode": {
    "name": "ipython",
    "version": 3
   },
   "file_extension": ".py",
   "mimetype": "text/x-python",
   "name": "python",
   "nbconvert_exporter": "python",
   "pygments_lexer": "ipython3",
   "version": "3.12.6"
  }
 },
 "nbformat": 4,
 "nbformat_minor": 5
}
