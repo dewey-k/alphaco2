{
 "cells": [
  {
   "cell_type": "markdown",
   "id": "6c137fcc-36e8-43c9-b3c6-6a50753b2f66",
   "metadata": {},
   "source": [
    "# 데이터프레임 생성"
   ]
  },
  {
   "cell_type": "code",
   "execution_count": 2,
   "id": "437940ff-6277-4d51-9dc0-835c3fae2c76",
   "metadata": {},
   "outputs": [
    {
     "name": "stdout",
     "output_type": "stream",
     "text": [
      "2.1.1\n",
      "2.2.3\n"
     ]
    }
   ],
   "source": [
    "import numpy as np\n",
    "import pandas as pd\n",
    "\n",
    "print(np.__version__)\n",
    "print(pd.__version__)"
   ]
  },
  {
   "cell_type": "markdown",
   "id": "78bd6bcf-97d6-4452-b9cc-7dfa1440986c",
   "metadata": {},
   "source": [
    "- 첫번째 방법 : 리스트 활용\n",
    "- 두번째 방법 : 딕셔너리 활용(강사 선호)"
   ]
  },
  {
   "cell_type": "code",
   "execution_count": 4,
   "id": "0589b261-bad8-46d6-83ba-f1456feb145d",
   "metadata": {},
   "outputs": [
    {
     "data": {
      "text/html": [
       "<div>\n",
       "<style scoped>\n",
       "    .dataframe tbody tr th:only-of-type {\n",
       "        vertical-align: middle;\n",
       "    }\n",
       "\n",
       "    .dataframe tbody tr th {\n",
       "        vertical-align: top;\n",
       "    }\n",
       "\n",
       "    .dataframe thead th {\n",
       "        text-align: right;\n",
       "    }\n",
       "</style>\n",
       "<table border=\"1\" class=\"dataframe\">\n",
       "  <thead>\n",
       "    <tr style=\"text-align: right;\">\n",
       "      <th></th>\n",
       "      <th>종목코드</th>\n",
       "      <th>종목명</th>\n",
       "      <th>현재가</th>\n",
       "      <th>등락률</th>\n",
       "    </tr>\n",
       "  </thead>\n",
       "  <tbody>\n",
       "    <tr>\n",
       "      <th>0</th>\n",
       "      <td>039900</td>\n",
       "      <td>알파코</td>\n",
       "      <td>1000000</td>\n",
       "      <td>10.05</td>\n",
       "    </tr>\n",
       "    <tr>\n",
       "      <th>1</th>\n",
       "      <td>039910</td>\n",
       "      <td>A</td>\n",
       "      <td>500000</td>\n",
       "      <td>1.05</td>\n",
       "    </tr>\n",
       "    <tr>\n",
       "      <th>2</th>\n",
       "      <td>039920</td>\n",
       "      <td>B</td>\n",
       "      <td>1000</td>\n",
       "      <td>1.28</td>\n",
       "    </tr>\n",
       "  </tbody>\n",
       "</table>\n",
       "</div>"
      ],
      "text/plain": [
       "     종목코드  종목명      현재가    등락률\n",
       "0  039900  알파코  1000000  10.05\n",
       "1  039910    A   500000   1.05\n",
       "2  039920    B     1000   1.28"
      ]
     },
     "execution_count": 4,
     "metadata": {},
     "output_type": "execute_result"
    }
   ],
   "source": [
    "data = [\n",
    "    [\"039900\", \"알파코\", 1000000, 10.05],\n",
    "    [\"039910\", \"A\", 500000, 1.05],\n",
    "    [\"039920\", \"B\", 1000, 1.28]\n",
    "]\n",
    "\n",
    "columns = ['종목코드', '종목명', '현재가', '등락률']\n",
    "df = pd.DataFrame(data = data, columns = columns)\n",
    "df"
   ]
  },
  {
   "cell_type": "code",
   "execution_count": null,
   "id": "637f9abc-c30c-42c9-9b42-aed6aa337c80",
   "metadata": {},
   "outputs": [],
   "source": []
  }
 ],
 "metadata": {
  "kernelspec": {
   "display_name": "Python 3 (ipykernel)",
   "language": "python",
   "name": "python3"
  },
  "language_info": {
   "codemirror_mode": {
    "name": "ipython",
    "version": 3
   },
   "file_extension": ".py",
   "mimetype": "text/x-python",
   "name": "python",
   "nbconvert_exporter": "python",
   "pygments_lexer": "ipython3",
   "version": "3.12.6"
  }
 },
 "nbformat": 4,
 "nbformat_minor": 5
}
