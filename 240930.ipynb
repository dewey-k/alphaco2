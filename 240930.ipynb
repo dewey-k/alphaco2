{
 "cells": [
  {
   "cell_type": "markdown",
   "id": "6c137fcc-36e8-43c9-b3c6-6a50753b2f66",
   "metadata": {},
   "source": [
    "# 데이터프레임 생성"
   ]
  },
  {
   "cell_type": "code",
   "execution_count": 2,
   "id": "437940ff-6277-4d51-9dc0-835c3fae2c76",
   "metadata": {},
   "outputs": [
    {
     "name": "stdout",
     "output_type": "stream",
     "text": [
      "2.1.1\n",
      "2.2.3\n"
     ]
    }
   ],
   "source": [
    "import numpy as np\n",
    "import pandas as pd\n",
    "\n",
    "print(np.__version__)\n",
    "print(pd.__version__)"
   ]
  },
  {
   "cell_type": "markdown",
   "id": "78bd6bcf-97d6-4452-b9cc-7dfa1440986c",
   "metadata": {},
   "source": [
    "- 첫번째 방법 : 리스트 활용\n",
    "- 두번째 방법 : 딕셔너리 활용(강사 선호)"
   ]
  },
  {
   "cell_type": "code",
   "execution_count": 4,
   "id": "0589b261-bad8-46d6-83ba-f1456feb145d",
   "metadata": {},
   "outputs": [
    {
     "data": {
      "text/html": [
       "<div>\n",
       "<style scoped>\n",
       "    .dataframe tbody tr th:only-of-type {\n",
       "        vertical-align: middle;\n",
       "    }\n",
       "\n",
       "    .dataframe tbody tr th {\n",
       "        vertical-align: top;\n",
       "    }\n",
       "\n",
       "    .dataframe thead th {\n",
       "        text-align: right;\n",
       "    }\n",
       "</style>\n",
       "<table border=\"1\" class=\"dataframe\">\n",
       "  <thead>\n",
       "    <tr style=\"text-align: right;\">\n",
       "      <th></th>\n",
       "      <th>종목코드</th>\n",
       "      <th>종목명</th>\n",
       "      <th>현재가</th>\n",
       "      <th>등락률</th>\n",
       "    </tr>\n",
       "  </thead>\n",
       "  <tbody>\n",
       "    <tr>\n",
       "      <th>0</th>\n",
       "      <td>039900</td>\n",
       "      <td>알파코</td>\n",
       "      <td>1000000</td>\n",
       "      <td>10.05</td>\n",
       "    </tr>\n",
       "    <tr>\n",
       "      <th>1</th>\n",
       "      <td>039910</td>\n",
       "      <td>A</td>\n",
       "      <td>500000</td>\n",
       "      <td>1.05</td>\n",
       "    </tr>\n",
       "    <tr>\n",
       "      <th>2</th>\n",
       "      <td>039920</td>\n",
       "      <td>B</td>\n",
       "      <td>1000</td>\n",
       "      <td>1.28</td>\n",
       "    </tr>\n",
       "  </tbody>\n",
       "</table>\n",
       "</div>"
      ],
      "text/plain": [
       "     종목코드  종목명      현재가    등락률\n",
       "0  039900  알파코  1000000  10.05\n",
       "1  039910    A   500000   1.05\n",
       "2  039920    B     1000   1.28"
      ]
     },
     "execution_count": 4,
     "metadata": {},
     "output_type": "execute_result"
    }
   ],
   "source": [
    "data = [\n",
    "    [\"039900\", \"알파코\", 1000000, 10.05],\n",
    "    [\"039910\", \"A\", 500000, 1.05],\n",
    "    [\"039920\", \"B\", 1000, 1.28]\n",
    "]\n",
    "\n",
    "columns = ['종목코드', '종목명', '현재가', '등락률']\n",
    "df = pd.DataFrame(data = data, columns = columns)\n",
    "df"
   ]
  },
  {
   "cell_type": "code",
   "execution_count": 11,
   "id": "637f9abc-c30c-42c9-9b42-aed6aa337c80",
   "metadata": {},
   "outputs": [
    {
     "data": {
      "text/html": [
       "<div>\n",
       "<style scoped>\n",
       "    .dataframe tbody tr th:only-of-type {\n",
       "        vertical-align: middle;\n",
       "    }\n",
       "\n",
       "    .dataframe tbody tr th {\n",
       "        vertical-align: top;\n",
       "    }\n",
       "\n",
       "    .dataframe thead th {\n",
       "        text-align: right;\n",
       "    }\n",
       "</style>\n",
       "<table border=\"1\" class=\"dataframe\">\n",
       "  <thead>\n",
       "    <tr style=\"text-align: right;\">\n",
       "      <th></th>\n",
       "      <th>종목코드</th>\n",
       "      <th>종목명</th>\n",
       "    </tr>\n",
       "  </thead>\n",
       "  <tbody>\n",
       "    <tr>\n",
       "      <th>0</th>\n",
       "      <td>039900</td>\n",
       "      <td>알파코</td>\n",
       "    </tr>\n",
       "    <tr>\n",
       "      <th>1</th>\n",
       "      <td>0399910</td>\n",
       "      <td>A</td>\n",
       "    </tr>\n",
       "    <tr>\n",
       "      <th>2</th>\n",
       "      <td>039920</td>\n",
       "      <td>B</td>\n",
       "    </tr>\n",
       "  </tbody>\n",
       "</table>\n",
       "</div>"
      ],
      "text/plain": [
       "      종목코드  종목명\n",
       "0   039900  알파코\n",
       "1  0399910    A\n",
       "2   039920    B"
      ]
     },
     "execution_count": 11,
     "metadata": {},
     "output_type": "execute_result"
    }
   ],
   "source": [
    "data2 = {\n",
    "    \"종목코드\" : ['039900', '0399910', '039920'],\n",
    "    '종목명' : ['알파코', 'A', 'B']\n",
    "}\n",
    "\n",
    "df2 = pd.DataFrame(data = data2)\n",
    "df2"
   ]
  },
  {
   "cell_type": "code",
   "execution_count": 12,
   "id": "331336e0-d8a6-4a70-a6ee-1136260223b9",
   "metadata": {},
   "outputs": [
    {
     "name": "stdout",
     "output_type": "stream",
     "text": [
      "['134849', 'C', 214885, 6.55]\n",
      "['235793', 'EH', 182853, 18.62]\n",
      "['613896', 'KLPTXYQFHI', 322691, 24.63]\n",
      "['966587', 'IBI', 371161, 20.33]\n",
      "['631416', 'PSNAS', 674291, 25.04]\n"
     ]
    }
   ],
   "source": [
    "import numpy as np\n",
    "import random\n",
    "import string\n",
    "\n",
    "# 랜덤한 회사 이름 생성 함수 (2~10자의 알파벳으로 구성)\n",
    "def random_company_name():\n",
    "    length = random.randint(1, 10)  # 회사 이름의 길이 (1~10자)\n",
    "    return ''.join(random.choices(string.ascii_uppercase, k=length))\n",
    "\n",
    "# 10,000개의 가상 데이터 생성\n",
    "data = []\n",
    "for _ in range(10000):\n",
    "    stock_code = ''.join(random.choices(string.digits, k=6))  # 6자리 숫자로 주식 코드 생성\n",
    "    company_name = random_company_name()  # 회사 이름 생성\n",
    "    price = random.randint(1000, 1000000)  # 주가 (1000 ~ 1000000)\n",
    "    price_change = round(random.uniform(0, 30), 2)  # 주가 상승률 (0 ~ 30, 소수점 둘째 자리까지)\n",
    "    data.append([stock_code, company_name, price, price_change])\n",
    "\n",
    "# 생성된 데이터 확인\n",
    "for i in range(5):  # 처음 5개 항목 출력\n",
    "    print(data[i])"
   ]
  },
  {
   "cell_type": "code",
   "execution_count": null,
   "id": "e84a7686-8357-49db-8f41-d928a488dd03",
   "metadata": {},
   "outputs": [],
   "source": []
  }
 ],
 "metadata": {
  "kernelspec": {
   "display_name": "Python 3 (ipykernel)",
   "language": "python",
   "name": "python3"
  },
  "language_info": {
   "codemirror_mode": {
    "name": "ipython",
    "version": 3
   },
   "file_extension": ".py",
   "mimetype": "text/x-python",
   "name": "python",
   "nbconvert_exporter": "python",
   "pygments_lexer": "ipython3",
   "version": "3.12.6"
  }
 },
 "nbformat": 4,
 "nbformat_minor": 5
}
