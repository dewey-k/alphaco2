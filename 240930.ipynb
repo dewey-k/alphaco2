{
 "cells": [
  {
   "cell_type": "markdown",
   "id": "6c137fcc-36e8-43c9-b3c6-6a50753b2f66",
   "metadata": {},
   "source": [
    "# 데이터프레임 생성"
   ]
  },
  {
   "cell_type": "code",
   "execution_count": 2,
   "id": "437940ff-6277-4d51-9dc0-835c3fae2c76",
   "metadata": {},
   "outputs": [
    {
     "name": "stdout",
     "output_type": "stream",
     "text": [
      "2.1.1\n",
      "2.2.3\n"
     ]
    }
   ],
   "source": [
    "import numpy as np\n",
    "import pandas as pd\n",
    "\n",
    "print(np.__version__)\n",
    "print(pd.__version__)"
   ]
  },
  {
   "cell_type": "markdown",
   "id": "78bd6bcf-97d6-4452-b9cc-7dfa1440986c",
   "metadata": {},
   "source": [
    "- 첫번째 방법 : 리스트 활용\n",
    "- 두번째 방법 : 딕셔너리 활용(강사 선호)"
   ]
  },
  {
   "cell_type": "code",
   "execution_count": 4,
   "id": "0589b261-bad8-46d6-83ba-f1456feb145d",
   "metadata": {},
   "outputs": [
    {
     "data": {
      "text/html": [
       "<div>\n",
       "<style scoped>\n",
       "    .dataframe tbody tr th:only-of-type {\n",
       "        vertical-align: middle;\n",
       "    }\n",
       "\n",
       "    .dataframe tbody tr th {\n",
       "        vertical-align: top;\n",
       "    }\n",
       "\n",
       "    .dataframe thead th {\n",
       "        text-align: right;\n",
       "    }\n",
       "</style>\n",
       "<table border=\"1\" class=\"dataframe\">\n",
       "  <thead>\n",
       "    <tr style=\"text-align: right;\">\n",
       "      <th></th>\n",
       "      <th>종목코드</th>\n",
       "      <th>종목명</th>\n",
       "      <th>현재가</th>\n",
       "      <th>등락률</th>\n",
       "    </tr>\n",
       "  </thead>\n",
       "  <tbody>\n",
       "    <tr>\n",
       "      <th>0</th>\n",
       "      <td>039900</td>\n",
       "      <td>알파코</td>\n",
       "      <td>1000000</td>\n",
       "      <td>10.05</td>\n",
       "    </tr>\n",
       "    <tr>\n",
       "      <th>1</th>\n",
       "      <td>039910</td>\n",
       "      <td>A</td>\n",
       "      <td>500000</td>\n",
       "      <td>1.05</td>\n",
       "    </tr>\n",
       "    <tr>\n",
       "      <th>2</th>\n",
       "      <td>039920</td>\n",
       "      <td>B</td>\n",
       "      <td>1000</td>\n",
       "      <td>1.28</td>\n",
       "    </tr>\n",
       "  </tbody>\n",
       "</table>\n",
       "</div>"
      ],
      "text/plain": [
       "     종목코드  종목명      현재가    등락률\n",
       "0  039900  알파코  1000000  10.05\n",
       "1  039910    A   500000   1.05\n",
       "2  039920    B     1000   1.28"
      ]
     },
     "execution_count": 4,
     "metadata": {},
     "output_type": "execute_result"
    }
   ],
   "source": [
    "data = [\n",
    "    [\"039900\", \"알파코\", 1000000, 10.05],\n",
    "    [\"039910\", \"A\", 500000, 1.05],\n",
    "    [\"039920\", \"B\", 1000, 1.28]\n",
    "]\n",
    "\n",
    "columns = ['종목코드', '종목명', '현재가', '등락률']\n",
    "df = pd.DataFrame(data = data, columns = columns)\n",
    "df"
   ]
  },
  {
   "cell_type": "code",
   "execution_count": 61,
   "id": "637f9abc-c30c-42c9-9b42-aed6aa337c80",
   "metadata": {},
   "outputs": [
    {
     "data": {
      "text/html": [
       "<div>\n",
       "<style scoped>\n",
       "    .dataframe tbody tr th:only-of-type {\n",
       "        vertical-align: middle;\n",
       "    }\n",
       "\n",
       "    .dataframe tbody tr th {\n",
       "        vertical-align: top;\n",
       "    }\n",
       "\n",
       "    .dataframe thead th {\n",
       "        text-align: right;\n",
       "    }\n",
       "</style>\n",
       "<table border=\"1\" class=\"dataframe\">\n",
       "  <thead>\n",
       "    <tr style=\"text-align: right;\">\n",
       "      <th></th>\n",
       "      <th>종목코드</th>\n",
       "      <th>종목명</th>\n",
       "    </tr>\n",
       "  </thead>\n",
       "  <tbody>\n",
       "    <tr>\n",
       "      <th>0</th>\n",
       "      <td>039900</td>\n",
       "      <td>알파코</td>\n",
       "    </tr>\n",
       "    <tr>\n",
       "      <th>1</th>\n",
       "      <td>0399910</td>\n",
       "      <td>A</td>\n",
       "    </tr>\n",
       "    <tr>\n",
       "      <th>2</th>\n",
       "      <td>039920</td>\n",
       "      <td>B</td>\n",
       "    </tr>\n",
       "  </tbody>\n",
       "</table>\n",
       "</div>"
      ],
      "text/plain": [
       "      종목코드  종목명\n",
       "0   039900  알파코\n",
       "1  0399910    A\n",
       "2   039920    B"
      ]
     },
     "execution_count": 61,
     "metadata": {},
     "output_type": "execute_result"
    }
   ],
   "source": [
    "data2 = {\n",
    "    \"종목코드\" : ['039900', '0399910', '039920'],\n",
    "    '종목명' : ['알파코', 'A', 'B']\n",
    "}\n",
    "\n",
    "df2 = pd.DataFrame(data = data2)\n",
    "df2"
   ]
  },
  {
   "cell_type": "code",
   "execution_count": 62,
   "id": "331336e0-d8a6-4a70-a6ee-1136260223b9",
   "metadata": {},
   "outputs": [
    {
     "name": "stdout",
     "output_type": "stream",
     "text": [
      "['973367', 'INUWLIF', 462799, 29.67]\n",
      "['697303', 'MZG', 846324, 25.86]\n",
      "['043197', 'ZUZ', 999671, 24.72]\n",
      "['038356', 'EMBYBI', 452602, 29.27]\n",
      "['717868', 'WY', 632994, 16.35]\n"
     ]
    }
   ],
   "source": [
    "import numpy as np\n",
    "import random\n",
    "import string\n",
    "\n",
    "# 랜덤한 회사 이름 생성 함수 (2~10자의 알파벳으로 구성)\n",
    "def random_company_name():\n",
    "    length = random.randint(1, 10)  # 회사 이름의 길이 (1~10자)\n",
    "    return ''.join(random.choices(string.ascii_uppercase, k=length))\n",
    "\n",
    "# 10,000개의 가상 데이터 생성\n",
    "data = []\n",
    "for _ in range(10000):\n",
    "    stock_code = ''.join(random.choices(string.digits, k=6))  # 6자리 숫자로 주식 코드 생성\n",
    "    company_name = random_company_name()  # 회사 이름 생성\n",
    "    price = random.randint(1000, 1000000)  # 주가 (1000 ~ 1000000)\n",
    "    price_change = round(random.uniform(0, 30), 2)  # 주가 상승률 (0 ~ 30, 소수점 둘째 자리까지)\n",
    "    data.append([stock_code, company_name, price, price_change])\n",
    "\n",
    "# 생성된 데이터 확인\n",
    "for i in range(5):  # 처음 5개 항목 출력\n",
    "    print(data[i])"
   ]
  },
  {
   "cell_type": "code",
   "execution_count": 63,
   "id": "e84a7686-8357-49db-8f41-d928a488dd03",
   "metadata": {},
   "outputs": [
    {
     "data": {
      "text/html": [
       "<div>\n",
       "<style scoped>\n",
       "    .dataframe tbody tr th:only-of-type {\n",
       "        vertical-align: middle;\n",
       "    }\n",
       "\n",
       "    .dataframe tbody tr th {\n",
       "        vertical-align: top;\n",
       "    }\n",
       "\n",
       "    .dataframe thead th {\n",
       "        text-align: right;\n",
       "    }\n",
       "</style>\n",
       "<table border=\"1\" class=\"dataframe\">\n",
       "  <thead>\n",
       "    <tr style=\"text-align: right;\">\n",
       "      <th></th>\n",
       "      <th>종목코드</th>\n",
       "      <th>종목명</th>\n",
       "      <th>현재가</th>\n",
       "      <th>등락률</th>\n",
       "    </tr>\n",
       "  </thead>\n",
       "  <tbody>\n",
       "    <tr>\n",
       "      <th>0</th>\n",
       "      <td>003163</td>\n",
       "      <td>NH</td>\n",
       "      <td>777189</td>\n",
       "      <td>4.37</td>\n",
       "    </tr>\n",
       "    <tr>\n",
       "      <th>1</th>\n",
       "      <td>000159</td>\n",
       "      <td>UQ</td>\n",
       "      <td>542422</td>\n",
       "      <td>-1.01</td>\n",
       "    </tr>\n",
       "    <tr>\n",
       "      <th>2</th>\n",
       "      <td>088000</td>\n",
       "      <td>SW</td>\n",
       "      <td>943870</td>\n",
       "      <td>-3.40</td>\n",
       "    </tr>\n",
       "    <tr>\n",
       "      <th>3</th>\n",
       "      <td>079992</td>\n",
       "      <td>OV</td>\n",
       "      <td>490573</td>\n",
       "      <td>-1.62</td>\n",
       "    </tr>\n",
       "    <tr>\n",
       "      <th>4</th>\n",
       "      <td>085754</td>\n",
       "      <td>NS</td>\n",
       "      <td>202237</td>\n",
       "      <td>-1.34</td>\n",
       "    </tr>\n",
       "  </tbody>\n",
       "</table>\n",
       "</div>"
      ],
      "text/plain": [
       "     종목코드 종목명     현재가   등락률\n",
       "0  003163  NH  777189  4.37\n",
       "1  000159  UQ  542422 -1.01\n",
       "2  088000  SW  943870 -3.40\n",
       "3  079992  OV  490573 -1.62\n",
       "4  085754  NS  202237 -1.34"
      ]
     },
     "execution_count": 63,
     "metadata": {},
     "output_type": "execute_result"
    }
   ],
   "source": [
    "import pandas as pd\n",
    "import random\n",
    "import string\n",
    "\n",
    "\n",
    "# Regenerating the dictionary where each key (종목코드, 종목명, 현재가, 등락률) has a list of values\n",
    "\n",
    "data_dict = {\n",
    "    \"종목코드\": [],\n",
    "    \"종목명\": [],\n",
    "    \"현재가\": [],\n",
    "    \"등락률\": []\n",
    "}\n",
    "\n",
    "# Function to generate simpler 종목코드 and 종목명 ensuring the 종목코드 starts with '0'\n",
    "def generate_code_name_for_dict(existing_codes):\n",
    "    while True:\n",
    "        code = '0' + ''.join(random.choices(string.digits, k=5))  # Ensure it starts with '0'\n",
    "        name = ''.join(random.choices(string.ascii_uppercase, k=2))  # Simpler 종목명 with 2 letters\n",
    "        if code not in existing_codes:\n",
    "            return code, name\n",
    "\n",
    "# Generating 10,000 rows of data\n",
    "existing_codes_for_dict = set()\n",
    "\n",
    "for _ in range(10000):\n",
    "    code, name = generate_code_name_for_dict(existing_codes_for_dict)\n",
    "    existing_codes_for_dict.add(code)\n",
    "    current_price = random.randint(1000, 1000000)  # Simpler current price\n",
    "    change_rate = round(random.uniform(-5, 5), 2)  # Simpler change rate\n",
    "    \n",
    "    data_dict[\"종목코드\"].append(code)\n",
    "    data_dict[\"종목명\"].append(name)\n",
    "    data_dict[\"현재가\"].append(current_price)\n",
    "    data_dict[\"등락률\"].append(change_rate)\n",
    "\n",
    "# Previewing a portion of the dictionary\n",
    "data_dict_preview = {k: data_dict[k][:5] for k in data_dict}\n",
    "\n",
    "# data_dict_previw 로 기재하면 5개 조회\n",
    "df2 = pd.DataFrame(data_dict_preview)\n",
    "df2"
   ]
  },
  {
   "cell_type": "code",
   "execution_count": 64,
   "id": "a4c76563-ba2b-46fb-b3a7-513a55f20343",
   "metadata": {},
   "outputs": [
    {
     "data": {
      "text/html": [
       "<div>\n",
       "<style scoped>\n",
       "    .dataframe tbody tr th:only-of-type {\n",
       "        vertical-align: middle;\n",
       "    }\n",
       "\n",
       "    .dataframe tbody tr th {\n",
       "        vertical-align: top;\n",
       "    }\n",
       "\n",
       "    .dataframe thead th {\n",
       "        text-align: right;\n",
       "    }\n",
       "</style>\n",
       "<table border=\"1\" class=\"dataframe\">\n",
       "  <thead>\n",
       "    <tr style=\"text-align: right;\">\n",
       "      <th></th>\n",
       "      <th>종목코드</th>\n",
       "      <th>종목명</th>\n",
       "      <th>현재가</th>\n",
       "      <th>등락률</th>\n",
       "    </tr>\n",
       "  </thead>\n",
       "  <tbody>\n",
       "    <tr>\n",
       "      <th>0</th>\n",
       "      <td>003163</td>\n",
       "      <td>NH</td>\n",
       "      <td>777189</td>\n",
       "      <td>4.37</td>\n",
       "    </tr>\n",
       "    <tr>\n",
       "      <th>1</th>\n",
       "      <td>000159</td>\n",
       "      <td>UQ</td>\n",
       "      <td>542422</td>\n",
       "      <td>-1.01</td>\n",
       "    </tr>\n",
       "  </tbody>\n",
       "</table>\n",
       "</div>"
      ],
      "text/plain": [
       "     종목코드 종목명     현재가   등락률\n",
       "0  003163  NH  777189  4.37\n",
       "1  000159  UQ  542422 -1.01"
      ]
     },
     "execution_count": 64,
     "metadata": {},
     "output_type": "execute_result"
    }
   ],
   "source": [
    "# 데이터 상단부터 (n)개 조회\n",
    "df2.head(2)"
   ]
  },
  {
   "cell_type": "code",
   "execution_count": 65,
   "id": "2c5fd086-693c-4dd3-a94c-4f56c384c99b",
   "metadata": {},
   "outputs": [
    {
     "data": {
      "text/html": [
       "<div>\n",
       "<style scoped>\n",
       "    .dataframe tbody tr th:only-of-type {\n",
       "        vertical-align: middle;\n",
       "    }\n",
       "\n",
       "    .dataframe tbody tr th {\n",
       "        vertical-align: top;\n",
       "    }\n",
       "\n",
       "    .dataframe thead th {\n",
       "        text-align: right;\n",
       "    }\n",
       "</style>\n",
       "<table border=\"1\" class=\"dataframe\">\n",
       "  <thead>\n",
       "    <tr style=\"text-align: right;\">\n",
       "      <th></th>\n",
       "      <th>종목코드</th>\n",
       "      <th>종목명</th>\n",
       "      <th>현재가</th>\n",
       "      <th>등락률</th>\n",
       "    </tr>\n",
       "  </thead>\n",
       "  <tbody>\n",
       "    <tr>\n",
       "      <th>4</th>\n",
       "      <td>085754</td>\n",
       "      <td>NS</td>\n",
       "      <td>202237</td>\n",
       "      <td>-1.34</td>\n",
       "    </tr>\n",
       "  </tbody>\n",
       "</table>\n",
       "</div>"
      ],
      "text/plain": [
       "     종목코드 종목명     현재가   등락률\n",
       "4  085754  NS  202237 -1.34"
      ]
     },
     "execution_count": 65,
     "metadata": {},
     "output_type": "execute_result"
    }
   ],
   "source": [
    "# 데이터 하단부터 (n)개 조회\n",
    "df2.tail(1)"
   ]
  },
  {
   "cell_type": "code",
   "execution_count": 66,
   "id": "1b04add5-3f21-40b7-8928-c23fc10082ea",
   "metadata": {},
   "outputs": [
    {
     "name": "stdout",
     "output_type": "stream",
     "text": [
      "<class 'pandas.core.frame.DataFrame'>\n",
      "RangeIndex: 5 entries, 0 to 4\n",
      "Data columns (total 4 columns):\n",
      " #   Column  Non-Null Count  Dtype  \n",
      "---  ------  --------------  -----  \n",
      " 0   종목코드    5 non-null      object \n",
      " 1   종목명     5 non-null      object \n",
      " 2   현재가     5 non-null      int64  \n",
      " 3   등락률     5 non-null      float64\n",
      "dtypes: float64(1), int64(1), object(2)\n",
      "memory usage: 292.0+ bytes\n"
     ]
    }
   ],
   "source": [
    "# 데이터 정보\n",
    "df2.info()"
   ]
  },
  {
   "cell_type": "code",
   "execution_count": 67,
   "id": "55426e5e-6015-4f40-a984-9a1bb80101bb",
   "metadata": {},
   "outputs": [
    {
     "data": {
      "text/html": [
       "<div>\n",
       "<style scoped>\n",
       "    .dataframe tbody tr th:only-of-type {\n",
       "        vertical-align: middle;\n",
       "    }\n",
       "\n",
       "    .dataframe tbody tr th {\n",
       "        vertical-align: top;\n",
       "    }\n",
       "\n",
       "    .dataframe thead th {\n",
       "        text-align: right;\n",
       "    }\n",
       "</style>\n",
       "<table border=\"1\" class=\"dataframe\">\n",
       "  <thead>\n",
       "    <tr style=\"text-align: right;\">\n",
       "      <th></th>\n",
       "      <th>현재가</th>\n",
       "      <th>등락률</th>\n",
       "    </tr>\n",
       "  </thead>\n",
       "  <tbody>\n",
       "    <tr>\n",
       "      <th>count</th>\n",
       "      <td>3.000000</td>\n",
       "      <td>3.000000</td>\n",
       "    </tr>\n",
       "    <tr>\n",
       "      <th>mean</th>\n",
       "      <td>500333.333333</td>\n",
       "      <td>4.126667</td>\n",
       "    </tr>\n",
       "    <tr>\n",
       "      <th>std</th>\n",
       "      <td>499500.083417</td>\n",
       "      <td>5.131046</td>\n",
       "    </tr>\n",
       "    <tr>\n",
       "      <th>min</th>\n",
       "      <td>1000.000000</td>\n",
       "      <td>1.050000</td>\n",
       "    </tr>\n",
       "    <tr>\n",
       "      <th>25%</th>\n",
       "      <td>250500.000000</td>\n",
       "      <td>1.165000</td>\n",
       "    </tr>\n",
       "    <tr>\n",
       "      <th>50%</th>\n",
       "      <td>500000.000000</td>\n",
       "      <td>1.280000</td>\n",
       "    </tr>\n",
       "    <tr>\n",
       "      <th>75%</th>\n",
       "      <td>750000.000000</td>\n",
       "      <td>5.665000</td>\n",
       "    </tr>\n",
       "    <tr>\n",
       "      <th>max</th>\n",
       "      <td>1000000.000000</td>\n",
       "      <td>10.050000</td>\n",
       "    </tr>\n",
       "  </tbody>\n",
       "</table>\n",
       "</div>"
      ],
      "text/plain": [
       "                  현재가        등락률\n",
       "count        3.000000   3.000000\n",
       "mean    500333.333333   4.126667\n",
       "std     499500.083417   5.131046\n",
       "min       1000.000000   1.050000\n",
       "25%     250500.000000   1.165000\n",
       "50%     500000.000000   1.280000\n",
       "75%     750000.000000   5.665000\n",
       "max    1000000.000000  10.050000"
      ]
     },
     "execution_count": 67,
     "metadata": {},
     "output_type": "execute_result"
    }
   ],
   "source": [
    "# 여러 수치들 \n",
    "df.describe()"
   ]
  },
  {
   "cell_type": "code",
   "execution_count": 68,
   "id": "e76de42d-204a-4b53-80f3-235c384520ac",
   "metadata": {},
   "outputs": [
    {
     "data": {
      "text/html": [
       "<div>\n",
       "<style scoped>\n",
       "    .dataframe tbody tr th:only-of-type {\n",
       "        vertical-align: middle;\n",
       "    }\n",
       "\n",
       "    .dataframe tbody tr th {\n",
       "        vertical-align: top;\n",
       "    }\n",
       "\n",
       "    .dataframe thead th {\n",
       "        text-align: right;\n",
       "    }\n",
       "</style>\n",
       "<table border=\"1\" class=\"dataframe\">\n",
       "  <thead>\n",
       "    <tr style=\"text-align: right;\">\n",
       "      <th></th>\n",
       "      <th>종목코드</th>\n",
       "      <th>종목명</th>\n",
       "      <th>현재가</th>\n",
       "      <th>등락률</th>\n",
       "    </tr>\n",
       "  </thead>\n",
       "  <tbody>\n",
       "    <tr>\n",
       "      <th>0</th>\n",
       "      <td>039900</td>\n",
       "      <td>알파코</td>\n",
       "      <td>10000000</td>\n",
       "      <td>10.05</td>\n",
       "    </tr>\n",
       "    <tr>\n",
       "      <th>1</th>\n",
       "      <td>039910</td>\n",
       "      <td>A</td>\n",
       "      <td>500000</td>\n",
       "      <td>1.05</td>\n",
       "    </tr>\n",
       "    <tr>\n",
       "      <th>2</th>\n",
       "      <td>039920</td>\n",
       "      <td>B</td>\n",
       "      <td>1000</td>\n",
       "      <td>1.28</td>\n",
       "    </tr>\n",
       "  </tbody>\n",
       "</table>\n",
       "</div>"
      ],
      "text/plain": [
       "     종목코드  종목명       현재가    등락률\n",
       "0  039900  알파코  10000000  10.05\n",
       "1  039910    A    500000   1.05\n",
       "2  039920    B      1000   1.28"
      ]
     },
     "execution_count": 68,
     "metadata": {},
     "output_type": "execute_result"
    }
   ],
   "source": [
    "data2 = {\n",
    "    \"종목코드\" : ['039900', '039910', '039920'], \n",
    "    \"종목명\" : [\"알파코\", \"A\", \"B\"], \n",
    "    \"현재가\" : [10000000, 500000, 1000], \n",
    "    \"등락률\" : [10.05, 1.05, 1.28]\n",
    "}\n",
    "\n",
    "df2 = pd.DataFrame(data = data2)\n",
    "df2"
   ]
  },
  {
   "cell_type": "code",
   "execution_count": 69,
   "id": "8a9bc16d-0853-4d0f-93b7-2d7b3e6a9d01",
   "metadata": {},
   "outputs": [
    {
     "data": {
      "text/html": [
       "<div>\n",
       "<style scoped>\n",
       "    .dataframe tbody tr th:only-of-type {\n",
       "        vertical-align: middle;\n",
       "    }\n",
       "\n",
       "    .dataframe tbody tr th {\n",
       "        vertical-align: top;\n",
       "    }\n",
       "\n",
       "    .dataframe thead th {\n",
       "        text-align: right;\n",
       "    }\n",
       "</style>\n",
       "<table border=\"1\" class=\"dataframe\">\n",
       "  <thead>\n",
       "    <tr style=\"text-align: right;\">\n",
       "      <th></th>\n",
       "      <th>종목명</th>\n",
       "      <th>현재가</th>\n",
       "      <th>등락률</th>\n",
       "    </tr>\n",
       "    <tr>\n",
       "      <th>종목코드</th>\n",
       "      <th></th>\n",
       "      <th></th>\n",
       "      <th></th>\n",
       "    </tr>\n",
       "  </thead>\n",
       "  <tbody>\n",
       "    <tr>\n",
       "      <th>039900</th>\n",
       "      <td>알파코</td>\n",
       "      <td>10000000</td>\n",
       "      <td>10.05</td>\n",
       "    </tr>\n",
       "    <tr>\n",
       "      <th>039910</th>\n",
       "      <td>A</td>\n",
       "      <td>500000</td>\n",
       "      <td>1.05</td>\n",
       "    </tr>\n",
       "    <tr>\n",
       "      <th>039920</th>\n",
       "      <td>B</td>\n",
       "      <td>1000</td>\n",
       "      <td>1.28</td>\n",
       "    </tr>\n",
       "  </tbody>\n",
       "</table>\n",
       "</div>"
      ],
      "text/plain": [
       "        종목명       현재가    등락률\n",
       "종목코드                        \n",
       "039900  알파코  10000000  10.05\n",
       "039910    A    500000   1.05\n",
       "039920    B      1000   1.28"
      ]
     },
     "execution_count": 69,
     "metadata": {},
     "output_type": "execute_result"
    }
   ],
   "source": [
    "# 종목코드를 인덱스로 변경\n",
    "\n",
    "df2 = df2.set_index(\"종목코드\")\n",
    "df2"
   ]
  },
  {
   "cell_type": "code",
   "execution_count": 70,
   "id": "87cc0b5d-9461-48ab-9418-54d6f52695b2",
   "metadata": {},
   "outputs": [
    {
     "data": {
      "text/html": [
       "<div>\n",
       "<style scoped>\n",
       "    .dataframe tbody tr th:only-of-type {\n",
       "        vertical-align: middle;\n",
       "    }\n",
       "\n",
       "    .dataframe tbody tr th {\n",
       "        vertical-align: top;\n",
       "    }\n",
       "\n",
       "    .dataframe thead th {\n",
       "        text-align: right;\n",
       "    }\n",
       "</style>\n",
       "<table border=\"1\" class=\"dataframe\">\n",
       "  <thead>\n",
       "    <tr style=\"text-align: right;\">\n",
       "      <th></th>\n",
       "      <th>종목코드</th>\n",
       "      <th>종목명</th>\n",
       "      <th>현재가</th>\n",
       "      <th>등락률</th>\n",
       "    </tr>\n",
       "  </thead>\n",
       "  <tbody>\n",
       "    <tr>\n",
       "      <th>0</th>\n",
       "      <td>039900</td>\n",
       "      <td>알파코</td>\n",
       "      <td>10000000</td>\n",
       "      <td>10.05</td>\n",
       "    </tr>\n",
       "    <tr>\n",
       "      <th>1</th>\n",
       "      <td>039910</td>\n",
       "      <td>A</td>\n",
       "      <td>500000</td>\n",
       "      <td>1.05</td>\n",
       "    </tr>\n",
       "    <tr>\n",
       "      <th>2</th>\n",
       "      <td>039920</td>\n",
       "      <td>B</td>\n",
       "      <td>1000</td>\n",
       "      <td>1.28</td>\n",
       "    </tr>\n",
       "  </tbody>\n",
       "</table>\n",
       "</div>"
      ],
      "text/plain": [
       "     종목코드  종목명       현재가    등락률\n",
       "0  039900  알파코  10000000  10.05\n",
       "1  039910    A    500000   1.05\n",
       "2  039920    B      1000   1.28"
      ]
     },
     "execution_count": 70,
     "metadata": {},
     "output_type": "execute_result"
    }
   ],
   "source": [
    "df2.reset_index()"
   ]
  },
  {
   "cell_type": "code",
   "execution_count": 72,
   "id": "1127943c-ccaa-411e-9e11-e87b9b7e431c",
   "metadata": {},
   "outputs": [
    {
     "data": {
      "text/html": [
       "<div>\n",
       "<style scoped>\n",
       "    .dataframe tbody tr th:only-of-type {\n",
       "        vertical-align: middle;\n",
       "    }\n",
       "\n",
       "    .dataframe tbody tr th {\n",
       "        vertical-align: top;\n",
       "    }\n",
       "\n",
       "    .dataframe thead th {\n",
       "        text-align: right;\n",
       "    }\n",
       "</style>\n",
       "<table border=\"1\" class=\"dataframe\">\n",
       "  <thead>\n",
       "    <tr style=\"text-align: right;\">\n",
       "      <th></th>\n",
       "      <th>종목명</th>\n",
       "      <th>현재가</th>\n",
       "      <th>등락률</th>\n",
       "    </tr>\n",
       "  </thead>\n",
       "  <tbody>\n",
       "    <tr>\n",
       "      <th>0</th>\n",
       "      <td>알파코</td>\n",
       "      <td>10000000</td>\n",
       "      <td>10.05</td>\n",
       "    </tr>\n",
       "    <tr>\n",
       "      <th>1</th>\n",
       "      <td>A</td>\n",
       "      <td>500000</td>\n",
       "      <td>1.05</td>\n",
       "    </tr>\n",
       "    <tr>\n",
       "      <th>2</th>\n",
       "      <td>B</td>\n",
       "      <td>1000</td>\n",
       "      <td>1.28</td>\n",
       "    </tr>\n",
       "  </tbody>\n",
       "</table>\n",
       "</div>"
      ],
      "text/plain": [
       "   종목명       현재가    등락률\n",
       "0  알파코  10000000  10.05\n",
       "1    A    500000   1.05\n",
       "2    B      1000   1.28"
      ]
     },
     "execution_count": 72,
     "metadata": {},
     "output_type": "execute_result"
    }
   ],
   "source": [
    "df2.reset_index(drop=True) #df2.reset_index()"
   ]
  },
  {
   "cell_type": "code",
   "execution_count": 74,
   "id": "cbefe9a1-cec5-490c-b602-bd83c65303be",
   "metadata": {},
   "outputs": [
    {
     "data": {
      "text/html": [
       "<div>\n",
       "<style scoped>\n",
       "    .dataframe tbody tr th:only-of-type {\n",
       "        vertical-align: middle;\n",
       "    }\n",
       "\n",
       "    .dataframe tbody tr th {\n",
       "        vertical-align: top;\n",
       "    }\n",
       "\n",
       "    .dataframe thead th {\n",
       "        text-align: right;\n",
       "    }\n",
       "</style>\n",
       "<table border=\"1\" class=\"dataframe\">\n",
       "  <thead>\n",
       "    <tr style=\"text-align: right;\">\n",
       "      <th></th>\n",
       "      <th>종목명</th>\n",
       "      <th>현재가</th>\n",
       "      <th>등락률</th>\n",
       "    </tr>\n",
       "  </thead>\n",
       "  <tbody>\n",
       "    <tr>\n",
       "      <th>039900</th>\n",
       "      <td>알파코</td>\n",
       "      <td>10000000</td>\n",
       "      <td>10.05</td>\n",
       "    </tr>\n",
       "    <tr>\n",
       "      <th>039910</th>\n",
       "      <td>A</td>\n",
       "      <td>500000</td>\n",
       "      <td>1.05</td>\n",
       "    </tr>\n",
       "    <tr>\n",
       "      <th>039900</th>\n",
       "      <td>B</td>\n",
       "      <td>1000</td>\n",
       "      <td>1.28</td>\n",
       "    </tr>\n",
       "  </tbody>\n",
       "</table>\n",
       "</div>"
      ],
      "text/plain": [
       "        종목명       현재가    등락률\n",
       "039900  알파코  10000000  10.05\n",
       "039910    A    500000   1.05\n",
       "039900    B      1000   1.28"
      ]
     },
     "execution_count": 74,
     "metadata": {},
     "output_type": "execute_result"
    }
   ],
   "source": [
    "from pandas import DataFrame\n",
    "\n",
    "data = [\n",
    "    [\"알파코\", 10000000, 10.05], \n",
    "    [\"A\", 500000, 1.05], \n",
    "    [\"B\", 1000, 1.28]\n",
    "]\n",
    "\n",
    "index = [\"039900\", \"039910\", \"039900\"] # 인덱스 설정\n",
    "columns = [\"종목명\", \"현재가\", \"등락률\"]\n",
    "df = DataFrame(data=data, index=index, columns=columns)\n",
    "df"
   ]
  },
  {
   "cell_type": "code",
   "execution_count": 75,
   "id": "5491e4ce-93c3-4818-baf8-f7e7075c9688",
   "metadata": {},
   "outputs": [
    {
     "data": {
      "text/plain": [
       "(3,)"
      ]
     },
     "execution_count": 75,
     "metadata": {},
     "output_type": "execute_result"
    }
   ],
   "source": [
    "df.index.shape"
   ]
  },
  {
   "cell_type": "code",
   "execution_count": 76,
   "id": "ea8c71e3-e6f4-4cc2-8fc8-3961dc863190",
   "metadata": {},
   "outputs": [
    {
     "data": {
      "text/plain": [
       "Index(['039900', '039910', '039900'], dtype='object')"
      ]
     },
     "execution_count": 76,
     "metadata": {},
     "output_type": "execute_result"
    }
   ],
   "source": [
    "df.index"
   ]
  },
  {
   "cell_type": "code",
   "execution_count": 77,
   "id": "ed0c35d1-5958-40f9-98f5-897a1657ae3c",
   "metadata": {},
   "outputs": [
    {
     "data": {
      "text/plain": [
       "array([['알파코', 10000000, 10.05],\n",
       "       ['A', 500000, 1.05],\n",
       "       ['B', 1000, 1.28]], dtype=object)"
      ]
     },
     "execution_count": 77,
     "metadata": {},
     "output_type": "execute_result"
    }
   ],
   "source": [
    "df.values"
   ]
  },
  {
   "cell_type": "code",
   "execution_count": 82,
   "id": "3f802815-b287-4023-9b0b-4a648188619a",
   "metadata": {},
   "outputs": [
    {
     "data": {
      "text/plain": [
       "039900    10000000\n",
       "039910      500000\n",
       "039900        1000\n",
       "Name: 현재가, dtype: int64"
      ]
     },
     "execution_count": 82,
     "metadata": {},
     "output_type": "execute_result"
    }
   ],
   "source": [
    "# 컬럼 조회 방법 2\n",
    "df.현재가"
   ]
  },
  {
   "cell_type": "code",
   "execution_count": 79,
   "id": "a462115c-c033-45a2-8b41-0901921b3c4a",
   "metadata": {},
   "outputs": [
    {
     "data": {
      "text/plain": [
       "039900    10000000\n",
       "039910      500000\n",
       "039900        1000\n",
       "Name: 현재가, dtype: int64"
      ]
     },
     "execution_count": 79,
     "metadata": {},
     "output_type": "execute_result"
    }
   ],
   "source": [
    "# 컬럼 조회 방법 2\n",
    "df['현재가']"
   ]
  },
  {
   "cell_type": "code",
   "execution_count": 84,
   "id": "23d53ab9-d221-4f2d-9167-65751ac3f51a",
   "metadata": {},
   "outputs": [
    {
     "data": {
      "text/html": [
       "<div>\n",
       "<style scoped>\n",
       "    .dataframe tbody tr th:only-of-type {\n",
       "        vertical-align: middle;\n",
       "    }\n",
       "\n",
       "    .dataframe tbody tr th {\n",
       "        vertical-align: top;\n",
       "    }\n",
       "\n",
       "    .dataframe thead th {\n",
       "        text-align: right;\n",
       "    }\n",
       "</style>\n",
       "<table border=\"1\" class=\"dataframe\">\n",
       "  <thead>\n",
       "    <tr style=\"text-align: right;\">\n",
       "      <th></th>\n",
       "      <th>현재가</th>\n",
       "    </tr>\n",
       "  </thead>\n",
       "  <tbody>\n",
       "    <tr>\n",
       "      <th>039900</th>\n",
       "      <td>10000000</td>\n",
       "    </tr>\n",
       "    <tr>\n",
       "      <th>039910</th>\n",
       "      <td>500000</td>\n",
       "    </tr>\n",
       "    <tr>\n",
       "      <th>039900</th>\n",
       "      <td>1000</td>\n",
       "    </tr>\n",
       "  </tbody>\n",
       "</table>\n",
       "</div>"
      ],
      "text/plain": [
       "             현재가\n",
       "039900  10000000\n",
       "039910    500000\n",
       "039900      1000"
      ]
     },
     "execution_count": 84,
     "metadata": {},
     "output_type": "execute_result"
    }
   ],
   "source": [
    "# 위 방법과 클래스가 다르다 = 속성과 메서드가 다르다\n",
    "df[['현재가']]"
   ]
  },
  {
   "cell_type": "code",
   "execution_count": null,
   "id": "15fc5a18-f733-479b-9930-59aecc602e38",
   "metadata": {},
   "outputs": [],
   "source": []
  }
 ],
 "metadata": {
  "kernelspec": {
   "display_name": "Python 3 (ipykernel)",
   "language": "python",
   "name": "python3"
  },
  "language_info": {
   "codemirror_mode": {
    "name": "ipython",
    "version": 3
   },
   "file_extension": ".py",
   "mimetype": "text/x-python",
   "name": "python",
   "nbconvert_exporter": "python",
   "pygments_lexer": "ipython3",
   "version": "3.12.6"
  }
 },
 "nbformat": 4,
 "nbformat_minor": 5
}
