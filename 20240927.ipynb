{
 "cells": [
  {
   "cell_type": "markdown",
   "id": "77b5a4a3-db9a-44e4-8b5a-8a5a6bb36e15",
   "metadata": {},
   "source": [
    "# 라이브러리 설치"
   ]
  },
  {
   "cell_type": "code",
   "execution_count": 1,
   "id": "8d82ad51-47d2-4745-b87f-7ca49877a279",
   "metadata": {},
   "outputs": [
    {
     "name": "stdout",
     "output_type": "stream",
     "text": [
      "Requirement already satisfied: numpy in ./venv/lib/python3.12/site-packages (2.1.1)\n"
     ]
    }
   ],
   "source": [
    "# pip install -r req 쓰지만 추가로 설치하고 싶을 때\n",
    "\n",
    "!pip install numpy"
   ]
  },
  {
   "cell_type": "code",
   "execution_count": 6,
   "id": "fe22ed0e-5119-47db-ae88-9c42e529228f",
   "metadata": {},
   "outputs": [
    {
     "name": "stdout",
     "output_type": "stream",
     "text": [
      "2.1.1\n"
     ]
    }
   ],
   "source": [
    "# 라이브러리에서 책을 꺼내는 것과 같음 \n",
    "import numpy as np\n",
    "print(np.__version__)\n",
    "\n",
    "#설명서 읽고 싶을 땐 help() 사용하기"
   ]
  },
  {
   "cell_type": "code",
   "execution_count": 7,
   "id": "402105a8-045a-4c05-8054-ff398f3d104a",
   "metadata": {},
   "outputs": [
    {
     "data": {
      "text/plain": [
       "[1, 2, 3, 4, 5, 6]"
      ]
     },
     "execution_count": 7,
     "metadata": {},
     "output_type": "execute_result"
    }
   ],
   "source": [
    "num1 = [1, 2, 3]\n",
    "num2 = [4, 5, 6]\n",
    "\n",
    "#      [5, 7, 9]"
   ]
  },
  {
   "cell_type": "code",
   "execution_count": 8,
   "id": "77767dc8-abb9-431a-bed1-569b51fecf9a",
   "metadata": {},
   "outputs": [
    {
     "data": {
      "text/plain": [
       "array([5, 7, 9])"
      ]
     },
     "execution_count": 8,
     "metadata": {},
     "output_type": "execute_result"
    }
   ],
   "source": [
    "num1_arr = np.array(num1)\n",
    "num2_arr = np.array(num2)\n",
    "\n",
    "num1_arr + num2_arr"
   ]
  },
  {
   "cell_type": "code",
   "execution_count": 10,
   "id": "2324625b-589c-4560-844c-47cf69646d51",
   "metadata": {},
   "outputs": [
    {
     "name": "stdout",
     "output_type": "stream",
     "text": [
      "<class 'numpy.ndarray'>\n"
     ]
    }
   ],
   "source": [
    "print(type(num1_arr))\n",
    "# 속성, 메서드"
   ]
  },
  {
   "cell_type": "code",
   "execution_count": 22,
   "id": "6ea11359-3f34-40d4-83af-5a28a91a272c",
   "metadata": {},
   "outputs": [
    {
     "data": {
      "text/plain": [
       "array([1, 2, 3])"
      ]
     },
     "execution_count": 22,
     "metadata": {},
     "output_type": "execute_result"
    }
   ],
   "source": [
    "# 전치 배열\n",
    "num1_arr.T"
   ]
  },
  {
   "cell_type": "code",
   "execution_count": 17,
   "id": "18502dcd-de40-4515-843c-158a5a1b834f",
   "metadata": {},
   "outputs": [
    {
     "data": {
      "text/plain": [
       "<memory at 0x10be51c00>"
      ]
     },
     "execution_count": 17,
     "metadata": {},
     "output_type": "execute_result"
    }
   ],
   "source": [
    "# 해당 열의 데이터 타입\n",
    "num1_arr.data"
   ]
  },
  {
   "cell_type": "code",
   "execution_count": 24,
   "id": "8452294a-9abf-4778-a45c-25fae4c87d18",
   "metadata": {},
   "outputs": [
    {
     "data": {
      "text/plain": [
       "dtype('int64')"
      ]
     },
     "execution_count": 24,
     "metadata": {},
     "output_type": "execute_result"
    }
   ],
   "source": [
    "# 배열 요소의 데이터 유형\n",
    "num1_arr.dtype"
   ]
  },
  {
   "cell_type": "code",
   "execution_count": 25,
   "id": "b733c53c-b3b5-4c43-8b6a-5cbfc8ad9866",
   "metadata": {},
   "outputs": [
    {
     "data": {
      "text/plain": [
       "(3,)"
      ]
     },
     "execution_count": 25,
     "metadata": {},
     "output_type": "execute_result"
    }
   ],
   "source": [
    "# 정수 튜플\n",
    "num1_arr.shape"
   ]
  },
  {
   "cell_type": "code",
   "execution_count": 26,
   "id": "e2ab1193-1daf-41bb-abbd-ad3234c0d329",
   "metadata": {},
   "outputs": [
    {
     "data": {
      "text/plain": [
       "1"
      ]
     },
     "execution_count": 26,
     "metadata": {},
     "output_type": "execute_result"
    }
   ],
   "source": [
    "# 정수 튜플\n",
    "num1_arr.ndim"
   ]
  },
  {
   "cell_type": "code",
   "execution_count": 27,
   "id": "da96d66a-4669-4ced-91d9-e76bbaf98531",
   "metadata": {},
   "outputs": [
    {
     "data": {
      "text/plain": [
       "np.int64(3)"
      ]
     },
     "execution_count": 27,
     "metadata": {},
     "output_type": "execute_result"
    }
   ],
   "source": [
    "# 최댓값\n",
    "num1_arr.max()"
   ]
  },
  {
   "cell_type": "code",
   "execution_count": 29,
   "id": "a23d558c-b2a1-4f15-aa23-fd46576921ec",
   "metadata": {},
   "outputs": [
    {
     "data": {
      "text/plain": [
       "dtype('int8')"
      ]
     },
     "execution_count": 29,
     "metadata": {},
     "output_type": "execute_result"
    }
   ],
   "source": [
    "num1_arr = np.array(num1, dtype=\"int8\")\n",
    "num1_arr.dtype"
   ]
  },
  {
   "cell_type": "markdown",
   "id": "0ee1130c-36a5-4673-b27e-2579375b52c6",
   "metadata": {},
   "source": [
    "## 배열 만드는 방법"
   ]
  },
  {
   "cell_type": "code",
   "execution_count": 41,
   "id": "fdfd93fb-1e5b-4d6b-b5ab-2eeb916e675d",
   "metadata": {},
   "outputs": [
    {
     "name": "stdout",
     "output_type": "stream",
     "text": [
      "[1. 1. 1.]\n",
      "[0. 0. 0. 0. 0.]\n"
     ]
    }
   ],
   "source": [
    "# 기본적으로 다른 데이터 자료형으로 numpy 배열로 변환\n",
    "# 배열 생성\n",
    "print(np.ones(3))\n",
    "print(np.zeros(5))"
   ]
  },
  {
   "cell_type": "code",
   "execution_count": 53,
   "id": "741501f5-6416-481c-9d50-68d3be12f98c",
   "metadata": {},
   "outputs": [
    {
     "name": "stdout",
     "output_type": "stream",
     "text": [
      "[[0. 0.]\n",
      " [0. 0.]]\n"
     ]
    }
   ],
   "source": [
    "# 1차원, 2차원, 3차원..\n",
    "print(np.ndarray(shape=(2,2), dtype=float, order='F'))"
   ]
  },
  {
   "cell_type": "code",
   "execution_count": 52,
   "id": "04a010da-e0e3-498f-b541-09dac024f12c",
   "metadata": {},
   "outputs": [
    {
     "name": "stdout",
     "output_type": "stream",
     "text": [
      "[[ 1.27189941e-30 -2.54379882e-30  6.35949704e-31]\n",
      " [-2.54379882e-30  5.53276243e-30 -1.71706420e-30]\n",
      " [ 6.35949704e-31 -1.71706420e-30  9.85722042e-31]]\n"
     ]
    },
    {
     "data": {
      "text/plain": [
       "(3, 3)"
      ]
     },
     "execution_count": 52,
     "metadata": {},
     "output_type": "execute_result"
    }
   ],
   "source": [
    "array = np.ndarray(shape=(3,3), dtype=float, order='F')\n",
    "\n",
    "print(array)\n",
    "array.shape"
   ]
  },
  {
   "cell_type": "code",
   "execution_count": 54,
   "id": "57fe188d-4a52-422b-bb10-1f4f320b3f2a",
   "metadata": {},
   "outputs": [
    {
     "data": {
      "text/plain": [
       "array([[[ 0,  1,  2,  3,  4,  5,  6,  7],\n",
       "        [ 8,  9, 10, 11, 12, 13, 14, 15]]])"
      ]
     },
     "execution_count": 54,
     "metadata": {},
     "output_type": "execute_result"
    }
   ],
   "source": [
    "temp_arr = np.arange(16)\n",
    "temp_arr.reshape(1, 2, 8)"
   ]
  },
  {
   "cell_type": "code",
   "execution_count": 57,
   "id": "07ffcade-37d4-43b4-a33c-8c39a7239e44",
   "metadata": {},
   "outputs": [],
   "source": [
    "temp_arr = np.arange(16)\n",
    "# temp_arr.reshape(2, 2, 8) -> 16 사이즈와 맞지 않아서 오류남"
   ]
  },
  {
   "cell_type": "code",
   "execution_count": 61,
   "id": "5156089c-c1c3-4458-ae5c-b69f73d317f1",
   "metadata": {},
   "outputs": [
    {
     "name": "stdout",
     "output_type": "stream",
     "text": [
      "[0.4443]\n",
      "[0.44444433]\n",
      "[0.44444433]\n"
     ]
    }
   ],
   "source": [
    "# 비트의 중요성\n",
    "a16 = np.array([1.333333], dtype = np.float16)\n",
    "a32 = np.array([1.333333], dtype = np.float32)\n",
    "a64 = np.array([1.333333], dtype = np.float64)\n",
    "print(a16/3)\n",
    "print(a32/3)\n",
    "print(a64/3)"
   ]
  },
  {
   "cell_type": "code",
   "execution_count": 65,
   "id": "48e89db6-20f2-4e97-9578-372dff74d69c",
   "metadata": {},
   "outputs": [
    {
     "name": "stderr",
     "output_type": "stream",
     "text": [
      "/var/folders/4t/lxzd9js10cb1w262tdv6bk740000gn/T/ipykernel_34590/285127068.py:2: RuntimeWarning: divide by zero encountered in divide\n",
      "  arr/0\n"
     ]
    },
    {
     "data": {
      "text/plain": [
       "array([-inf,  inf, -inf])"
      ]
     },
     "execution_count": 65,
     "metadata": {},
     "output_type": "execute_result"
    }
   ],
   "source": [
    "arr = np.array([-1, 2, -3])\n",
    "arr/0 \n",
    "# 0으로 나눌 때 오류남 "
   ]
  },
  {
   "cell_type": "markdown",
   "id": "499760ab-5e6b-4f7c-aa56-a0fa7f08d86a",
   "metadata": {},
   "source": [
    "결측치\n",
    "- Missing Values : 잃어버린 값\n",
    "- nan : Not a Number -> 아직 정의되지 않은 숫자"
   ]
  },
  {
   "cell_type": "code",
   "execution_count": 67,
   "id": "deecd09f-ad51-4466-931b-a3edf9f32d65",
   "metadata": {},
   "outputs": [
    {
     "name": "stdout",
     "output_type": "stream",
     "text": [
      "nan <class 'float'>\n",
      "nan <class 'float'>\n",
      "nan <class 'float'>\n"
     ]
    }
   ],
   "source": [
    "print(np.nan, type(np.nan))\n",
    "print(np.nan, type(np.inf))\n",
    "print(-np.nan, type(-np.nan))"
   ]
  },
  {
   "cell_type": "code",
   "execution_count": 69,
   "id": "d19106f4-75f2-42d0-9e11-0923b1ddd715",
   "metadata": {},
   "outputs": [
    {
     "name": "stdout",
     "output_type": "stream",
     "text": [
      "[nan nan nan]\n",
      "[inf inf inf]\n"
     ]
    }
   ],
   "source": [
    "# 에러가 아니지만, 결측값이 존재하므로 나타나는 값 (결측값 혹은 무한대값)\n",
    "arr = np.array([-1, 2, -3])\n",
    "print(arr + np.nan)\n",
    "print(arr + np.inf)"
   ]
  },
  {
   "cell_type": "markdown",
   "id": "a22391ce-c11d-4b29-8456-633bc8243720",
   "metadata": {},
   "source": [
    "# 인덱싱 & 슬라이싱"
   ]
  },
  {
   "cell_type": "code",
   "execution_count": 70,
   "id": "6bf8f83a-decd-4060-ac43-97fe4b80e4dc",
   "metadata": {},
   "outputs": [
    {
     "data": {
      "text/plain": [
       "array([1, 2, 3, 4])"
      ]
     },
     "execution_count": 70,
     "metadata": {},
     "output_type": "execute_result"
    }
   ],
   "source": [
    "arr = np.arange(10)\n",
    "arr[1:5]"
   ]
  },
  {
   "cell_type": "code",
   "execution_count": 77,
   "id": "dbf6bdb9-91b9-4467-98ba-e2441b309208",
   "metadata": {},
   "outputs": [
    {
     "data": {
      "text/plain": [
       "np.int64(1)"
      ]
     },
     "execution_count": 77,
     "metadata": {},
     "output_type": "execute_result"
    }
   ],
   "source": [
    "# arr = np.arange(10).reshape(2,5)\n",
    "arr = np.arange(10).reshape(2,5)\n",
    "arr[0][1]"
   ]
  },
  {
   "cell_type": "code",
   "execution_count": 82,
   "id": "8e7e4e80-6d1f-4671-8dd1-80e919dcc220",
   "metadata": {},
   "outputs": [],
   "source": [
    "arr = np.arange(10000).reshape(100,100)\n",
    "# arr[0:4][0:1]"
   ]
  },
  {
   "cell_type": "code",
   "execution_count": 86,
   "id": "789fcd66-5f5b-4408-8b57-cc663c160f5b",
   "metadata": {},
   "outputs": [
    {
     "data": {
      "text/plain": [
       "array([[0, 1],\n",
       "       [2, 3]])"
      ]
     },
     "execution_count": 86,
     "metadata": {},
     "output_type": "execute_result"
    }
   ],
   "source": [
    "arr = np.arange(4).reshape(2,2)\n",
    "arr[:2]"
   ]
  },
  {
   "cell_type": "code",
   "execution_count": 112,
   "id": "2223eb94-42c9-4dd3-a0a5-313a42f41de5",
   "metadata": {},
   "outputs": [
    {
     "data": {
      "text/plain": [
       "array([[ 0,  1,  2,  3,  4],\n",
       "       [ 5,  6,  7,  8,  9],\n",
       "       [10, 11, 12, 13, 14],\n",
       "       [15, 16, 17, 18, 19]])"
      ]
     },
     "execution_count": 112,
     "metadata": {},
     "output_type": "execute_result"
    }
   ],
   "source": [
    "arr = np.arange(20).reshape(4, 5)\n",
    "arr"
   ]
  },
  {
   "cell_type": "code",
   "execution_count": 113,
   "id": "d0c3b84b-f4c4-4bb1-a8bd-0837ff2f013d",
   "metadata": {},
   "outputs": [
    {
     "data": {
      "text/plain": [
       "array([[ 7,  8,  9],\n",
       "       [12, 13, 14],\n",
       "       [17, 18, 19]])"
      ]
     },
     "execution_count": 113,
     "metadata": {},
     "output_type": "execute_result"
    }
   ],
   "source": [
    "# [행슬라이싱, 열슬라이싱] \n",
    "# arr[1:4, 2:5] or arr[1:, 2:]\n",
    "\n",
    "arr[1:4, 2:5]"
   ]
  },
  {
   "cell_type": "code",
   "execution_count": 111,
   "id": "8481f63e-6a3d-4ac0-b7d1-3b3e941797d1",
   "metadata": {},
   "outputs": [
    {
     "data": {
      "text/plain": [
       "array([[ 7,  8,  9],\n",
       "       [12, 13, 14],\n",
       "       [17, 18, 19]])"
      ]
     },
     "execution_count": 111,
     "metadata": {},
     "output_type": "execute_result"
    }
   ],
   "source": [
    "arr[1:, 2:]"
   ]
  },
  {
   "cell_type": "code",
   "execution_count": 115,
   "id": "a45619fb-f44d-45b8-adf7-cc7dd91b32f1",
   "metadata": {},
   "outputs": [
    {
     "data": {
      "text/plain": [
       "array([[ 8,  9],\n",
       "       [13, 14],\n",
       "       [18, 19]])"
      ]
     },
     "execution_count": 115,
     "metadata": {},
     "output_type": "execute_result"
    }
   ],
   "source": [
    "# arr[행, 열]\n",
    "arr[1:, 3:]"
   ]
  },
  {
   "cell_type": "markdown",
   "id": "ecec0016-913f-4687-b7d0-687c0ebc2281",
   "metadata": {},
   "source": [
    "# 브로드캐스팅 연산\n",
    "- 받은 행렬의 크기가 다른 경우가 많음\n",
    "- 크기가 다른 배열 간의 연산도 자동으로 맞춰서 처리하는 연산법"
   ]
  },
  {
   "cell_type": "code",
   "execution_count": 116,
   "id": "71a2e940-e831-488d-9d2d-0eb1769a5a6c",
   "metadata": {},
   "outputs": [
    {
     "data": {
      "text/plain": [
       "array([2, 4, 6])"
      ]
     },
     "execution_count": 116,
     "metadata": {},
     "output_type": "execute_result"
    }
   ],
   "source": [
    "a = np.array([1, 2, 3])\n",
    "b = np.array([1, 2, 3])\n",
    "a + b"
   ]
  },
  {
   "cell_type": "code",
   "execution_count": 119,
   "id": "6917076d-23ed-4e13-a458-0dd6fcf4daef",
   "metadata": {},
   "outputs": [
    {
     "data": {
      "text/plain": [
       "array([4., 5., 6.])"
      ]
     },
     "execution_count": 119,
     "metadata": {},
     "output_type": "execute_result"
    }
   ],
   "source": [
    "a = np.array([1, 2, 3])\n",
    "b = 3.0  # [3.0, 3.0, 3.0] 형태의 1차원 배열 생성\n",
    "a + b"
   ]
  },
  {
   "cell_type": "code",
   "execution_count": 120,
   "id": "eb23ec47-f702-46e5-b94c-1cb78171eaf4",
   "metadata": {},
   "outputs": [
    {
     "name": "stdout",
     "output_type": "stream",
     "text": [
      "[[11 22]\n",
      " [13 24]]\n"
     ]
    }
   ],
   "source": [
    "A = np.array([[1, 2], [3, 4]])\n",
    "B = np.array([10, 20])\n",
    "\n",
    "print(A + B)  # B가 A의 각 행에 더해짐 (브로드캐스팅)"
   ]
  },
  {
   "cell_type": "code",
   "execution_count": 173,
   "id": "c6d15183-9cfc-4e5b-a5b0-4bfd2dc0205e",
   "metadata": {},
   "outputs": [
    {
     "data": {
      "text/plain": [
       "array([[0., 0., 0., 0., 0.],\n",
       "       [0., 0., 0., 0., 0.],\n",
       "       [0., 0., 0., 0., 0.],\n",
       "       [0., 0., 0., 0., 0.],\n",
       "       [0., 0., 0., 0., 0.]])"
      ]
     },
     "execution_count": 173,
     "metadata": {},
     "output_type": "execute_result"
    }
   ],
   "source": [
    "# 연습 문제 1\n",
    "import numpy as np\n",
    "a = np.zeros((5,5))\n",
    "a"
   ]
  },
  {
   "cell_type": "code",
   "execution_count": 176,
   "id": "62844058-7916-4f96-bb95-fe8c3848af63",
   "metadata": {},
   "outputs": [
    {
     "data": {
      "text/plain": [
       "array([[0., 0., 0., 0., 0.],\n",
       "       [0., 0., 0., 0., 0.],\n",
       "       [0., 0., 0., 0., 0.],\n",
       "       [0., 0., 0., 0., 0.],\n",
       "       [0., 0., 0., 0., 0.]])"
      ]
     },
     "execution_count": 176,
     "metadata": {},
     "output_type": "execute_result"
    }
   ],
   "source": [
    "np.zeros(25).reshape(5, 5)"
   ]
  },
  {
   "cell_type": "code",
   "execution_count": 177,
   "id": "faf1c307-2a3f-4cb5-bfc1-c012fe281fce",
   "metadata": {},
   "outputs": [
    {
     "data": {
      "text/plain": [
       "((3, 3), dtype('int64'), 2)"
      ]
     },
     "execution_count": 177,
     "metadata": {},
     "output_type": "execute_result"
    }
   ],
   "source": [
    "# 연습문제 2 출력\n",
    "a = np.arange(9).reshape(3, 3)\n",
    "a.shape, a.dtype, a.ndim"
   ]
  },
  {
   "cell_type": "code",
   "execution_count": 178,
   "id": "45a7e6ca-153f-419b-8268-31892e877b72",
   "metadata": {},
   "outputs": [
    {
     "data": {
      "text/plain": [
       "array([[ 5,  6],\n",
       "       [ 9, 10]])"
      ]
     },
     "execution_count": 178,
     "metadata": {},
     "output_type": "execute_result"
    }
   ],
   "source": [
    "# 연습문제 3 슬라이싱\n",
    "arr = np.arange(16).reshape(4,4)\n",
    "arr[1:3, 1:3]"
   ]
  },
  {
   "cell_type": "markdown",
   "id": "6185b9a4-b638-45a5-b807-3a2653c5a5c4",
   "metadata": {},
   "source": [
    "# 조건 연산(numpy 필터링)\n",
    "- 원하는 결괏값 : True/False"
   ]
  },
  {
   "cell_type": "code",
   "execution_count": 186,
   "id": "78af6353-e15d-41db-a2b8-ceb49242b09f",
   "metadata": {},
   "outputs": [
    {
     "data": {
      "text/plain": [
       "array([False,  True,  True])"
      ]
     },
     "execution_count": 186,
     "metadata": {},
     "output_type": "execute_result"
    }
   ],
   "source": [
    "arr = np.array([10, 20, 30])\n",
    "arr > 18"
   ]
  },
  {
   "cell_type": "code",
   "execution_count": 182,
   "id": "b8da74be-b588-4211-b14c-b618d64c370e",
   "metadata": {},
   "outputs": [
    {
     "data": {
      "text/plain": [
       "array([20, 30])"
      ]
     },
     "execution_count": 182,
     "metadata": {},
     "output_type": "execute_result"
    }
   ],
   "source": [
    "# pandas에서 매우 중요! True 값만 가져옴\n",
    "arr = np.array([10, 20, 30])\n",
    "cond = [False, True, True]\n",
    "\n",
    "arr[cond]"
   ]
  },
  {
   "cell_type": "code",
   "execution_count": 184,
   "id": "f1ac2da4-1c0e-4fda-8ece-12a096772a63",
   "metadata": {},
   "outputs": [
    {
     "data": {
      "text/plain": [
       "array([20, 50, 30])"
      ]
     },
     "execution_count": 184,
     "metadata": {},
     "output_type": "execute_result"
    }
   ],
   "source": [
    "arr = np.array([18, 20, 50, 30, 16])\n",
    "cond = arr > 18 #엑셀의 필터와 동일\n",
    "\n",
    "arr[cond]"
   ]
  },
  {
   "cell_type": "code",
   "execution_count": 185,
   "id": "ad8344b0-ecde-4a1e-8791-0f5663e74187",
   "metadata": {},
   "outputs": [
    {
     "data": {
      "text/plain": [
       "array([20, 50, 30])"
      ]
     },
     "execution_count": 185,
     "metadata": {},
     "output_type": "execute_result"
    }
   ],
   "source": [
    "arr = np.array([18, 20, 50, 30, 16])\n",
    "arr[arr > 18]"
   ]
  },
  {
   "cell_type": "code",
   "execution_count": 191,
   "id": "a7125cd7-e37f-439f-b02a-b1a5b8fe8a16",
   "metadata": {},
   "outputs": [
    {
     "data": {
      "text/plain": [
       "array([20, 50, 30])"
      ]
     },
     "execution_count": 191,
     "metadata": {},
     "output_type": "execute_result"
    }
   ],
   "source": [
    "# 다중 조건\n",
    "arr = np.array([18, 20, 50, 30, 16, 65, 70])\n",
    "con0 = arr > 18\n",
    "con1 = arr < 65\n",
    "arr[con0 & con1] "
   ]
  },
  {
   "cell_type": "code",
   "execution_count": 193,
   "id": "f24cee3f-9ac4-4f99-a468-83efdb9a41f2",
   "metadata": {},
   "outputs": [
    {
     "data": {
      "text/plain": [
       "array([18, 20, 50, 30, 16, 65, 70])"
      ]
     },
     "execution_count": 193,
     "metadata": {},
     "output_type": "execute_result"
    }
   ],
   "source": [
    "# | 둘 중 하나라도 참이면 선택됨\n",
    "arr[con0 | con1]"
   ]
  },
  {
   "cell_type": "code",
   "execution_count": 195,
   "id": "2da37666-93ae-4a11-8f9c-43f888ceab73",
   "metadata": {},
   "outputs": [
    {
     "data": {
      "text/plain": [
       "array([18, 20, 50, 30, 16, 65, 70])"
      ]
     },
     "execution_count": 195,
     "metadata": {},
     "output_type": "execute_result"
    }
   ],
   "source": [
    "# 권장사항, 이유 : pandas 다중조건 필터링할 때는 아래 방법으로만 가능\n",
    "# () 반드시 필요함\n",
    "arr[(con0|con1)]"
   ]
  },
  {
   "cell_type": "markdown",
   "id": "266b5657-7ae0-4b92-b4a8-957d356fe0e4",
   "metadata": {},
   "source": [
    "## np.where\n",
    "- np.where(조건, 참일때 출력, 거짓일 때 출력)"
   ]
  },
  {
   "cell_type": "code",
   "execution_count": 196,
   "id": "8579fe0f-1af2-4ece-bd0d-c0be0ae329e7",
   "metadata": {},
   "outputs": [
    {
     "data": {
      "text/plain": [
       "array([ 0,  1,  2,  3,  4, 50, 60, 70, 80, 90])"
      ]
     },
     "execution_count": 196,
     "metadata": {},
     "output_type": "execute_result"
    }
   ],
   "source": [
    "import numpy as np\n",
    "a = np.arange(10)\n",
    "a\n",
    "np.where(a < 5, a, 10*a)"
   ]
  },
  {
   "cell_type": "markdown",
   "id": "38398d36-4030-48b9-a815-1395ed5bb25e",
   "metadata": {},
   "source": [
    "## 함수와 메서드"
   ]
  },
  {
   "cell_type": "code",
   "execution_count": 207,
   "id": "bc796e58-740c-4175-9f7e-e57f405963e4",
   "metadata": {},
   "outputs": [
    {
     "data": {
      "text/plain": [
       "array([[0, 1, 2, 3],\n",
       "       [4, 5, 6, 7]])"
      ]
     },
     "execution_count": 207,
     "metadata": {},
     "output_type": "execute_result"
    }
   ],
   "source": [
    "arr = np.arange(8).reshape(2, 4) # shape(행갯수, 열갯수)\n",
    "arr"
   ]
  },
  {
   "cell_type": "code",
   "execution_count": 208,
   "id": "b9f63375-7795-4207-987a-1af40a5e48f5",
   "metadata": {},
   "outputs": [
    {
     "data": {
      "text/plain": [
       "np.int64(28)"
      ]
     },
     "execution_count": 208,
     "metadata": {},
     "output_type": "execute_result"
    }
   ],
   "source": [
    "arr.sum() # arr.sum(axis = None)"
   ]
  },
  {
   "cell_type": "code",
   "execution_count": 209,
   "id": "be524b74-5eee-411d-a8fe-f76f084003c0",
   "metadata": {},
   "outputs": [
    {
     "data": {
      "text/plain": [
       "array([ 4,  6,  8, 10])"
      ]
     },
     "execution_count": 209,
     "metadata": {},
     "output_type": "execute_result"
    }
   ],
   "source": [
    "arr.sum(axis=0) # x축 방향으로 데이터의 합 구하기"
   ]
  },
  {
   "cell_type": "code",
   "execution_count": 210,
   "id": "9da607f8-12a9-4dbd-9ea7-bb354749233d",
   "metadata": {},
   "outputs": [
    {
     "data": {
      "text/plain": [
       "array([ 6, 22])"
      ]
     },
     "execution_count": 210,
     "metadata": {},
     "output_type": "execute_result"
    }
   ],
   "source": [
    "arr.sum(axis = 1) # y축 방향으로 데이터의 합 구하기"
   ]
  },
  {
   "cell_type": "code",
   "execution_count": 226,
   "id": "c5a74628-305b-4b56-9fab-d68ebfccf3ac",
   "metadata": {},
   "outputs": [
    {
     "data": {
      "text/plain": [
       "6"
      ]
     },
     "execution_count": 226,
     "metadata": {},
     "output_type": "execute_result"
    }
   ],
   "source": [
    "# 무작위 랜덤 함수 만들기\n",
    "np.random.seed(42) # 머신러닝 할 때, 이 코드를 자주 사용, 42대신 아무 숫자나 써도 됨\n",
    "np.random.randint(10)"
   ]
  },
  {
   "cell_type": "code",
   "execution_count": 228,
   "id": "b03e13ac-766f-4188-820c-3a0076c86cbe",
   "metadata": {},
   "outputs": [
    {
     "data": {
      "text/plain": [
       "array([18, 22, 10, 10, 23, 35])"
      ]
     },
     "execution_count": 228,
     "metadata": {},
     "output_type": "execute_result"
    }
   ],
   "source": [
    "np.random.randint(46, size = 6) # 46이 의미하는 것은 0~45번째까지의 숫자 중 무작위로 가져오겠다."
   ]
  },
  {
   "cell_type": "code",
   "execution_count": 246,
   "id": "9c0a0d0e-2b49-4031-869a-e11dfb68e4f9",
   "metadata": {},
   "outputs": [
    {
     "data": {
      "text/plain": [
       "array([[29, 36, 22, 38],\n",
       "       [44, 14, 42, 28],\n",
       "       [35, 12, 31,  6]])"
      ]
     },
     "execution_count": 246,
     "metadata": {},
     "output_type": "execute_result"
    }
   ],
   "source": [
    "np.random.randint(46, size = (3,4))"
   ]
  },
  {
   "cell_type": "code",
   "execution_count": 247,
   "id": "ae32bc13-2b3b-45fb-a7ba-78725f5d4311",
   "metadata": {},
   "outputs": [
    {
     "name": "stdout",
     "output_type": "stream",
     "text": [
      "[  0.  10.  20.  30.  40.  50.  60.  70.  80.  90. 100.]\n"
     ]
    }
   ],
   "source": [
    "x = np.linspace(0, 100, 11) # 등차수열\n",
    "print(x)"
   ]
  },
  {
   "cell_type": "markdown",
   "id": "c1b48cd8-8977-4b3b-b170-04b55e108bf8",
   "metadata": {},
   "source": [
    "# Pandas Series"
   ]
  },
  {
   "cell_type": "code",
   "execution_count": 248,
   "id": "f790feae-af81-420c-a9cf-4d0eb85b8d2b",
   "metadata": {},
   "outputs": [
    {
     "data": {
      "text/plain": [
       "'2.2.3'"
      ]
     },
     "execution_count": 248,
     "metadata": {},
     "output_type": "execute_result"
    }
   ],
   "source": [
    "import pandas as pd\n",
    "pd.__version__"
   ]
  },
  {
   "cell_type": "code",
   "execution_count": 249,
   "id": "4ff942aa-24d2-4dd9-a806-6892e8746a25",
   "metadata": {},
   "outputs": [
    {
     "data": {
      "text/plain": [
       "0    10\n",
       "1    20\n",
       "2    30\n",
       "dtype: int64"
      ]
     },
     "execution_count": 249,
     "metadata": {},
     "output_type": "execute_result"
    }
   ],
   "source": [
    "data = [10, 20, 30]\n",
    "s = pd.Series(data)\n",
    "s"
   ]
  },
  {
   "cell_type": "code",
   "execution_count": 250,
   "id": "86b90350-1ead-440d-af41-fdf59bf94539",
   "metadata": {},
   "outputs": [
    {
     "name": "stdout",
     "output_type": "stream",
     "text": [
      "<class 'pandas.core.series.Series'>\n"
     ]
    }
   ],
   "source": [
    "print(type(s))"
   ]
  },
  {
   "cell_type": "code",
   "execution_count": 255,
   "id": "cff77414-73dd-4007-9a2b-bf1259449c67",
   "metadata": {},
   "outputs": [
    {
     "data": {
      "text/plain": [
       "0    0\n",
       "1    1\n",
       "2    2\n",
       "3    3\n",
       "4    4\n",
       "dtype: int64"
      ]
     },
     "execution_count": 255,
     "metadata": {},
     "output_type": "execute_result"
    }
   ],
   "source": [
    "import numpy as np\n",
    "data = np.arange(5)\n",
    "s = pd.Series(data)\n",
    "s"
   ]
  },
  {
   "cell_type": "code",
   "execution_count": 256,
   "id": "a0414a11-c2de-4e1d-b826-d86497907f50",
   "metadata": {},
   "outputs": [
    {
     "data": {
      "text/html": [
       "<div>\n",
       "<style scoped>\n",
       "    .dataframe tbody tr th:only-of-type {\n",
       "        vertical-align: middle;\n",
       "    }\n",
       "\n",
       "    .dataframe tbody tr th {\n",
       "        vertical-align: top;\n",
       "    }\n",
       "\n",
       "    .dataframe thead th {\n",
       "        text-align: right;\n",
       "    }\n",
       "</style>\n",
       "<table border=\"1\" class=\"dataframe\">\n",
       "  <thead>\n",
       "    <tr style=\"text-align: right;\">\n",
       "      <th></th>\n",
       "      <th>0</th>\n",
       "    </tr>\n",
       "  </thead>\n",
       "  <tbody>\n",
       "    <tr>\n",
       "      <th>0</th>\n",
       "      <td>0</td>\n",
       "    </tr>\n",
       "    <tr>\n",
       "      <th>1</th>\n",
       "      <td>1</td>\n",
       "    </tr>\n",
       "    <tr>\n",
       "      <th>2</th>\n",
       "      <td>2</td>\n",
       "    </tr>\n",
       "    <tr>\n",
       "      <th>3</th>\n",
       "      <td>3</td>\n",
       "    </tr>\n",
       "    <tr>\n",
       "      <th>4</th>\n",
       "      <td>4</td>\n",
       "    </tr>\n",
       "  </tbody>\n",
       "</table>\n",
       "</div>"
      ],
      "text/plain": [
       "   0\n",
       "0  0\n",
       "1  1\n",
       "2  2\n",
       "3  3\n",
       "4  4"
      ]
     },
     "execution_count": 256,
     "metadata": {},
     "output_type": "execute_result"
    }
   ],
   "source": [
    "df = pd.DataFrame(data)\n",
    "df"
   ]
  },
  {
   "cell_type": "code",
   "execution_count": 257,
   "id": "46aa8999-a5d7-4449-b497-3b5c5944dda6",
   "metadata": {},
   "outputs": [
    {
     "data": {
      "text/plain": [
       "0    시가\n",
       "1    고가\n",
       "dtype: object"
      ]
     },
     "execution_count": 257,
     "metadata": {},
     "output_type": "execute_result"
    }
   ],
   "source": [
    "data = [\"시가\", \"고가\"]\n",
    "s = pd.Series(data)\n",
    "s"
   ]
  },
  {
   "cell_type": "code",
   "execution_count": 260,
   "id": "2f1feff1-de56-4355-9dd3-16848763f4c2",
   "metadata": {},
   "outputs": [
    {
     "data": {
      "text/plain": [
       "0    80000\n",
       "1    90000\n",
       "dtype: object"
      ]
     },
     "execution_count": 260,
     "metadata": {},
     "output_type": "execute_result"
    }
   ],
   "source": [
    "data = [80000, \"90000\"]\n",
    "s = pd.Series(data)\n",
    "s\n",
    "\n",
    "# object 타입 : 여러 데이터 형식이 섞여있어 형식이 아직 정해지지 않은 상태, 카테고리 형식으로 변형 후 작업하는게 편의"
   ]
  },
  {
   "cell_type": "markdown",
   "id": "19867ba4-7531-497c-a80f-f1f9a2e4d3b3",
   "metadata": {},
   "source": [
    "## 시리즈 인덱스"
   ]
  },
  {
   "cell_type": "code",
   "execution_count": 266,
   "id": "dd5d512f-bdfa-476a-9e35-03d2c4e5fa47",
   "metadata": {},
   "outputs": [
    {
     "name": "stdout",
     "output_type": "stream",
     "text": [
      "RangeIndex(start=0, stop=3, step=1) <class 'pandas.core.indexes.range.RangeIndex'>\n"
     ]
    }
   ],
   "source": [
    "data = [1000, 2000, 3000]\n",
    "s = pd.Series(data)\n",
    "print(s.index, type(s.index))"
   ]
  },
  {
   "cell_type": "code",
   "execution_count": 267,
   "id": "8a04c720-8165-467b-bb9a-cd03402e3bfe",
   "metadata": {},
   "outputs": [
    {
     "data": {
      "text/plain": [
       "[0, 1, 2]"
      ]
     },
     "execution_count": 267,
     "metadata": {},
     "output_type": "execute_result"
    }
   ],
   "source": [
    "list(s.index)"
   ]
  },
  {
   "cell_type": "code",
   "execution_count": 268,
   "id": "74c390ac-e199-48da-81bc-cf4842279a3b",
   "metadata": {},
   "outputs": [
    {
     "data": {
      "text/plain": [
       "[0, 1, 2]"
      ]
     },
     "execution_count": 268,
     "metadata": {},
     "output_type": "execute_result"
    }
   ],
   "source": [
    "s.index.to_list()"
   ]
  },
  {
   "cell_type": "code",
   "execution_count": 270,
   "id": "45c8f4b4-bda1-4aed-851e-f004788b30d7",
   "metadata": {},
   "outputs": [],
   "source": [
    "# help(s.index) #클래스에는 항상 속성과 메서드가 존재함"
   ]
  },
  {
   "cell_type": "code",
   "execution_count": 291,
   "id": "5ddfe06e-8e29-4768-9fa8-9092420b3e25",
   "metadata": {},
   "outputs": [
    {
     "data": {
      "text/plain": [
       "메로나    1000\n",
       "비비빅    2000\n",
       "월드콘    3000\n",
       "dtype: int64"
      ]
     },
     "execution_count": 291,
     "metadata": {},
     "output_type": "execute_result"
    }
   ],
   "source": [
    "# 시리즈 생성하면서 인덱스도 같이 생성\n",
    "\n",
    "data = [1000, 2000, 3000]\n",
    "index = ['메로나', '비비빅', '월드콘']\n",
    "\n",
    "s = pd.Series(data = data, index = index)\n",
    "s"
   ]
  },
  {
   "cell_type": "code",
   "execution_count": 292,
   "id": "fe095dc0-dc80-4119-9fce-65987700406d",
   "metadata": {},
   "outputs": [
    {
     "data": {
      "text/plain": [
       "Index(['메로나', '비비빅', '월드콘'], dtype='object')"
      ]
     },
     "execution_count": 292,
     "metadata": {},
     "output_type": "execute_result"
    }
   ],
   "source": [
    "s.index"
   ]
  },
  {
   "cell_type": "code",
   "execution_count": 293,
   "id": "12bff587-d9de-47cc-95f7-f04b770484c2",
   "metadata": {},
   "outputs": [
    {
     "name": "stdout",
     "output_type": "stream",
     "text": [
      "<class 'numpy.ndarray'>\n",
      "[1000 2000 3000]\n"
     ]
    }
   ],
   "source": [
    "s.values # numpy 배열\n",
    "print(type(s.values))\n",
    "print(s.values)"
   ]
  },
  {
   "cell_type": "markdown",
   "id": "1097c840-3ba4-4b7a-a777-86c0798b43ec",
   "metadata": {},
   "source": [
    "## 시리즈 인덱싱"
   ]
  },
  {
   "cell_type": "code",
   "execution_count": 294,
   "id": "6a9ea10e-bb18-4e5f-8257-c0542ffa70d1",
   "metadata": {},
   "outputs": [
    {
     "name": "stdout",
     "output_type": "stream",
     "text": [
      "1000\n"
     ]
    }
   ],
   "source": [
    "print(s.iloc[0])"
   ]
  },
  {
   "cell_type": "code",
   "execution_count": 295,
   "id": "391aaab2-26de-4147-b43a-84fc1d5af02f",
   "metadata": {},
   "outputs": [
    {
     "name": "stdout",
     "output_type": "stream",
     "text": [
      "2000\n"
     ]
    }
   ],
   "source": [
    "print(s.iloc[1])"
   ]
  },
  {
   "cell_type": "code",
   "execution_count": 296,
   "id": "ac2099c1-23f5-454d-8918-72dc676b335b",
   "metadata": {},
   "outputs": [
    {
     "name": "stdout",
     "output_type": "stream",
     "text": [
      "3000\n"
     ]
    }
   ],
   "source": [
    "print(s.iloc[2])"
   ]
  },
  {
   "cell_type": "code",
   "execution_count": 297,
   "id": "9e9b6e8e-5b16-43a9-9bce-767bb6710f77",
   "metadata": {},
   "outputs": [
    {
     "name": "stdout",
     "output_type": "stream",
     "text": [
      "1000\n"
     ]
    }
   ],
   "source": [
    "print(s.loc[\"메로나\"])"
   ]
  },
  {
   "cell_type": "markdown",
   "id": "8316f55e-e1e6-4c58-af28-4130b616cbcb",
   "metadata": {},
   "source": [
    "- iloc 는 인덱스 번호, loc는 키값 "
   ]
  },
  {
   "cell_type": "code",
   "execution_count": 312,
   "id": "809925d9-a70b-4172-9644-4d327cd1d825",
   "metadata": {},
   "outputs": [
    {
     "name": "stdout",
     "output_type": "stream",
     "text": [
      "1000\n"
     ]
    },
    {
     "data": {
      "text/plain": [
       "[0, 1, 2]"
      ]
     },
     "execution_count": 312,
     "metadata": {},
     "output_type": "execute_result"
    }
   ],
   "source": [
    "data = [1000, 2000, 3000]\n",
    "index = ['메로나', '비비빅', '월드콘']\n",
    "s2 = pd.Series(data=data)\n",
    "print(s2.iloc[0]) # 인덱스가 정의되지 않아도 작동함\n",
    "# print(s2.loc['메로나']) # 인덱스를 정의해줘야 작동함\n",
    "s2.index.to_list()"
   ]
  },
  {
   "cell_type": "code",
   "execution_count": 310,
   "id": "b86b5e50-0ebf-45dd-8707-cdb3c8f1f22d",
   "metadata": {},
   "outputs": [
    {
     "name": "stdout",
     "output_type": "stream",
     "text": [
      "1000\n",
      "1000\n"
     ]
    }
   ],
   "source": [
    "print(s2.iloc[0]) # iloc에서의 0은 위치 0\n",
    "print(s2.loc[0]) # loc에서의 0은 라벨 0, 기본값"
   ]
  },
  {
   "cell_type": "markdown",
   "id": "e7a41b73-b40d-454d-a812-02d19ded4361",
   "metadata": {},
   "source": [
    "## 슬라이싱"
   ]
  },
  {
   "cell_type": "code",
   "execution_count": 313,
   "id": "86b34c13-1834-4ee9-97b7-641db64f74d9",
   "metadata": {},
   "outputs": [
    {
     "data": {
      "text/plain": [
       "메로나    1000\n",
       "비비빅    2000\n",
       "월드콘    3000\n",
       "dtype: int64"
      ]
     },
     "execution_count": 313,
     "metadata": {},
     "output_type": "execute_result"
    }
   ],
   "source": [
    "s"
   ]
  },
  {
   "cell_type": "code",
   "execution_count": 314,
   "id": "7920af50-d6c1-4ba3-975b-619eefa555a3",
   "metadata": {},
   "outputs": [
    {
     "data": {
      "text/plain": [
       "0    1000\n",
       "1    2000\n",
       "2    3000\n",
       "dtype: int64"
      ]
     },
     "execution_count": 314,
     "metadata": {},
     "output_type": "execute_result"
    }
   ],
   "source": [
    "s2"
   ]
  },
  {
   "cell_type": "code",
   "execution_count": 317,
   "id": "63934d5f-eff9-44ed-910f-e77724572dc5",
   "metadata": {},
   "outputs": [
    {
     "data": {
      "text/plain": [
       "메로나    1000\n",
       "비비빅    2000\n",
       "dtype: int64"
      ]
     },
     "execution_count": 317,
     "metadata": {},
     "output_type": "execute_result"
    }
   ],
   "source": [
    "s.iloc[0:2] # 위치 데이터"
   ]
  },
  {
   "cell_type": "code",
   "execution_count": 318,
   "id": "e5275949-5873-4507-8d6d-66a0bdf9c326",
   "metadata": {},
   "outputs": [
    {
     "data": {
      "text/plain": [
       "메로나    1000\n",
       "비비빅    2000\n",
       "dtype: int64"
      ]
     },
     "execution_count": 318,
     "metadata": {},
     "output_type": "execute_result"
    }
   ],
   "source": [
    "s.loc['메로나':'비비빅'] # 인덱스 데이터"
   ]
  },
  {
   "cell_type": "code",
   "execution_count": 321,
   "id": "28cc93ba-7cc6-44c8-8836-b335930e6120",
   "metadata": {},
   "outputs": [
    {
     "data": {
      "text/plain": [
       "0    1000\n",
       "1    2000\n",
       "dtype: int64"
      ]
     },
     "execution_count": 321,
     "metadata": {},
     "output_type": "execute_result"
    }
   ],
   "source": [
    "s2.iloc[0:2] # 2번 위치 전까지"
   ]
  },
  {
   "cell_type": "code",
   "execution_count": 322,
   "id": "a1e52f9e-1eca-44d1-bb16-8fcb982a50e3",
   "metadata": {},
   "outputs": [
    {
     "data": {
      "text/plain": [
       "0    1000\n",
       "1    2000\n",
       "2    3000\n",
       "dtype: int64"
      ]
     },
     "execution_count": 322,
     "metadata": {},
     "output_type": "execute_result"
    }
   ],
   "source": [
    "s2.loc[0:2] # 인덱스 번호가 2번인 것 까지"
   ]
  },
  {
   "cell_type": "markdown",
   "id": "bd640d21-eab7-4c9b-a9ed-31ee13b197a4",
   "metadata": {},
   "source": [
    "## 시리즈 수정/추가/삭제"
   ]
  },
  {
   "cell_type": "code",
   "execution_count": 333,
   "id": "2be8a9d2-0032-49c7-b504-bb1660c350c0",
   "metadata": {},
   "outputs": [
    {
     "data": {
      "text/plain": [
       "메로나    1000\n",
       "비비빅    2000\n",
       "월드콘    3000\n",
       "dtype: int64"
      ]
     },
     "execution_count": 333,
     "metadata": {},
     "output_type": "execute_result"
    }
   ],
   "source": [
    "data = [1000, 2000, 3000]\n",
    "index = ['메로나', '비비빅', '월드콘']\n",
    "\n",
    "s = pd.Series(data = data, index = index)\n",
    "s"
   ]
  },
  {
   "cell_type": "code",
   "execution_count": 334,
   "id": "46b662c7-dabe-456f-aee2-76328c8cde77",
   "metadata": {},
   "outputs": [
    {
     "data": {
      "text/plain": [
       "메로나     500\n",
       "비비빅    2000\n",
       "월드콘    3000\n",
       "dtype: int64"
      ]
     },
     "execution_count": 334,
     "metadata": {},
     "output_type": "execute_result"
    }
   ],
   "source": [
    "s['메로나'] = 500\n",
    "s"
   ]
  },
  {
   "cell_type": "code",
   "execution_count": 329,
   "id": "78d9a72b-5e5c-4fc1-a31d-b4ea144c404c",
   "metadata": {},
   "outputs": [
    {
     "data": {
      "text/plain": [
       "메로나    1000\n",
       "비비빅    2000\n",
       "월드콘    3000\n",
       "dtype: int64"
      ]
     },
     "execution_count": 329,
     "metadata": {},
     "output_type": "execute_result"
    }
   ],
   "source": [
    "s"
   ]
  },
  {
   "cell_type": "code",
   "execution_count": 335,
   "id": "0bb09487-67ea-45a1-b3da-1ffe86c98b96",
   "metadata": {},
   "outputs": [
    {
     "data": {
      "text/plain": [
       "메로나     500\n",
       "비비빅    2000\n",
       "월드콘    3000\n",
       "dtype: int64"
      ]
     },
     "execution_count": 335,
     "metadata": {},
     "output_type": "execute_result"
    }
   ],
   "source": [
    "s.loc['메로나'] = 500 # 딕셔너리에서 'key' : value 와 비슷, 이 방법을 가장 추천\n",
    "s"
   ]
  },
  {
   "cell_type": "code",
   "execution_count": 332,
   "id": "e0d604f7-dd99-44e9-838b-b173a6c98117",
   "metadata": {},
   "outputs": [
    {
     "data": {
      "text/plain": [
       "메로나     500\n",
       "비비빅    2000\n",
       "월드콘    3000\n",
       "dtype: int64"
      ]
     },
     "execution_count": 332,
     "metadata": {},
     "output_type": "execute_result"
    }
   ],
   "source": [
    "s.iloc[0] = 500 # 가능은 하지만 데이터가 많아질 경우 쓰기 어렵고, 비직관적임\n",
    "s"
   ]
  },
  {
   "cell_type": "markdown",
   "id": "cf2aa113-a24e-4d9b-9258-0c66fc10878e",
   "metadata": {},
   "source": [
    "# 시리즈 연산"
   ]
  },
  {
   "cell_type": "code",
   "execution_count": 342,
   "id": "58a04ae6-6dee-4f1a-8f1a-3dc1a2b75a52",
   "metadata": {},
   "outputs": [
    {
     "data": {
      "text/plain": [
       "NAVER    10\n",
       "APPLE    20\n",
       "NVDIA    30\n",
       "dtype: int64"
      ]
     },
     "execution_count": 342,
     "metadata": {},
     "output_type": "execute_result"
    }
   ],
   "source": [
    "import pandas as pd \n",
    "\n",
    "evan = pd.Series([10, 20, 30], index=['NAVER', 'APPLE', 'NVDIA'])\n",
    "딸1 = pd.Series([10, 30, 20], index=['NVDIA', 'NAVER', 'APPLE'])\n",
    "\n",
    "evan"
   ]
  },
  {
   "cell_type": "code",
   "execution_count": 340,
   "id": "82fe4b23-4a5d-45a5-9d98-2c45f04040ee",
   "metadata": {},
   "outputs": [
    {
     "data": {
      "text/plain": [
       "NVDIA    10\n",
       "NAVER    30\n",
       "APPLE    20\n",
       "dtype: int64"
      ]
     },
     "execution_count": 340,
     "metadata": {},
     "output_type": "execute_result"
    }
   ],
   "source": [
    "딸1"
   ]
  },
  {
   "cell_type": "code",
   "execution_count": 343,
   "id": "63d3d7ca-7cc0-4f4f-b4c9-f639bc1ccc8b",
   "metadata": {},
   "outputs": [
    {
     "data": {
      "text/plain": [
       "APPLE    40\n",
       "NAVER    40\n",
       "NVDIA    40\n",
       "dtype: int64"
      ]
     },
     "execution_count": 343,
     "metadata": {},
     "output_type": "execute_result"
    }
   ],
   "source": [
    "# 인덱스 순서와 상관없이 연산이 잘 됨\n",
    "evan + 딸1"
   ]
  },
  {
   "cell_type": "code",
   "execution_count": 345,
   "id": "2ccadddd-d424-482b-9b98-d6dfc03becaa",
   "metadata": {},
   "outputs": [
    {
     "data": {
      "text/plain": [
       "APPLE    40.0\n",
       "NAVER    40.0\n",
       "NVDIA     NaN\n",
       "테슬라       NaN\n",
       "dtype: float64"
      ]
     },
     "execution_count": 345,
     "metadata": {},
     "output_type": "execute_result"
    }
   ],
   "source": [
    "evan = pd.Series([10, 20, 30], index=['NAVER', 'APPLE', '테슬라'])\n",
    "딸1 = pd.Series([10, 30, 20], index=['NVDIA', 'NAVER', 'APPLE'])\n",
    "\n",
    "evan + 딸1\n",
    "# NaN(결측값) 처리, pandas는 인덱스를 기준으로 값을 매칭"
   ]
  },
  {
   "cell_type": "code",
   "execution_count": 359,
   "id": "46be9c7e-4403-4aa2-9b4a-829096be5f65",
   "metadata": {},
   "outputs": [
    {
     "name": "stdout",
     "output_type": "stream",
     "text": [
      "6/1    650\n",
      "6/2    550\n",
      "6/3    750\n",
      "6/4    800\n",
      "6/5    650\n",
      "dtype: int64\n"
     ]
    }
   ],
   "source": [
    "date = [\"6/1\", \"6/2\", \"6/3\", \"6/4\", \"6/5\"]\n",
    "high = pd.Series([42800, 42700, 42050, 42950, 43000], index=date) # 매도\n",
    "low = pd.Series([42150, 42150, 41300, 42150, 42350] , index=date) # 매수\n",
    "\n",
    "diff = high - low\n",
    "print(diff)"
   ]
  },
  {
   "cell_type": "code",
   "execution_count": 358,
   "id": "c1066c2b-f895-4c16-b5cb-be997c013271",
   "metadata": {},
   "outputs": [
    {
     "data": {
      "text/plain": [
       "('6/4', np.int64(800))"
      ]
     },
     "execution_count": 358,
     "metadata": {},
     "output_type": "execute_result"
    }
   ],
   "source": [
    "# pandas에서는 반복문 없이 diff.idxmax()로 해결 가능\n",
    "diff.idxmax(), diff[diff.idxmax()]"
   ]
  },
  {
   "cell_type": "code",
   "execution_count": 356,
   "id": "0b7e98df-71d6-4e02-a8c8-66f98c928e00",
   "metadata": {},
   "outputs": [
    {
     "data": {
      "text/plain": [
       "('6/2', np.int64(550))"
      ]
     },
     "execution_count": 356,
     "metadata": {},
     "output_type": "execute_result"
    }
   ],
   "source": [
    "diff.idxmin(), diff[diff.idxmin()]"
   ]
  },
  {
   "cell_type": "code",
   "execution_count": 361,
   "id": "12efd506-51d4-443a-8d8b-e9cad1ecfd62",
   "metadata": {},
   "outputs": [
    {
     "data": {
      "text/plain": [
       "6/1    1.015421\n",
       "6/2    1.013049\n",
       "6/3    1.018160\n",
       "6/4    1.018980\n",
       "6/5    1.015348\n",
       "dtype: float64"
      ]
     },
     "execution_count": 361,
     "metadata": {},
     "output_type": "execute_result"
    }
   ],
   "source": [
    "profit = high / low # 단순 수익률\n",
    "profit"
   ]
  },
  {
   "cell_type": "code",
   "execution_count": 363,
   "id": "cd4006cf-c7d7-429b-ba9f-0b37e63988d1",
   "metadata": {},
   "outputs": [
    {
     "data": {
      "text/plain": [
       "6/1    1.015421\n",
       "6/2    1.028671\n",
       "6/3    1.047351\n",
       "6/4    1.067230\n",
       "6/5    1.083610\n",
       "dtype: float64"
      ]
     },
     "execution_count": 363,
     "metadata": {},
     "output_type": "execute_result"
    }
   ],
   "source": [
    "profit.cumprod() # 누적합 메서드"
   ]
  },
  {
   "cell_type": "markdown",
   "id": "6d1a33e2-0ec1-4255-b44b-c1b573016d01",
   "metadata": {},
   "source": [
    "# 시리즈와 Map"
   ]
  },
  {
   "cell_type": "code",
   "execution_count": 366,
   "id": "a3b09710-d87b-43fe-b404-3330be685c5c",
   "metadata": {},
   "outputs": [
    {
     "data": {
      "text/plain": [
       "0     1,234\n",
       "1     5,689\n",
       "2    12,345\n",
       "dtype: object"
      ]
     },
     "execution_count": 366,
     "metadata": {},
     "output_type": "execute_result"
    }
   ],
   "source": [
    "s = pd.Series(['1,234', '5,689', '12,345'])\n",
    "s "
   ]
  },
  {
   "cell_type": "code",
   "execution_count": 371,
   "id": "ec6a86eb-ead2-4a56-b819-612833fee463",
   "metadata": {},
   "outputs": [
    {
     "data": {
      "text/plain": [
       "(int, 1234)"
      ]
     },
     "execution_count": 371,
     "metadata": {},
     "output_type": "execute_result"
    }
   ],
   "source": [
    "# 문자를 정수로 변환\n",
    "text = '1,234'\n",
    "result = int(text.replace(',','')) # , 제거 후 정수로\n",
    "type(result), result"
   ]
  },
  {
   "cell_type": "code",
   "execution_count": 379,
   "id": "8f89fb85-774c-401a-b443-be57197f75d7",
   "metadata": {},
   "outputs": [
    {
     "data": {
      "text/plain": [
       "[1234, 5678, 12345]"
      ]
     },
     "execution_count": 379,
     "metadata": {},
     "output_type": "execute_result"
    }
   ],
   "source": [
    "# 반복문으로 처리하기\n",
    "num_str = ['1,234', '5,678', '12,345']\n",
    "result = []\n",
    "for num in num_str:\n",
    "    temp = int(num.replace(',', ''))\n",
    "    result.append(temp)\n",
    "\n",
    "result"
   ]
  },
  {
   "cell_type": "code",
   "execution_count": 380,
   "id": "0cfc1a8c-8c8f-4c64-88ca-a3ffb64f1c15",
   "metadata": {},
   "outputs": [],
   "source": [
    "# 사용자함수로 처리하기\n",
    "def rm_comma(x):\n",
    "    return int(x.replace(',', ''))"
   ]
  },
  {
   "cell_type": "code",
   "execution_count": 378,
   "id": "1096deeb-cb8f-4e7b-a05e-afc3e1d684f6",
   "metadata": {},
   "outputs": [
    {
     "data": {
      "text/plain": [
       "0     1234\n",
       "1     5689\n",
       "2    12345\n",
       "dtype: int64"
      ]
     },
     "execution_count": 378,
     "metadata": {},
     "output_type": "execute_result"
    }
   ],
   "source": [
    "s = pd.Series(['1,234', '5,689', '12,345'])\n",
    "result = s.map(rm_comma)\n",
    "result"
   ]
  },
  {
   "cell_type": "code",
   "execution_count": 382,
   "id": "c60a22de-2436-459d-a539-eeacdeac97f9",
   "metadata": {},
   "outputs": [
    {
     "data": {
      "text/plain": [
       "0     1234.56\n",
       "1     5678.90\n",
       "2    12345.67\n",
       "dtype: float64"
      ]
     },
     "execution_count": 382,
     "metadata": {},
     "output_type": "execute_result"
    }
   ],
   "source": [
    "def remove_dollar_sign(x):\n",
    "    return float(x.replace('$', '').replace(',', ''))\n",
    "s = pd.Series(['$1,234.56', '$5,678.90', '$12,345.67'])\n",
    "result = s.map(remove_dollar_sign)\n",
    "\n",
    "result"
   ]
  },
  {
   "cell_type": "markdown",
   "id": "98125b55-ac14-4f43-9379-5966d68ee67e",
   "metadata": {},
   "source": [
    "### 문제\n",
    "- 기준점 > 13\n",
    "    + 크다 or 작다"
   ]
  },
  {
   "cell_type": "code",
   "execution_count": 388,
   "id": "87b2d2f2-b28e-4d5b-b864-bf8f9845101b",
   "metadata": {},
   "outputs": [],
   "source": [
    "def size_check(x):\n",
    "    if x > 13:\n",
    "        return \"13보다 크다\"\n",
    "    else: \n",
    "        return \"13보다 작거나 같다\""
   ]
  },
  {
   "cell_type": "code",
   "execution_count": 389,
   "id": "ad32c533-609b-4e2f-b0e5-c54fc5fd0077",
   "metadata": {},
   "outputs": [
    {
     "data": {
      "text/plain": [
       "0     5\n",
       "1    10\n",
       "2    15\n",
       "3    20\n",
       "dtype: int64"
      ]
     },
     "execution_count": 389,
     "metadata": {},
     "output_type": "execute_result"
    }
   ],
   "source": [
    "s = pd.Series([5, 10, 15, 20])\n",
    "s"
   ]
  },
  {
   "cell_type": "code",
   "execution_count": 390,
   "id": "5c204c58-b753-45a5-b875-97c7aa132bd0",
   "metadata": {},
   "outputs": [
    {
     "data": {
      "text/plain": [
       "0    13보다 작거나 같다\n",
       "1    13보다 작거나 같다\n",
       "2        13보다 크다\n",
       "3        13보다 크다\n",
       "dtype: object"
      ]
     },
     "execution_count": 390,
     "metadata": {},
     "output_type": "execute_result"
    }
   ],
   "source": [
    "s.map(size_check)"
   ]
  },
  {
   "cell_type": "code",
   "execution_count": 395,
   "id": "a83d9338-eb68-42ca-b86b-ee6bae3ebe9f",
   "metadata": {},
   "outputs": [
    {
     "name": "stdout",
     "output_type": "stream",
     "text": [
      "0    작다\n",
      "1    작다\n",
      "2    크다\n",
      "3    크다\n",
      "dtype: object\n"
     ]
    }
   ],
   "source": [
    "#lambda, map(=apply) 사용\n",
    "result = s.map(lambda x: \"크다\" if x >= 13 else '작다')\n",
    "print(result)"
   ]
  },
  {
   "cell_type": "code",
   "execution_count": 394,
   "id": "add00cf8-ea71-48f3-ac18-2d829924d5ac",
   "metadata": {},
   "outputs": [
    {
     "name": "stdout",
     "output_type": "stream",
     "text": [
      "0    작다\n",
      "1    작다\n",
      "2    크다\n",
      "3    크다\n",
      "dtype: object\n"
     ]
    }
   ],
   "source": [
    "result = s.apply(lambda x: \"크다\" if x >= 13 else '작다')\n",
    "print(result)"
   ]
  },
  {
   "cell_type": "markdown",
   "id": "41338f01-3f2c-4d46-b79f-0b6192505c4a",
   "metadata": {},
   "source": [
    "# 시리즈 필터링"
   ]
  },
  {
   "cell_type": "code",
   "execution_count": 397,
   "id": "cd008690-7b0b-4252-baef-2e7054723349",
   "metadata": {},
   "outputs": [
    {
     "data": {
      "text/plain": [
       "2019-05-31    42500\n",
       "2019-05-30    42550\n",
       "2019-05-29    41800\n",
       "2019-05-28    42550\n",
       "2019-05-27    42650\n",
       "dtype: int64"
      ]
     },
     "execution_count": 397,
     "metadata": {},
     "output_type": "execute_result"
    }
   ],
   "source": [
    "data = [42500, 42550, 41800, 42550, 42650]\n",
    "index = ['2019-05-31', '2019-05-30', '2019-05-29', '2019-05-28', '2019-05-27']\n",
    "s = pd.Series(data=data, index=index)\n",
    "s"
   ]
  },
  {
   "cell_type": "code",
   "execution_count": 398,
   "id": "eed665a9-a5ba-4d98-b328-bd9ad051d13d",
   "metadata": {},
   "outputs": [
    {
     "name": "stdout",
     "output_type": "stream",
     "text": [
      "2019-05-31     True\n",
      "2019-05-30     True\n",
      "2019-05-29    False\n",
      "2019-05-28     True\n",
      "2019-05-27     True\n",
      "dtype: bool\n"
     ]
    }
   ],
   "source": [
    "cond = s > 42000\n",
    "print(cond)"
   ]
  },
  {
   "cell_type": "code",
   "execution_count": 399,
   "id": "88ff9dc6-08e6-48f0-8d30-76cff43ed8d8",
   "metadata": {},
   "outputs": [
    {
     "data": {
      "text/plain": [
       "2019-05-31    42500\n",
       "2019-05-30    42550\n",
       "2019-05-28    42550\n",
       "2019-05-27    42650\n",
       "dtype: int64"
      ]
     },
     "execution_count": 399,
     "metadata": {},
     "output_type": "execute_result"
    }
   ],
   "source": [
    "s[cond]"
   ]
  },
  {
   "cell_type": "code",
   "execution_count": 400,
   "id": "07ea2db1-6ba9-4901-8fc3-ad6b948439c3",
   "metadata": {},
   "outputs": [
    {
     "data": {
      "text/plain": [
       "2019-05-31    42500\n",
       "2019-05-30    42550\n",
       "2019-05-28    42550\n",
       "2019-05-27    42650\n",
       "dtype: int64"
      ]
     },
     "execution_count": 400,
     "metadata": {},
     "output_type": "execute_result"
    }
   ],
   "source": [
    "s[s>42000]"
   ]
  },
  {
   "cell_type": "code",
   "execution_count": 412,
   "id": "673fad12-f97b-47cb-b221-51c367a94fa4",
   "metadata": {},
   "outputs": [
    {
     "data": {
      "text/plain": [
       "2019-05-30    42550\n",
       "2019-05-27    42650\n",
       "dtype: int64"
      ]
     },
     "execution_count": 412,
     "metadata": {},
     "output_type": "execute_result"
    }
   ],
   "source": [
    "from pandas import Series\n",
    "# import pandas as pd\n",
    "# pd.Series()\n",
    "\n",
    "close = [42500, 42550, 41800, 42550, 42650]\n",
    "open = [42600, 42200, 41850, 42550, 42500]\n",
    "index = ['2019-05-31', '2019-05-30', '2019-05-29', '2019-05-28', '2019-05-27']\n",
    "\n",
    "open = pd.Series(data=open, index=index)\n",
    "close = pd.Series(data=close, index=index)\n",
    "\n",
    "# 문제 : 종가가 시가보다 높은 날을 구하세요.\n",
    "\n",
    "close[close > open]"
   ]
  },
  {
   "cell_type": "code",
   "execution_count": null,
   "id": "25990f3c-297d-43e3-a65c-3e46d5750dbb",
   "metadata": {},
   "outputs": [],
   "source": []
  }
 ],
 "metadata": {
  "kernelspec": {
   "display_name": "Python 3 (ipykernel)",
   "language": "python",
   "name": "python3"
  },
  "language_info": {
   "codemirror_mode": {
    "name": "ipython",
    "version": 3
   },
   "file_extension": ".py",
   "mimetype": "text/x-python",
   "name": "python",
   "nbconvert_exporter": "python",
   "pygments_lexer": "ipython3",
   "version": "3.12.6"
  }
 },
 "nbformat": 4,
 "nbformat_minor": 5
}
