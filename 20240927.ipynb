{
 "cells": [
  {
   "cell_type": "markdown",
   "id": "77b5a4a3-db9a-44e4-8b5a-8a5a6bb36e15",
   "metadata": {},
   "source": [
    "# 라이브러리 설치"
   ]
  },
  {
   "cell_type": "code",
   "execution_count": 1,
   "id": "8d82ad51-47d2-4745-b87f-7ca49877a279",
   "metadata": {},
   "outputs": [
    {
     "name": "stdout",
     "output_type": "stream",
     "text": [
      "Requirement already satisfied: numpy in ./venv/lib/python3.12/site-packages (2.1.1)\n"
     ]
    }
   ],
   "source": [
    "# pip install -r req 쓰지만 추가로 설치하고 싶을 때\n",
    "\n",
    "!pip install numpy"
   ]
  },
  {
   "cell_type": "code",
   "execution_count": 6,
   "id": "fe22ed0e-5119-47db-ae88-9c42e529228f",
   "metadata": {},
   "outputs": [
    {
     "name": "stdout",
     "output_type": "stream",
     "text": [
      "2.1.1\n"
     ]
    }
   ],
   "source": [
    "# 라이브러리에서 책을 꺼내는 것과 같음 \n",
    "import numpy as np\n",
    "print(np.__version__)\n",
    "\n",
    "#설명서 읽고 싶을 땐 help() 사용하기"
   ]
  },
  {
   "cell_type": "code",
   "execution_count": 7,
   "id": "402105a8-045a-4c05-8054-ff398f3d104a",
   "metadata": {},
   "outputs": [
    {
     "data": {
      "text/plain": [
       "[1, 2, 3, 4, 5, 6]"
      ]
     },
     "execution_count": 7,
     "metadata": {},
     "output_type": "execute_result"
    }
   ],
   "source": [
    "num1 = [1, 2, 3]\n",
    "num2 = [4, 5, 6]\n",
    "\n",
    "#      [5, 7, 9]"
   ]
  },
  {
   "cell_type": "code",
   "execution_count": 8,
   "id": "77767dc8-abb9-431a-bed1-569b51fecf9a",
   "metadata": {},
   "outputs": [
    {
     "data": {
      "text/plain": [
       "array([5, 7, 9])"
      ]
     },
     "execution_count": 8,
     "metadata": {},
     "output_type": "execute_result"
    }
   ],
   "source": [
    "num1_arr = np.array(num1)\n",
    "num2_arr = np.array(num2)\n",
    "\n",
    "num1_arr + num2_arr"
   ]
  },
  {
   "cell_type": "code",
   "execution_count": 10,
   "id": "2324625b-589c-4560-844c-47cf69646d51",
   "metadata": {},
   "outputs": [
    {
     "name": "stdout",
     "output_type": "stream",
     "text": [
      "<class 'numpy.ndarray'>\n"
     ]
    }
   ],
   "source": [
    "print(type(num1_arr))\n",
    "# 속성, 메서드"
   ]
  },
  {
   "cell_type": "code",
   "execution_count": 22,
   "id": "6ea11359-3f34-40d4-83af-5a28a91a272c",
   "metadata": {},
   "outputs": [
    {
     "data": {
      "text/plain": [
       "array([1, 2, 3])"
      ]
     },
     "execution_count": 22,
     "metadata": {},
     "output_type": "execute_result"
    }
   ],
   "source": [
    "# 전치 배열\n",
    "num1_arr.T"
   ]
  },
  {
   "cell_type": "code",
   "execution_count": 17,
   "id": "18502dcd-de40-4515-843c-158a5a1b834f",
   "metadata": {},
   "outputs": [
    {
     "data": {
      "text/plain": [
       "<memory at 0x10be51c00>"
      ]
     },
     "execution_count": 17,
     "metadata": {},
     "output_type": "execute_result"
    }
   ],
   "source": [
    "# 해당 열의 데이터 타입\n",
    "num1_arr.data"
   ]
  },
  {
   "cell_type": "code",
   "execution_count": 24,
   "id": "8452294a-9abf-4778-a45c-25fae4c87d18",
   "metadata": {},
   "outputs": [
    {
     "data": {
      "text/plain": [
       "dtype('int64')"
      ]
     },
     "execution_count": 24,
     "metadata": {},
     "output_type": "execute_result"
    }
   ],
   "source": [
    "# 배열 요소의 데이터 유형\n",
    "num1_arr.dtype"
   ]
  },
  {
   "cell_type": "code",
   "execution_count": 25,
   "id": "b733c53c-b3b5-4c43-8b6a-5cbfc8ad9866",
   "metadata": {},
   "outputs": [
    {
     "data": {
      "text/plain": [
       "(3,)"
      ]
     },
     "execution_count": 25,
     "metadata": {},
     "output_type": "execute_result"
    }
   ],
   "source": [
    "# 정수 튜플\n",
    "num1_arr.shape"
   ]
  },
  {
   "cell_type": "code",
   "execution_count": 26,
   "id": "e2ab1193-1daf-41bb-abbd-ad3234c0d329",
   "metadata": {},
   "outputs": [
    {
     "data": {
      "text/plain": [
       "1"
      ]
     },
     "execution_count": 26,
     "metadata": {},
     "output_type": "execute_result"
    }
   ],
   "source": [
    "# 정수 튜플\n",
    "num1_arr.ndim"
   ]
  },
  {
   "cell_type": "code",
   "execution_count": 27,
   "id": "da96d66a-4669-4ced-91d9-e76bbaf98531",
   "metadata": {},
   "outputs": [
    {
     "data": {
      "text/plain": [
       "np.int64(3)"
      ]
     },
     "execution_count": 27,
     "metadata": {},
     "output_type": "execute_result"
    }
   ],
   "source": [
    "# 최댓값\n",
    "num1_arr.max()"
   ]
  },
  {
   "cell_type": "code",
   "execution_count": 29,
   "id": "a23d558c-b2a1-4f15-aa23-fd46576921ec",
   "metadata": {},
   "outputs": [
    {
     "data": {
      "text/plain": [
       "dtype('int8')"
      ]
     },
     "execution_count": 29,
     "metadata": {},
     "output_type": "execute_result"
    }
   ],
   "source": [
    "num1_arr = np.array(num1, dtype=\"int8\")\n",
    "num1_arr.dtype"
   ]
  },
  {
   "cell_type": "markdown",
   "id": "0ee1130c-36a5-4673-b27e-2579375b52c6",
   "metadata": {},
   "source": [
    "## 배열 만드는 방법"
   ]
  },
  {
   "cell_type": "code",
   "execution_count": 41,
   "id": "fdfd93fb-1e5b-4d6b-b5ab-2eeb916e675d",
   "metadata": {},
   "outputs": [
    {
     "name": "stdout",
     "output_type": "stream",
     "text": [
      "[1. 1. 1.]\n",
      "[0. 0. 0. 0. 0.]\n"
     ]
    }
   ],
   "source": [
    "# 기본적으로 다른 데이터 자료형으로 numpy 배열로 변환\n",
    "# 배열 생성\n",
    "print(np.ones(3))\n",
    "print(np.zeros(5))"
   ]
  },
  {
   "cell_type": "code",
   "execution_count": 53,
   "id": "741501f5-6416-481c-9d50-68d3be12f98c",
   "metadata": {},
   "outputs": [
    {
     "name": "stdout",
     "output_type": "stream",
     "text": [
      "[[0. 0.]\n",
      " [0. 0.]]\n"
     ]
    }
   ],
   "source": [
    "# 1차원, 2차원, 3차원..\n",
    "print(np.ndarray(shape=(2,2), dtype=float, order='F'))"
   ]
  },
  {
   "cell_type": "code",
   "execution_count": 52,
   "id": "04a010da-e0e3-498f-b541-09dac024f12c",
   "metadata": {},
   "outputs": [
    {
     "name": "stdout",
     "output_type": "stream",
     "text": [
      "[[ 1.27189941e-30 -2.54379882e-30  6.35949704e-31]\n",
      " [-2.54379882e-30  5.53276243e-30 -1.71706420e-30]\n",
      " [ 6.35949704e-31 -1.71706420e-30  9.85722042e-31]]\n"
     ]
    },
    {
     "data": {
      "text/plain": [
       "(3, 3)"
      ]
     },
     "execution_count": 52,
     "metadata": {},
     "output_type": "execute_result"
    }
   ],
   "source": [
    "array = np.ndarray(shape=(3,3), dtype=float, order='F')\n",
    "\n",
    "print(array)\n",
    "array.shape"
   ]
  },
  {
   "cell_type": "code",
   "execution_count": 54,
   "id": "57fe188d-4a52-422b-bb10-1f4f320b3f2a",
   "metadata": {},
   "outputs": [
    {
     "data": {
      "text/plain": [
       "array([[[ 0,  1,  2,  3,  4,  5,  6,  7],\n",
       "        [ 8,  9, 10, 11, 12, 13, 14, 15]]])"
      ]
     },
     "execution_count": 54,
     "metadata": {},
     "output_type": "execute_result"
    }
   ],
   "source": [
    "temp_arr = np.arange(16)\n",
    "temp_arr.reshape(1, 2, 8)"
   ]
  },
  {
   "cell_type": "code",
   "execution_count": 57,
   "id": "07ffcade-37d4-43b4-a33c-8c39a7239e44",
   "metadata": {},
   "outputs": [],
   "source": [
    "temp_arr = np.arange(16)\n",
    "# temp_arr.reshape(2, 2, 8) -> 16 사이즈와 맞지 않아서 오류남"
   ]
  },
  {
   "cell_type": "code",
   "execution_count": 61,
   "id": "5156089c-c1c3-4458-ae5c-b69f73d317f1",
   "metadata": {},
   "outputs": [
    {
     "name": "stdout",
     "output_type": "stream",
     "text": [
      "[0.4443]\n",
      "[0.44444433]\n",
      "[0.44444433]\n"
     ]
    }
   ],
   "source": [
    "# 비트의 중요성\n",
    "a16 = np.array([1.333333], dtype = np.float16)\n",
    "a32 = np.array([1.333333], dtype = np.float32)\n",
    "a64 = np.array([1.333333], dtype = np.float64)\n",
    "print(a16/3)\n",
    "print(a32/3)\n",
    "print(a64/3)"
   ]
  },
  {
   "cell_type": "code",
   "execution_count": 65,
   "id": "48e89db6-20f2-4e97-9578-372dff74d69c",
   "metadata": {},
   "outputs": [
    {
     "name": "stderr",
     "output_type": "stream",
     "text": [
      "/var/folders/4t/lxzd9js10cb1w262tdv6bk740000gn/T/ipykernel_34590/285127068.py:2: RuntimeWarning: divide by zero encountered in divide\n",
      "  arr/0\n"
     ]
    },
    {
     "data": {
      "text/plain": [
       "array([-inf,  inf, -inf])"
      ]
     },
     "execution_count": 65,
     "metadata": {},
     "output_type": "execute_result"
    }
   ],
   "source": [
    "arr = np.array([-1, 2, -3])\n",
    "arr/0 \n",
    "# 0으로 나눌 때 오류남 "
   ]
  },
  {
   "cell_type": "markdown",
   "id": "499760ab-5e6b-4f7c-aa56-a0fa7f08d86a",
   "metadata": {},
   "source": [
    "결측치\n",
    "- Missing Values : 잃어버린 값\n",
    "- nan : Not a Number -> 아직 정의되지 않은 숫자"
   ]
  },
  {
   "cell_type": "code",
   "execution_count": 67,
   "id": "deecd09f-ad51-4466-931b-a3edf9f32d65",
   "metadata": {},
   "outputs": [
    {
     "name": "stdout",
     "output_type": "stream",
     "text": [
      "nan <class 'float'>\n",
      "nan <class 'float'>\n",
      "nan <class 'float'>\n"
     ]
    }
   ],
   "source": [
    "print(np.nan, type(np.nan))\n",
    "print(np.nan, type(np.inf))\n",
    "print(-np.nan, type(-np.nan))"
   ]
  },
  {
   "cell_type": "code",
   "execution_count": 69,
   "id": "d19106f4-75f2-42d0-9e11-0923b1ddd715",
   "metadata": {},
   "outputs": [
    {
     "name": "stdout",
     "output_type": "stream",
     "text": [
      "[nan nan nan]\n",
      "[inf inf inf]\n"
     ]
    }
   ],
   "source": [
    "# 에러가 아니지만, 결측값이 존재하므로 나타나는 값 (결측값 혹은 무한대값)\n",
    "arr = np.array([-1, 2, -3])\n",
    "print(arr + np.nan)\n",
    "print(arr + np.inf)"
   ]
  },
  {
   "cell_type": "markdown",
   "id": "a22391ce-c11d-4b29-8456-633bc8243720",
   "metadata": {},
   "source": [
    "# 인덱싱 & 슬라이싱"
   ]
  },
  {
   "cell_type": "code",
   "execution_count": 70,
   "id": "6bf8f83a-decd-4060-ac43-97fe4b80e4dc",
   "metadata": {},
   "outputs": [
    {
     "data": {
      "text/plain": [
       "array([1, 2, 3, 4])"
      ]
     },
     "execution_count": 70,
     "metadata": {},
     "output_type": "execute_result"
    }
   ],
   "source": [
    "arr = np.arange(10)\n",
    "arr[1:5]"
   ]
  },
  {
   "cell_type": "code",
   "execution_count": 77,
   "id": "dbf6bdb9-91b9-4467-98ba-e2441b309208",
   "metadata": {},
   "outputs": [
    {
     "data": {
      "text/plain": [
       "np.int64(1)"
      ]
     },
     "execution_count": 77,
     "metadata": {},
     "output_type": "execute_result"
    }
   ],
   "source": [
    "# arr = np.arange(10).reshape(2,5)\n",
    "arr = np.arange(10).reshape(2,5)\n",
    "arr[0][1]"
   ]
  },
  {
   "cell_type": "code",
   "execution_count": 82,
   "id": "8e7e4e80-6d1f-4671-8dd1-80e919dcc220",
   "metadata": {},
   "outputs": [],
   "source": [
    "arr = np.arange(10000).reshape(100,100)\n",
    "# arr[0:4][0:1]"
   ]
  },
  {
   "cell_type": "code",
   "execution_count": 86,
   "id": "789fcd66-5f5b-4408-8b57-cc663c160f5b",
   "metadata": {},
   "outputs": [
    {
     "data": {
      "text/plain": [
       "array([[0, 1],\n",
       "       [2, 3]])"
      ]
     },
     "execution_count": 86,
     "metadata": {},
     "output_type": "execute_result"
    }
   ],
   "source": [
    "arr = np.arange(4).reshape(2,2)\n",
    "arr[:2]"
   ]
  },
  {
   "cell_type": "code",
   "execution_count": 112,
   "id": "2223eb94-42c9-4dd3-a0a5-313a42f41de5",
   "metadata": {},
   "outputs": [
    {
     "data": {
      "text/plain": [
       "array([[ 0,  1,  2,  3,  4],\n",
       "       [ 5,  6,  7,  8,  9],\n",
       "       [10, 11, 12, 13, 14],\n",
       "       [15, 16, 17, 18, 19]])"
      ]
     },
     "execution_count": 112,
     "metadata": {},
     "output_type": "execute_result"
    }
   ],
   "source": [
    "arr = np.arange(20).reshape(4, 5)\n",
    "arr"
   ]
  },
  {
   "cell_type": "code",
   "execution_count": 113,
   "id": "d0c3b84b-f4c4-4bb1-a8bd-0837ff2f013d",
   "metadata": {},
   "outputs": [
    {
     "data": {
      "text/plain": [
       "array([[ 7,  8,  9],\n",
       "       [12, 13, 14],\n",
       "       [17, 18, 19]])"
      ]
     },
     "execution_count": 113,
     "metadata": {},
     "output_type": "execute_result"
    }
   ],
   "source": [
    "# [행슬라이싱, 열슬라이싱] \n",
    "# arr[1:4, 2:5] or arr[1:, 2:]\n",
    "\n",
    "arr[1:4, 2:5]"
   ]
  },
  {
   "cell_type": "code",
   "execution_count": 111,
   "id": "8481f63e-6a3d-4ac0-b7d1-3b3e941797d1",
   "metadata": {},
   "outputs": [
    {
     "data": {
      "text/plain": [
       "array([[ 7,  8,  9],\n",
       "       [12, 13, 14],\n",
       "       [17, 18, 19]])"
      ]
     },
     "execution_count": 111,
     "metadata": {},
     "output_type": "execute_result"
    }
   ],
   "source": [
    "arr[1:, 2:]"
   ]
  },
  {
   "cell_type": "code",
   "execution_count": 115,
   "id": "a45619fb-f44d-45b8-adf7-cc7dd91b32f1",
   "metadata": {},
   "outputs": [
    {
     "data": {
      "text/plain": [
       "array([[ 8,  9],\n",
       "       [13, 14],\n",
       "       [18, 19]])"
      ]
     },
     "execution_count": 115,
     "metadata": {},
     "output_type": "execute_result"
    }
   ],
   "source": [
    "# arr[행, 열]\n",
    "arr[1:, 3:]"
   ]
  },
  {
   "cell_type": "markdown",
   "id": "ecec0016-913f-4687-b7d0-687c0ebc2281",
   "metadata": {},
   "source": [
    "# 브로드캐스팅 연산\n",
    "- 받은 행렬의 크기가 다른 경우가 많음\n",
    "- 크기가 다른 배열 간의 연산도 자동으로 맞춰서 처리하는 연산법"
   ]
  },
  {
   "cell_type": "code",
   "execution_count": 116,
   "id": "71a2e940-e831-488d-9d2d-0eb1769a5a6c",
   "metadata": {},
   "outputs": [
    {
     "data": {
      "text/plain": [
       "array([2, 4, 6])"
      ]
     },
     "execution_count": 116,
     "metadata": {},
     "output_type": "execute_result"
    }
   ],
   "source": [
    "a = np.array([1, 2, 3])\n",
    "b = np.array([1, 2, 3])\n",
    "a + b"
   ]
  },
  {
   "cell_type": "code",
   "execution_count": 119,
   "id": "6917076d-23ed-4e13-a458-0dd6fcf4daef",
   "metadata": {},
   "outputs": [
    {
     "data": {
      "text/plain": [
       "array([4., 5., 6.])"
      ]
     },
     "execution_count": 119,
     "metadata": {},
     "output_type": "execute_result"
    }
   ],
   "source": [
    "a = np.array([1, 2, 3])\n",
    "b = 3.0  # [3.0, 3.0, 3.0] 형태의 1차원 배열 생성\n",
    "a + b"
   ]
  },
  {
   "cell_type": "code",
   "execution_count": 120,
   "id": "eb23ec47-f702-46e5-b94c-1cb78171eaf4",
   "metadata": {},
   "outputs": [
    {
     "name": "stdout",
     "output_type": "stream",
     "text": [
      "[[11 22]\n",
      " [13 24]]\n"
     ]
    }
   ],
   "source": [
    "A = np.array([[1, 2], [3, 4]])\n",
    "B = np.array([10, 20])\n",
    "\n",
    "print(A + B)  # B가 A의 각 행에 더해짐 (브로드캐스팅)"
   ]
  },
  {
   "cell_type": "code",
   "execution_count": null,
   "id": "c6d15183-9cfc-4e5b-a5b0-4bfd2dc0205e",
   "metadata": {},
   "outputs": [],
   "source": []
  }
 ],
 "metadata": {
  "kernelspec": {
   "display_name": "Python 3 (ipykernel)",
   "language": "python",
   "name": "python3"
  },
  "language_info": {
   "codemirror_mode": {
    "name": "ipython",
    "version": 3
   },
   "file_extension": ".py",
   "mimetype": "text/x-python",
   "name": "python",
   "nbconvert_exporter": "python",
   "pygments_lexer": "ipython3",
   "version": "3.12.6"
  }
 },
 "nbformat": 4,
 "nbformat_minor": 5
}
