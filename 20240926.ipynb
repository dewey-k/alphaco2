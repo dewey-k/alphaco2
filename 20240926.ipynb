{
 "cells": [
  {
   "cell_type": "markdown",
   "id": "a68b59ec-4341-48e0-b19b-64dd313c5615",
   "metadata": {},
   "source": [
    "# 클래스 선언"
   ]
  },
  {
   "cell_type": "code",
   "execution_count": 24,
   "id": "5f0a8c4c-5b6a-4b50-95fc-ac3164df587f",
   "metadata": {},
   "outputs": [],
   "source": [
    "class Bicycle():\n",
    "    pass"
   ]
  },
  {
   "cell_type": "markdown",
   "id": "fe6babea-d8ce-4608-aaa6-06f3536218c6",
   "metadata": {},
   "source": [
    "### 클래스 생성 후 객체 생성"
   ]
  },
  {
   "cell_type": "code",
   "execution_count": 27,
   "id": "9f300fe6-e41f-4e72-be99-9cba7f5c6f95",
   "metadata": {},
   "outputs": [
    {
     "data": {
      "text/plain": [
       "<__main__.Bicycle at 0x1068b5c40>"
      ]
     },
     "execution_count": 27,
     "metadata": {},
     "output_type": "execute_result"
    }
   ],
   "source": [
    "my_bicycle = Bicycle()\n",
    "my_bicycle"
   ]
  },
  {
   "cell_type": "markdown",
   "id": "00f63714-73cf-4f46-b5b2-8c8cf6ec8677",
   "metadata": {},
   "source": [
    "### 클래스 변수 정의"
   ]
  },
  {
   "cell_type": "code",
   "execution_count": 7,
   "id": "75423fec-eabd-41ec-af49-f6defc740bee",
   "metadata": {},
   "outputs": [
    {
     "name": "stdout",
     "output_type": "stream",
     "text": [
      "26\n"
     ]
    }
   ],
   "source": [
    "my_bicycle.wheel_size = 26\n",
    "my_bicycle.color = \"black\"\n",
    "print(my_bicycle.wheel_size)"
   ]
  },
  {
   "cell_type": "code",
   "execution_count": 4,
   "id": "ab11a24a-420a-4fa6-bae7-681faa719699",
   "metadata": {},
   "outputs": [
    {
     "name": "stdout",
     "output_type": "stream",
     "text": [
      "책 01호\n",
      "title Streamlit author Evan pages 560 price 40000 discount 10\n",
      "책 02호\n",
      "title pandas author 성신 pages 400 price 30000 discount 20\n"
     ]
    }
   ],
   "source": [
    "class 책:\n",
    "    title = None\n",
    "    author = None\n",
    "    pages = 0\n",
    "    price = 0\n",
    "    discount = 0\n",
    "\n",
    "책01호 = 책()\n",
    "책01호.title = \"Streamlit\"\n",
    "책01호.author = \"Evan\"\n",
    "책01호.pages = 560\n",
    "책01호.price = 40000\n",
    "책01호.discount = 10\n",
    "\n",
    "print('책 01호')\n",
    "print('title', 책01호.title, 'author', 책01호.author, 'pages', 책01호.pages, 'price', 책01호.price, 'discount', 책01호.discount)\n",
    "\n",
    "책02호 = 책()\n",
    "책02호.title = \"pandas\"\n",
    "책02호.author = \"성신\"\n",
    "책02호.pages = 400\n",
    "책02호.price = 30000\n",
    "책02호.discount = 20\n",
    "\n",
    "print('책 02호')\n",
    "print('title', 책02호.title, 'author', 책02호.author, 'pages', 책02호.pages, 'price', 책02호.price, 'discount', 책02호.discount)"
   ]
  },
  {
   "cell_type": "markdown",
   "id": "0ccf428c-fb43-4491-a987-13afffc7619d",
   "metadata": {},
   "source": [
    "- 위에 것은 활용도가 떨어짐\n",
    "- init 함수를 활용해서 클래스 생성"
   ]
  },
  {
   "cell_type": "code",
   "execution_count": 5,
   "id": "93be560e-be74-4989-8ad0-6453b1bd3152",
   "metadata": {},
   "outputs": [
    {
     "name": "stdout",
     "output_type": "stream",
     "text": [
      "26 black\n"
     ]
    }
   ],
   "source": [
    "class Bicycle():\n",
    "    def __init__(self, wheel_size, color):\n",
    "        self.wheel_size = wheel_size\n",
    "        self.color = color\n",
    "\n",
    "my_bicycle = Bicycle(26, 'black') #객체 생성과 동시에 속성값을 지정\n",
    "print(my_bicycle.wheel_size, my_bicycle.color)"
   ]
  },
  {
   "cell_type": "code",
   "execution_count": 29,
   "id": "e8c8247a-0247-46db-bda4-b0fb23ce9924",
   "metadata": {},
   "outputs": [
    {
     "name": "stdout",
     "output_type": "stream",
     "text": [
      "26 black\n",
      "자전거 : 시속60 킬로미터로 전진\n"
     ]
    }
   ],
   "source": [
    "class Bicycle():\n",
    "    def __init__(self, wheel_size, color):\n",
    "        self.wheel_size = wheel_size\n",
    "        self.color = color\n",
    "\n",
    "    # 메서드\n",
    "    def move(self, speed):\n",
    "        print(f'자전거 : 시속{speed} 킬로미터로 전진')\n",
    "\n",
    "my_bicycle = Bicycle(26, 'black')\n",
    "print(my_bicycle.wheel_size, my_bicycle.color)\n",
    "\n",
    "my_bicycle.move(60)"
   ]
  },
  {
   "cell_type": "markdown",
   "id": "efc51687-bd1e-41da-ad78-b8fa5fdbb295",
   "metadata": {},
   "source": [
    "## 문제\n",
    "- 클래스명 Person\n",
    "    + 속성 : 이름(name), 나이(age)\n",
    "    + greet() 메서드 생성"
   ]
  },
  {
   "cell_type": "code",
   "execution_count": 45,
   "id": "06bce30a-b96b-4814-996e-e224640fe788",
   "metadata": {},
   "outputs": [
    {
     "name": "stdout",
     "output_type": "stream",
     "text": [
      "dewey 29\n",
      "안녕하세요 저는 dewey이고, 현재 29살 입니다. 인사는 헤이브로라고 하세요.\n"
     ]
    }
   ],
   "source": [
    "class Person():\n",
    "    def __init__(self, name, age):\n",
    "        self.name = name # 이름 속성\n",
    "        self.age = age # 나이 속성\n",
    "\n",
    "    #메서드\n",
    "    def greet(self, bro):\n",
    "        print(f'안녕하세요 저는 {self.name}이고, 현재 {self.age}살 입니다. 인사는 {bro}라고 하세요.')\n",
    "\n",
    "my_person = Person(\"dewey\", 29)\n",
    "print(my_person.name, my_person.age)\n",
    "\n",
    "my_person.greet(\"헤이브로\")"
   ]
  },
  {
   "cell_type": "code",
   "execution_count": 46,
   "id": "80526d98-fe41-470f-90e2-c049afb6dcf6",
   "metadata": {},
   "outputs": [
    {
     "name": "stdout",
     "output_type": "stream",
     "text": [
      "유나 11\n",
      "안녕하세요 저는 유나이고, 현재 11살 입니다. 인사는 안녕라고 하세요.\n"
     ]
    }
   ],
   "source": [
    "yuna = Person(\"유나\", 11)\n",
    "print(yuna.name, yuna.age)\n",
    "yuna.greet(\"안녕\")"
   ]
  },
  {
   "cell_type": "code",
   "execution_count": 51,
   "id": "08bd4cbd-d1ca-44e5-9e0c-d13376696915",
   "metadata": {},
   "outputs": [
    {
     "name": "stdout",
     "output_type": "stream",
     "text": [
      "안녕하세요, 친구님. 저는 요원이고, 현재 14살 입니다.\n"
     ]
    }
   ],
   "source": [
    "class Person():\n",
    "    def __init__(self, name, age):\n",
    "        self.name = name # 이름 속성\n",
    "        self.age = age # 나이 속성\n",
    "\n",
    "    #메서드\n",
    "    def greet(self, bro, other_name):\n",
    "        bro = None\n",
    "        print(f'안녕하세요, {other_name}님. 저는 {self.name}이고, 현재 {self.age}살 입니다.')\n",
    "\n",
    "yowon = Person(\"요원\", 14)\n",
    "yowon.greet(bro = \"안녕\" ,other_name = \"친구\")"
   ]
  },
  {
   "cell_type": "code",
   "execution_count": 43,
   "id": "2944d189-18a3-4e74-8bea-1293256f58ca",
   "metadata": {},
   "outputs": [
    {
     "name": "stdout",
     "output_type": "stream",
     "text": [
      "자전거 : 시속 30 킬로미터로 전진\n",
      "26, black의 특성을 가진 자전거님 정지하세요\n"
     ]
    }
   ],
   "source": [
    "class Bicycle():\n",
    "    def __init__(self, wheel_size, color):\n",
    "        self.wheel_size = wheel_size\n",
    "        self.color = color\n",
    "\n",
    "    #메서드\n",
    "    def move(self, speed):\n",
    "        print(f'자전거 : 시속 {speed} 킬로미터로 전진')\n",
    "\n",
    "    def stop(self):\n",
    "        print(f\"{self.wheel_size}, {self.color}의 특성을 가진 자전거님 정지하세요\")\n",
    "\n",
    "my_bicycle = Bicycle(26, 'black')\n",
    "my_bicycle.move(30)\n",
    "my_bicycle.stop()"
   ]
  },
  {
   "cell_type": "markdown",
   "id": "6e098789-eab3-4601-89d6-23ff55278090",
   "metadata": {},
   "source": [
    "- 클래스를 만든다고 할 때, 클래스명 특성과 행동을 정의하는 것이 핵심 포인트\n",
    "- 시각화를 그리려고 함 (버전 1.0대)\n",
    "  + 도면 클래스 : 다양한 속성과 함수들이 존재\n",
    "  + 그리기 도구 클래스 : 다양한 속성과 함수들이 존재\n",
    "  + 막대그래프 클래스\n",
    "  + 파이차트 클래스\n",
    "  + 3D 그리기 클래스\n",
    "\n",
    "- 3D 클래스"
   ]
  },
  {
   "cell_type": "markdown",
   "id": "bda9f819-f7fd-4127-808f-2f02555b82a4",
   "metadata": {},
   "source": [
    "# 클래스에서 사용하는 변수"
   ]
  },
  {
   "cell_type": "code",
   "execution_count": 63,
   "id": "64eb2fba-5f55-48c1-9d39-ebeec2ef7172",
   "metadata": {},
   "outputs": [],
   "source": [
    "class Car():\n",
    "    #클래스 변수\n",
    "    instance_count = 0\n",
    "    \n",
    "    #클래스 변수 생성 및 초기화\n",
    "\n",
    "    def __init__(self, size, color):\n",
    "        self.size = size #인스턴스 변수 생성 및 초기화\n",
    "        self.color = color\n",
    "        Car.instance_count = Car.instance_count + 1 #클래스 변수를 이용하는 방법\n",
    "        print(f'자동차 객체의 수 : {Car.instance_count}')\n",
    "\n",
    "    #메서드\n",
    "    def move(self):\n",
    "        print(f'자동차 {self.size}, {self.color}가 움직입니다.')\n",
    "\n"
   ]
  },
  {
   "cell_type": "code",
   "execution_count": 91,
   "id": "0ba4c3eb-3a2f-4184-af65-46bf20fb034e",
   "metadata": {},
   "outputs": [
    {
     "name": "stdout",
     "output_type": "stream",
     "text": [
      "자동차 객체의 수 : 82\n",
      "자동차 객체의 수 : 83\n",
      "자동차 객체의 수 : 84\n"
     ]
    }
   ],
   "source": [
    "car1 = Car('small', 'white')\n",
    "car2 = Car('big', 'black')\n",
    "car3 = Car('medium', 'yellow')\n",
    "\n",
    "#클래스 변수는 누적되면서 업데이트됨"
   ]
  },
  {
   "cell_type": "markdown",
   "id": "d4cc2dd3-6e3e-4f30-8d1d-296318ad9ce7",
   "metadata": {},
   "source": [
    "## 상속의 기본 형태"
   ]
  },
  {
   "cell_type": "code",
   "execution_count": null,
   "id": "824b921a-4de1-49ac-93fa-d7824cc676a1",
   "metadata": {},
   "outputs": [],
   "source": [
    "class 상위클래스:\n",
    "    pass\n",
    "\n",
    "class 하위클래스(상위클래스):\n",
    "    pass"
   ]
  },
  {
   "cell_type": "code",
   "execution_count": 92,
   "id": "b01cb4cf-c912-40dd-a2a8-b799ddea3f5e",
   "metadata": {},
   "outputs": [],
   "source": [
    "class 동물:\n",
    "\n",
    "    name = \"\"\n",
    "\n",
    "    def 음식먹기(self):\n",
    "        print(\"저는 음식을 먹습니다.\")"
   ]
  },
  {
   "cell_type": "code",
   "execution_count": 93,
   "id": "9fd66cdb-440d-4457-a6bd-4cf06ccb538a",
   "metadata": {},
   "outputs": [
    {
     "name": "stdout",
     "output_type": "stream",
     "text": [
      "저는 음식을 먹습니다.\n"
     ]
    }
   ],
   "source": [
    "동물1 = 동물()\n",
    "동물1.음식먹기()"
   ]
  },
  {
   "cell_type": "code",
   "execution_count": 102,
   "id": "222b2f33-8069-4cd5-bf7f-5fa6cd822e1b",
   "metadata": {},
   "outputs": [],
   "source": [
    "#상속을 받는다는 것은 상위 클래스의 속성, 메서드 모두 전해받는 것\n",
    "\n",
    "class 강아지(동물):\n",
    "\n",
    "    def 자기소개(self):\n",
    "        print(f'내 이름은 {self.name}')"
   ]
  },
  {
   "cell_type": "code",
   "execution_count": 101,
   "id": "75c74c7a-ede6-40fa-9f7e-49b35d35cd33",
   "metadata": {},
   "outputs": [
    {
     "name": "stdout",
     "output_type": "stream",
     "text": [
      "저는 음식을 먹습니다.\n",
      "내 이름은 라이\n"
     ]
    }
   ],
   "source": [
    "강아지1 = 강아지()\n",
    "강아지1.name = \"라이\"\n",
    "강아지1.음식먹기()\n",
    "강아지1.자기소개()"
   ]
  },
  {
   "cell_type": "markdown",
   "id": "9b0e9c71-8ce2-4fdc-b759-a21e7892d0c2",
   "metadata": {},
   "source": [
    "- 상속은 is-a 관계\n",
    "    + Car is a vehicle -> 상위클래스 : vehicle, 하위클래스 Car\n",
    "    + Apple is a Fruit -> 상위클래스 : Fruit, 하위클래스 Apple\n",
    "    + Cat is an Animal -> 상위클래스 : Animal, 하위클래스 Cat"
   ]
  },
  {
   "cell_type": "markdown",
   "id": "df64b940-2a95-4382-84c5-da83991613ec",
   "metadata": {},
   "source": [
    "## 다중상속"
   ]
  },
  {
   "cell_type": "code",
   "execution_count": 106,
   "id": "5a308e1e-3ee5-4c3b-8e15-24c1459cab06",
   "metadata": {},
   "outputs": [],
   "source": [
    "class 상위클래스1:\n",
    "    pass\n",
    "\n",
    "class 상위클래스2:\n",
    "    pass\n",
    "\n",
    "class 하위클래스(상위클래스1, 상위클래스2):\n",
    "    pass"
   ]
  },
  {
   "cell_type": "code",
   "execution_count": 109,
   "id": "6b35b5e9-23a9-4002-9d1a-78c6ee33d308",
   "metadata": {},
   "outputs": [],
   "source": [
    "# 이런 느낌\n",
    "\n",
    "class 포유류:\n",
    "    pass\n",
    "\n",
    "class 날개동물:\n",
    "    pass\n",
    "\n",
    "class 박쥐(포유류, 날개동물):\n",
    "    pass"
   ]
  },
  {
   "cell_type": "code",
   "execution_count": 110,
   "id": "aa621d02-46be-45c5-a800-524cd24abb2e",
   "metadata": {},
   "outputs": [],
   "source": [
    "class 포유류:\n",
    "    def 포유류_정보(self):\n",
    "        print('포유류의 특징은 새끼를 낳는다.')\n",
    "\n",
    "class 날개동물:\n",
    "    def 날개동물_정보(self):\n",
    "        print('날개를 가진 동물은 날 수 있다.')\n",
    "\n",
    "class 박쥐(포유류, 날개동물):\n",
    "    pass"
   ]
  },
  {
   "cell_type": "code",
   "execution_count": 113,
   "id": "d009878f-eac6-4ac0-96d2-2dea7f046b12",
   "metadata": {},
   "outputs": [
    {
     "name": "stdout",
     "output_type": "stream",
     "text": [
      "포유류의 특징은 새끼를 낳는다.\n",
      "날개를 가진 동물은 날 수 있다.\n"
     ]
    }
   ],
   "source": [
    "b1 = 박쥐()\n",
    "b1.포유류_정보()\n",
    "b1.날개동물_정보()"
   ]
  },
  {
   "cell_type": "markdown",
   "id": "fa1e6c9b-7bb4-412d-b674-0ae27c0bf1b0",
   "metadata": {},
   "source": [
    "# 클래스 설계 하다보면 부딪히는 흔한 문제\n",
    "- 메서드명이 같을 때\n",
    "- 오버라이딩, 다형성"
   ]
  },
  {
   "cell_type": "markdown",
   "id": "5ac227fc-721c-4183-9c18-56cf0b55d150",
   "metadata": {},
   "source": [
    "- 속성 사용하기\n",
    "    + 'self.make', 'self.model', 'self.year', 'self.kilometer_reading'\n",
    "    + 객체가 생성될 때 속성값이 초기화됩니다.\n",
    "- self의 의미\n",
    "  "
   ]
  },
  {
   "cell_type": "markdown",
   "id": "704c1216-79f7-4894-927d-034757b1348a",
   "metadata": {},
   "source": [
    "### 연습문제\n",
    "\n",
    "- class 만들기\n",
    "- 다음과 같은 요건의 Car 클래스를 만들어봅니다. (car_class.py 참조)\n",
    "- 초기화 메서드 : __init__.py\n",
    "    + make : 제조사\n",
    "    + model : 모델명\n",
    "    + year : 연식\n",
    "    + kilometer_reading : 주행거리 (초깃값: 0)\n",
    "- 주요 메서드\n",
    "    + get_description, read kilometer\n",
    "    + update_kilometer, increment_kilometer\n"
   ]
  },
  {
   "cell_type": "code",
   "execution_count": 270,
   "id": "6a277cc4-1341-465d-907f-515151ca7d94",
   "metadata": {},
   "outputs": [],
   "source": [
    "class Car:\n",
    "    # __init__ 메서드: 객체가 생성될 때 호출되며 속성을 초기화합니다.\n",
    "    def __init__(self, make, model, year):\n",
    "        self.make = make  # 자동차 제조사\n",
    "        self.model = model  # 자동차 모델\n",
    "        self.year = year  # 제조 연도\n",
    "        self.kilometer_reading = 0  # 주행 거리 (초기값 0)\n",
    "\n",
    "    # 자동차의 전체 설명을 반환하는 메서드\n",
    "    def get_description(self):\n",
    "        return f\"제조사 : {self.make} 모델명 : {self.model} 연식 : {self.year}\"\n",
    "\n",
    "    # 현재 주행 거리 출력하는 메서드\n",
    "    def read_kilometer(self):\n",
    "        print(f\"이 자동차의 현재 주행 거리는 {self.kilometer_reading} 킬로미터입니다.\")\n",
    "    \n",
    "    # 주행거리 업데이트\n",
    "    # 새로운 값이 기존 값보다 클 경우에만 업데이트\n",
    "    def update_kilometer(self, kilometers):\n",
    "        if kilometers >= self.kilometer_reading:\n",
    "            self.kilometer_reading = kilometers\n",
    "            print(f\"업데이트 확인 : {self.kilometer_reading} 킬로미터\")\n",
    "        else:\n",
    "            print(f\"현재 : {self.kilometer_reading}, 다시 입력해주세용\") \n",
    "\n",
    "    # 주행 거리를 증가시키는 메서드\n",
    "    def increment_kilometer(self, kilometers):\n",
    "        if kilometers > 0:\n",
    "            self.kilometer_reading += kilometers\n",
    "            print(f\"주행 거리가 {kilometers}킬로미터 증가되었습니다. 현재 주행 거리: {self.kilometer_reading} 킬로미터.\")\n",
    "        else:\n",
    "            print(\"음수가 입력되었습니다. 양수로 입력해주세요\")"
   ]
  },
  {
   "cell_type": "code",
   "execution_count": 300,
   "id": "2dfeb09a-7244-4c61-a116-304b397cbc4b",
   "metadata": {},
   "outputs": [
    {
     "name": "stdout",
     "output_type": "stream",
     "text": [
      "2023 Volve xc90\n",
      "이 자동차의 현재 주행 거리는 0 킬로미터입니다.\n",
      "업데이트 확인 : 200 킬로미터\n",
      "이 자동차의 현재 주행 거리는 200 킬로미터입니다.\n"
     ]
    }
   ],
   "source": [
    "my_car = Car(\"Volve\", \"xc90\", 2023)\n",
    "description = my_car.get_description()\n",
    "print(description)\n",
    "my_car.read_kilometer()\n",
    "my_car.increment_kilometer(100)\n",
    "my_car.update_kilometer(200)\n",
    "my_car.read_kilometer()"
   ]
  },
  {
   "cell_type": "code",
   "execution_count": 296,
   "id": "447869ca-9840-4516-9d6e-e9f7f1c8d0ec",
   "metadata": {},
   "outputs": [],
   "source": [
    "class Car:\n",
    "    \"\"\"\n",
    "    자동차를 나타내는 클래스.\n",
    "    \n",
    "    속성:\n",
    "        make (str): 자동차 제조사.\n",
    "        model (str): 자동차 모델.\n",
    "        year (int): 제조 연도.\n",
    "        kilometer_reading (int): 주행 거리 (초기값 0).\n",
    "    \"\"\"\n",
    "    \n",
    "    def __init__(self, make, model, year):\n",
    "        \"\"\"\n",
    "        객체가 생성될 때 호출되는 초기화 메서드.\n",
    "\n",
    "        Args:\n",
    "            make (str): 자동차 제조사.\n",
    "            model (str): 자동차 모델.\n",
    "            year (int): 제조 연도.\n",
    "        \"\"\"\n",
    "        self.make = make  # 자동차 제조사\n",
    "        self.model = model  # 자동차 모델\n",
    "        self.year = year  # 제조 연도\n",
    "        self.kilometer_reading = 0  # 주행 거리 (초기값 0)\n",
    "\n",
    "    def get_description(self):\n",
    "        \"\"\"\n",
    "        자동차의 전체 설명을 반환하는 메서드.\n",
    "\n",
    "        Returns:\n",
    "            str: 제조 연도, 제조사, 모델을 포함한 자동차 설명.\n",
    "        \"\"\"\n",
    "        return f\"{self.year} {self.make} {self.model}\"\n",
    "\n",
    "    def read_kilometer(self):\n",
    "        \"\"\"\n",
    "        현재 주행 거리를 출력하는 메서드.\n",
    "        \"\"\"\n",
    "        print(f\"이 자동차의 현재 주행 거리는 {self.kilometer_reading} 킬로미터입니다.\")\n",
    "    \n",
    "    def update_kilometer(self, kilometers):\n",
    "        \"\"\"\n",
    "        주행 거리를 업데이트하는 메서드. 새로운 값이 기존 값보다 클 경우에만 업데이트.\n",
    "\n",
    "        Args:\n",
    "            kilometers (int): 업데이트할 주행 거리.\n",
    "\n",
    "        Prints:\n",
    "            str: 업데이트 확인 메시지 또는 오류 메시지.\n",
    "        \"\"\"\n",
    "        if kilometers >= self.kilometer_reading:\n",
    "            self.kilometer_reading = kilometers\n",
    "            print(f\"업데이트 확인 : {self.kilometer_reading} 킬로미터\")\n",
    "        else:\n",
    "            print(f\"현재 : {self.kilometer_reading}, 다시 입력해주세용\") \n",
    "\n",
    "    def increment_kilometer(self, kilometers):\n",
    "        \"\"\"\n",
    "        주행 거리를 증가시키는 메서드. 음수가 입력될 경우 경고 메시지를 출력.\n",
    "\n",
    "        Args:\n",
    "            kilometers (int): 증가시킬 주행 거리.\n",
    "\n",
    "        Prints:\n",
    "            str: 주행 거리를 업데이트하거나, 오류 메시지를 출력.\n",
    "        \"\"\"\n",
    "        if kilometers > 0:\n",
    "            self.kilometer_reading += kilometers\n",
    "        else:\n",
    "            print(\"음수가 입력되었습니다. 양수로 입력해주세요\") "
   ]
  },
  {
   "cell_type": "code",
   "execution_count": 233,
   "id": "31304a70-2ece-45a0-8fde-15f1b223989a",
   "metadata": {},
   "outputs": [
    {
     "name": "stdout",
     "output_type": "stream",
     "text": [
      "\n",
      "    자동차를 나타내는 클래스.\n",
      "    \n",
      "    속성:\n",
      "        make (str): 자동차 제조사.\n",
      "        model (str): 자동차 모델.\n",
      "        year (int): 제조 연도.\n",
      "        kilometer_reading (int): 주행 거리 (초기값 0).\n",
      "    \n"
     ]
    }
   ],
   "source": [
    "my_car = Car(\"현대\", \"아반뗴\", 2024)\n",
    "print(my_car.__doc__) # 설명"
   ]
  },
  {
   "cell_type": "code",
   "execution_count": 232,
   "id": "4d2ab857-8e5a-4735-9a8a-d556e1ae71d8",
   "metadata": {},
   "outputs": [
    {
     "name": "stdout",
     "output_type": "stream",
     "text": [
      "Help on Car in module __main__ object:\n",
      "\n",
      "class Car(builtins.object)\n",
      " |  Car(make, model, year)\n",
      " |\n",
      " |  자동차를 나타내는 클래스.\n",
      " |\n",
      " |  속성:\n",
      " |      make (str): 자동차 제조사.\n",
      " |      model (str): 자동차 모델.\n",
      " |      year (int): 제조 연도.\n",
      " |      kilometer_reading (int): 주행 거리 (초기값 0).\n",
      " |\n",
      " |  Methods defined here:\n",
      " |\n",
      " |  __init__(self, make, model, year)\n",
      " |      객체가 생성될 때 호출되는 초기화 메서드.\n",
      " |\n",
      " |      Args:\n",
      " |          make (str): 자동차 제조사.\n",
      " |          model (str): 자동차 모델.\n",
      " |          year (int): 제조 연도.\n",
      " |\n",
      " |  get_description(self)\n",
      " |      자동차의 전체 설명을 반환하는 메서드.\n",
      " |\n",
      " |      Returns:\n",
      " |          str: 제조 연도, 제조사, 모델을 포함한 자동차 설명.\n",
      " |\n",
      " |  increment_kilometer(self, kilometers)\n",
      " |      주행 거리를 증가시키는 메서드. 음수가 입력될 경우 경고 메시지를 출력.\n",
      " |\n",
      " |      Args:\n",
      " |          kilometers (int): 증가시킬 주행 거리.\n",
      " |\n",
      " |      Prints:\n",
      " |          str: 주행 거리를 업데이트하거나, 오류 메시지를 출력.\n",
      " |\n",
      " |  read_kilometer(self)\n",
      " |      현재 주행 거리를 출력하는 메서드.\n",
      " |\n",
      " |  update_kilometer(self, kilometers)\n",
      " |      주행 거리를 업데이트하는 메서드. 새로운 값이 기존 값보다 클 경우에만 업데이트.\n",
      " |\n",
      " |      Args:\n",
      " |          kilometers (int): 업데이트할 주행 거리.\n",
      " |\n",
      " |      Prints:\n",
      " |          str: 업데이트 확인 메시지 또는 오류 메시지.\n",
      " |\n",
      " |  ----------------------------------------------------------------------\n",
      " |  Data descriptors defined here:\n",
      " |\n",
      " |  __dict__\n",
      " |      dictionary for instance variables\n",
      " |\n",
      " |  __weakref__\n",
      " |      list of weak references to the object\n",
      "\n"
     ]
    }
   ],
   "source": [
    "help(my_car) # 설명서 출력"
   ]
  },
  {
   "cell_type": "code",
   "execution_count": null,
   "id": "d01c2a2a-fbf7-4fbc-b057-80d504d652b7",
   "metadata": {},
   "outputs": [],
   "source": []
  }
 ],
 "metadata": {
  "kernelspec": {
   "display_name": "Python 3 (ipykernel)",
   "language": "python",
   "name": "python3"
  },
  "language_info": {
   "codemirror_mode": {
    "name": "ipython",
    "version": 3
   },
   "file_extension": ".py",
   "mimetype": "text/x-python",
   "name": "python",
   "nbconvert_exporter": "python",
   "pygments_lexer": "ipython3",
   "version": "3.12.6"
  }
 },
 "nbformat": 4,
 "nbformat_minor": 5
}
